{
 "cells": [
  {
   "cell_type": "markdown",
   "metadata": {},
   "source": [
    "Here are a few examples of replacing loops with native numpy functions. This is often clearer (directly reflecting the formulae we're trying to implement) and often much faster to run."
   ]
  },
  {
   "cell_type": "code",
   "execution_count": 2,
   "metadata": {},
   "outputs": [],
   "source": [
    "import numpy as np"
   ]
  },
  {
   "cell_type": "code",
   "execution_count": 3,
   "metadata": {},
   "outputs": [],
   "source": [
    "np.set_printoptions(precision=2)"
   ]
  },
  {
   "cell_type": "code",
   "execution_count": 4,
   "metadata": {},
   "outputs": [
    {
     "data": {
      "text/plain": [
       "array([[-1.67, -1.63,  1.57],\n",
       "       [ 2.48,  0.82, -1.16]])"
      ]
     },
     "execution_count": 4,
     "metadata": {},
     "output_type": "execute_result"
    }
   ],
   "source": [
    "b = np.random.randn(2,3)\n",
    "b"
   ]
  },
  {
   "cell_type": "markdown",
   "metadata": {},
   "source": [
    "Let's calculate\n",
    "\n",
    "$a_{i} = \\Sigma_{j} b_{ij}$"
   ]
  },
  {
   "cell_type": "code",
   "execution_count": 5,
   "metadata": {},
   "outputs": [
    {
     "data": {
      "text/plain": [
       "(2, 3)"
      ]
     },
     "execution_count": 5,
     "metadata": {},
     "output_type": "execute_result"
    }
   ],
   "source": [
    "b.shape"
   ]
  },
  {
   "cell_type": "code",
   "execution_count": 6,
   "metadata": {},
   "outputs": [
    {
     "name": "stdout",
     "output_type": "stream",
     "text": [
      "[-1.72  2.14]\n"
     ]
    }
   ],
   "source": [
    "# Using loops\n",
    "a = np.zeros(2)\n",
    "for i in range(b.shape[0]):\n",
    "    for j in range(b.shape[1]): \n",
    "        a[i] += b[i,j]\n",
    "print(a)"
   ]
  },
  {
   "cell_type": "code",
   "execution_count": 7,
   "metadata": {},
   "outputs": [
    {
     "name": "stdout",
     "output_type": "stream",
     "text": [
      "[-1.72  2.14]\n"
     ]
    }
   ],
   "source": [
    "# Using numpy functions \n",
    "a = b.sum(axis=1)\n",
    "print(a)"
   ]
  },
  {
   "cell_type": "markdown",
   "metadata": {},
   "source": [
    "What if we'd instead wanted\n",
    "\n",
    "$a_{i} = \\Sigma_{j} b_{ji}$ ?\n",
    "\n",
    "We summed over `axis=1`, which is like summing the `j` indices for `b[i,j]`. We can sum over the first index instead with `b.sum(axis=0)`. Note that if you just write `b.sum()`, numpy will sum over *all* indices - this is a different default behaviour to Pandas' `sum()` method."
   ]
  },
  {
   "cell_type": "code",
   "execution_count": 8,
   "metadata": {},
   "outputs": [
    {
     "data": {
      "text/plain": [
       "array([ 0.82, -0.81,  0.41])"
      ]
     },
     "execution_count": 8,
     "metadata": {},
     "output_type": "execute_result"
    }
   ],
   "source": [
    "b.sum(axis=0)"
   ]
  },
  {
   "cell_type": "markdown",
   "metadata": {},
   "source": [
    "Let's calculate a dot product, which means element-wise multiplication of two arrays, and then summing the result:\n",
    "\n",
    "$a = \\Sigma_i b_{i} c_{i}$"
   ]
  },
  {
   "cell_type": "code",
   "execution_count": 18,
   "metadata": {},
   "outputs": [
    {
     "name": "stdout",
     "output_type": "stream",
     "text": [
      "[-0.21  0.    1.02] [ 0.26 -0.62  1.26]\n"
     ]
    }
   ],
   "source": [
    "b = np.random.randn(3)\n",
    "c = np.random.randn(3)\n",
    "print (b,c)"
   ]
  },
  {
   "cell_type": "code",
   "execution_count": 19,
   "metadata": {},
   "outputs": [
    {
     "name": "stdout",
     "output_type": "stream",
     "text": [
      "1.22139377366\n"
     ]
    }
   ],
   "source": [
    "# Using loops\n",
    "a = 0\n",
    "for i in range(len(b)):\n",
    "    a += b[i] * c[i]\n",
    "print(a)"
   ]
  },
  {
   "cell_type": "code",
   "execution_count": 22,
   "metadata": {},
   "outputs": [
    {
     "name": "stdout",
     "output_type": "stream",
     "text": [
      "1.22139377366\n"
     ]
    }
   ],
   "source": [
    "# Using numpy\n",
    "a = (b * c).sum()\n",
    "\n",
    "# This is the same as the more explicit\n",
    "product = b * c\n",
    "a = product.sum()\n",
    "\n",
    "print(a)\n",
    "\n",
    "# OR we could use the dot product function, np.dot(b,c)\n"
   ]
  },
  {
   "cell_type": "markdown",
   "metadata": {},
   "source": [
    "Let's do matrix multiplication. This is defined as\n",
    "\n",
    "$a_{ij} = \\Sigma_u b_{iu} c_{uj}$"
   ]
  },
  {
   "cell_type": "code",
   "execution_count": 29,
   "metadata": {},
   "outputs": [
    {
     "name": "stdout",
     "output_type": "stream",
     "text": [
      "[[ 0.6   0.64]\n",
      " [ 0.43 -0.27]\n",
      " [-0.2  -0.69]]\n",
      "[[ 1.67  0.06 -0.3 ]\n",
      " [ 1.47 -0.4   1.55]]\n"
     ]
    }
   ],
   "source": [
    "# Here i runs from 0..2, u runs from 0..1, and j runs from 0..2\n",
    "b = np.random.randn(3,2)\n",
    "c = np.random.randn(2,3)\n",
    "print(b)\n",
    "print(c)"
   ]
  },
  {
   "cell_type": "code",
   "execution_count": 31,
   "metadata": {},
   "outputs": [
    {
     "name": "stdout",
     "output_type": "stream",
     "text": [
      "[[ 1.95 -0.22  0.81]\n",
      " [ 0.33  0.13 -0.54]\n",
      " [-1.34  0.26 -1.01]]\n"
     ]
    }
   ],
   "source": [
    "# Using loops\n",
    "# This only works correctly if b.shape[1] == c.shape[0]\n",
    "a = np.zeros((b.shape[0],c.shape[1]))\n",
    "for i in range(b.shape[0]):\n",
    "    for j in range(c.shape[1]):\n",
    "        for u in range(b.shape[1]):\n",
    "            a[i,j] += b[i,u] * c[u,j]\n",
    "print(a)"
   ]
  },
  {
   "cell_type": "code",
   "execution_count": 32,
   "metadata": {},
   "outputs": [
    {
     "name": "stdout",
     "output_type": "stream",
     "text": [
      "[[ 1.95 -0.22  0.81]\n",
      " [ 0.33  0.13 -0.54]\n",
      " [-1.34  0.26 -1.01]]\n"
     ]
    }
   ],
   "source": [
    "# Using numpy's matrix multiplication function\n",
    "a = np.matmul(b,c)\n",
    "print(a)"
   ]
  },
  {
   "cell_type": "markdown",
   "metadata": {},
   "source": [
    "Let's calculate an \"outer product\", i.e. constructing a matrix by multiplying two vectors:\n",
    "\n",
    "$a_{ij} = b_i c_j$"
   ]
  },
  {
   "cell_type": "code",
   "execution_count": 20,
   "metadata": {},
   "outputs": [
    {
     "name": "stdout",
     "output_type": "stream",
     "text": [
      "[1 2] [ 2.38 -0.57 -1.72]\n"
     ]
    }
   ],
   "source": [
    "b = np.array([1, 2])  # nice round numbers to make this easier to see\n",
    "c = np.random.randn(3)\n",
    "print (b,c)"
   ]
  },
  {
   "cell_type": "code",
   "execution_count": 21,
   "metadata": {},
   "outputs": [
    {
     "name": "stdout",
     "output_type": "stream",
     "text": [
      "[[ 2.38 -0.57 -1.72]\n",
      " [ 4.76 -1.14 -3.44]]\n"
     ]
    }
   ],
   "source": [
    "# Using loops\n",
    "a = np.zeros((len(b), len(c)))\n",
    "for i in range(len(b)):\n",
    "    for j in range(len(c)):\n",
    "        a[i,j] = b[i] * c[j]\n",
    "print(a)"
   ]
  },
  {
   "cell_type": "code",
   "execution_count": 22,
   "metadata": {},
   "outputs": [
    {
     "name": "stdout",
     "output_type": "stream",
     "text": [
      "[[ 2.38 -0.57 -1.72]\n",
      " [ 4.76 -1.14 -3.44]]\n"
     ]
    }
   ],
   "source": [
    "# Using numpy\n",
    "# This is more advanced, and you probably won't need it directly in this course\n",
    "# Both b and c are 1D, and we want a 2D result. So we need to switch either\n",
    "# b or c to lie along the second dimension before we multiply\n",
    "a = b[:,np.newaxis] * c\n",
    "print(a)"
   ]
  },
  {
   "cell_type": "code",
   "execution_count": 23,
   "metadata": {},
   "outputs": [
    {
     "data": {
      "text/plain": [
       "array([[1],\n",
       "       [2]])"
      ]
     },
     "execution_count": 23,
     "metadata": {},
     "output_type": "execute_result"
    }
   ],
   "source": [
    "# This is what we did - turned b into a 'vertical' vector while c was 'horizontal'\n",
    "b[:,np.newaxis]"
   ]
  }
 ],
 "metadata": {
  "kernelspec": {
   "display_name": "Python 3",
   "language": "python",
   "name": "python3"
  },
  "language_info": {
   "codemirror_mode": {
    "name": "ipython",
    "version": 3
   },
   "file_extension": ".py",
   "mimetype": "text/x-python",
   "name": "python",
   "nbconvert_exporter": "python",
   "pygments_lexer": "ipython3",
   "version": "3.6.3"
  }
 },
 "nbformat": 4,
 "nbformat_minor": 2
}
