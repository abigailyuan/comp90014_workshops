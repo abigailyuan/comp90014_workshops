{
 "cells": [
  {
   "cell_type": "markdown",
   "metadata": {},
   "source": [
    "Here are a few examples of replacing loops with native numpy functions. This is often clearer (directly reflecting the formulae we're trying to implement) and often much faster to run."
   ]
  },
  {
   "cell_type": "code",
   "execution_count": 2,
   "metadata": {},
   "outputs": [],
   "source": [
    "import numpy as np"
   ]
  },
  {
   "cell_type": "code",
   "execution_count": 11,
   "metadata": {},
   "outputs": [
    {
     "data": {
      "text/plain": [
       "array([[8, 5, 1],\n",
       "       [7, 5, 3]])"
      ]
     },
     "execution_count": 11,
     "metadata": {},
     "output_type": "execute_result"
    }
   ],
   "source": [
    "b = np.random.randint(1,10,size=(2,3))\n",
    "b"
   ]
  },
  {
   "cell_type": "markdown",
   "metadata": {},
   "source": [
    "Let's calculate\n",
    "\n",
    "$a_{i} = \\Sigma_{j} b_{ij}$"
   ]
  },
  {
   "cell_type": "code",
   "execution_count": 12,
   "metadata": {},
   "outputs": [
    {
     "data": {
      "text/plain": [
       "(2, 3)"
      ]
     },
     "execution_count": 12,
     "metadata": {},
     "output_type": "execute_result"
    }
   ],
   "source": [
    "b.shape"
   ]
  },
  {
   "cell_type": "code",
   "execution_count": 13,
   "metadata": {},
   "outputs": [
    {
     "name": "stdout",
     "output_type": "stream",
     "text": [
      "[ 14.  15.]\n"
     ]
    }
   ],
   "source": [
    "# Using loops\n",
    "a = np.zeros(2)\n",
    "for i in range(b.shape[0]):\n",
    "    for j in range(b.shape[1]): \n",
    "        a[i] += b[i,j]\n",
    "print(a)"
   ]
  },
  {
   "cell_type": "code",
   "execution_count": 14,
   "metadata": {},
   "outputs": [
    {
     "name": "stdout",
     "output_type": "stream",
     "text": [
      "[14 15]\n"
     ]
    }
   ],
   "source": [
    "# Using numpy functions \n",
    "a = b.sum(axis=1)\n",
    "print(a)"
   ]
  },
  {
   "cell_type": "markdown",
   "metadata": {},
   "source": [
    "What if we'd instead wanted\n",
    "\n",
    "$a_{i} = \\Sigma_{j} b_{ji}$ ?\n",
    "\n",
    "We summed over `axis=1`, which is like summing the `j` indices for `b[i,j]`. We can sum over the first index instead with `b.sum(axis=0)`. Note that if you just write `b.sum()`, numpy will sum over *all* indices - this is a different default behaviour to Pandas' `sum()` method."
   ]
  },
  {
   "cell_type": "code",
   "execution_count": 15,
   "metadata": {},
   "outputs": [
    {
     "data": {
      "text/plain": [
       "array([15, 10,  4])"
      ]
     },
     "execution_count": 15,
     "metadata": {},
     "output_type": "execute_result"
    }
   ],
   "source": [
    "b.sum(axis=0)"
   ]
  },
  {
   "cell_type": "markdown",
   "metadata": {},
   "source": [
    "Let's calculate a dot product, which means element-wise multiplication of two arrays, and then summing the result:\n",
    "\n",
    "$a = \\Sigma_i b_{i} c_{i}$"
   ]
  },
  {
   "cell_type": "code",
   "execution_count": 16,
   "metadata": {},
   "outputs": [
    {
     "name": "stdout",
     "output_type": "stream",
     "text": [
      "[7 5 9] [8 1 4]\n"
     ]
    }
   ],
   "source": [
    "b = np.random.randint(1,10,size=(3))\n",
    "c = np.random.randint(1,10,size=(3))\n",
    "print (b,c)"
   ]
  },
  {
   "cell_type": "code",
   "execution_count": 17,
   "metadata": {},
   "outputs": [
    {
     "name": "stdout",
     "output_type": "stream",
     "text": [
      "97\n"
     ]
    }
   ],
   "source": [
    "# Using loops\n",
    "a = 0\n",
    "for i in range(len(b)):\n",
    "    a += b[i] * c[i]\n",
    "print(a)"
   ]
  },
  {
   "cell_type": "code",
   "execution_count": 18,
   "metadata": {},
   "outputs": [
    {
     "name": "stdout",
     "output_type": "stream",
     "text": [
      "97\n"
     ]
    }
   ],
   "source": [
    "# Using numpy\n",
    "a = (b * c).sum()\n",
    "\n",
    "# This is the same as the more explicit\n",
    "product = b * c\n",
    "a = product.sum()\n",
    "\n",
    "print(a)\n",
    "\n",
    "# OR we could use the dot product function, np.dot(b,c)\n"
   ]
  },
  {
   "cell_type": "markdown",
   "metadata": {},
   "source": [
    "Let's do matrix multiplication. This is defined as\n",
    "\n",
    "$a_{ij} = \\Sigma_u b_{iu} c_{uj}$"
   ]
  },
  {
   "cell_type": "code",
   "execution_count": 19,
   "metadata": {},
   "outputs": [
    {
     "name": "stdout",
     "output_type": "stream",
     "text": [
      "[[1 3]\n",
      " [9 1]\n",
      " [2 5]]\n",
      "[[6 7 9]\n",
      " [2 9 9]]\n"
     ]
    }
   ],
   "source": [
    "# Here i runs from 0..2, u runs from 0..1, and j runs from 0..2\n",
    "b = np.random.randint(1,10,size=(3,2))\n",
    "c = np.random.randint(1,10,size=(2,3))\n",
    "print(b)\n",
    "print(c)"
   ]
  },
  {
   "cell_type": "code",
   "execution_count": 20,
   "metadata": {},
   "outputs": [
    {
     "name": "stdout",
     "output_type": "stream",
     "text": [
      "[[ 12.  34.  36.]\n",
      " [ 56.  72.  90.]\n",
      " [ 22.  59.  63.]]\n"
     ]
    }
   ],
   "source": [
    "# Using loops\n",
    "# This only works correctly if b.shape[1] == c.shape[0]\n",
    "a = np.zeros((b.shape[0],c.shape[1]))\n",
    "for i in range(b.shape[0]):\n",
    "    for j in range(c.shape[1]):\n",
    "        for u in range(b.shape[1]):\n",
    "            a[i,j] += b[i,u] * c[u,j]\n",
    "print(a)"
   ]
  },
  {
   "cell_type": "code",
   "execution_count": 22,
   "metadata": {},
   "outputs": [
    {
     "name": "stdout",
     "output_type": "stream",
     "text": [
      "[[12 34 36]\n",
      " [56 72 90]\n",
      " [22 59 63]]\n"
     ]
    }
   ],
   "source": [
    "# Using numpy's matrix multiplication function\n",
    "a = np.matmul(b,c)\n",
    "print(a)"
   ]
  },
  {
   "cell_type": "markdown",
   "metadata": {},
   "source": [
    "Let's calculate an \"outer product\", i.e. constructing a matrix by multiplying two vectors:\n",
    "\n",
    "$a_{ij} = b_i c_j$"
   ]
  },
  {
   "cell_type": "code",
   "execution_count": 25,
   "metadata": {},
   "outputs": [
    {
     "name": "stdout",
     "output_type": "stream",
     "text": [
      "[1 2] [1 4 5]\n"
     ]
    }
   ],
   "source": [
    "b = np.array([1, 2])  # nice small round numbers to make this easier to see\n",
    "c = np.random.randint(1,10,size=(3))\n",
    "print (b,c)"
   ]
  },
  {
   "cell_type": "code",
   "execution_count": 26,
   "metadata": {},
   "outputs": [
    {
     "name": "stdout",
     "output_type": "stream",
     "text": [
      "[[  1.   4.   5.]\n",
      " [  2.   8.  10.]]\n"
     ]
    }
   ],
   "source": [
    "# Using loops\n",
    "a = np.zeros((len(b), len(c)))\n",
    "for i in range(len(b)):\n",
    "    for j in range(len(c)):\n",
    "        a[i,j] = b[i] * c[j]\n",
    "print(a)"
   ]
  },
  {
   "cell_type": "code",
   "execution_count": 27,
   "metadata": {},
   "outputs": [
    {
     "name": "stdout",
     "output_type": "stream",
     "text": [
      "[[ 1  4  5]\n",
      " [ 2  8 10]]\n"
     ]
    }
   ],
   "source": [
    "# Using numpy\n",
    "# This is more advanced, and you probably won't need it directly in this course\n",
    "# Both b and c are 1D, and we want a 2D result. So we need to switch either\n",
    "# b or c to lie along the second dimension before we multiply\n",
    "a = b[:,np.newaxis] * c\n",
    "print(a)"
   ]
  },
  {
   "cell_type": "code",
   "execution_count": 28,
   "metadata": {},
   "outputs": [
    {
     "data": {
      "text/plain": [
       "array([[1],\n",
       "       [2]])"
      ]
     },
     "execution_count": 28,
     "metadata": {},
     "output_type": "execute_result"
    }
   ],
   "source": [
    "# This is what we did - turned b into a 'vertical' vector while c was 'horizontal'\n",
    "b[:,np.newaxis]"
   ]
  }
 ],
 "metadata": {
  "kernelspec": {
   "display_name": "Python 3",
   "language": "python",
   "name": "python3"
  },
  "language_info": {
   "codemirror_mode": {
    "name": "ipython",
    "version": 3
   },
   "file_extension": ".py",
   "mimetype": "text/x-python",
   "name": "python",
   "nbconvert_exporter": "python",
   "pygments_lexer": "ipython3",
   "version": "3.6.3"
  }
 },
 "nbformat": 4,
 "nbformat_minor": 2
}
