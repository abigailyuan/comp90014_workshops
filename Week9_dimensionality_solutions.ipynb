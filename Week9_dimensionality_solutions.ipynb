{
 "cells": [
  {
   "cell_type": "markdown",
   "metadata": {},
   "source": [
    "# Week 9 - Dimensionality reduction\n",
    "\n",
    "In this lab, you'll get a chance to experiment with library implementations of the dimensionality reduction techniques discussed in lecture.\n",
    "\n",
    "You will not be implementing the algorithms yourself. Instead you will be expected to use the library methods by reading the online documentation. This is intended to be practical experience - finding solutions based on existing libraries is usually much more practical than implementing a solution from scratch!"
   ]
  },
  {
   "cell_type": "markdown",
   "metadata": {},
   "source": [
    "### Installation notes\n",
    "\n",
    "To run this notebook you will need to install several packages:\n",
    "\n",
    "    conda install pandas\n",
    "    conda install scikit-learn\n",
    "    conda install -c conda-forge umap-learn\n",
    "    conda install -c conda-forge altair vega"
   ]
  },
  {
   "cell_type": "code",
   "execution_count": 1,
   "metadata": {},
   "outputs": [],
   "source": [
    "%matplotlib inline"
   ]
  },
  {
   "cell_type": "code",
   "execution_count": 16,
   "metadata": {},
   "outputs": [],
   "source": [
    "import pandas as pd\n",
    "import numpy as np\n",
    "import gzip\n",
    "import re\n",
    "from urllib.request import urlretrieve\n",
    "from sklearn.decomposition import PCA\n",
    "from sklearn.manifold import TSNE, MDS\n",
    "from umap import UMAP"
   ]
  },
  {
   "cell_type": "code",
   "execution_count": 3,
   "metadata": {},
   "outputs": [],
   "source": [
    "import altair"
   ]
  },
  {
   "cell_type": "code",
   "execution_count": 4,
   "metadata": {},
   "outputs": [],
   "source": [
    "import matplotlib.pyplot as plt\n",
    "# Set default figure size to a larger size\n",
    "plt.rcParams['figure.figsize'] = [10, 10]"
   ]
  },
  {
   "cell_type": "markdown",
   "metadata": {},
   "source": [
    "The following code will download the raw [FlyAtlas](http://flyatlas.org/atlas.cgi) data from [NCBI's Gene Expression Omnibus](https://www.ncbi.nlm.nih.gov/geo/). It may take a few moments to download."
   ]
  },
  {
   "cell_type": "code",
   "execution_count": 5,
   "metadata": {},
   "outputs": [
    {
     "ename": "URLError",
     "evalue": "<urlopen error [Errno 8] nodename nor servname provided, or not known>",
     "output_type": "error",
     "traceback": [
      "\u001b[0;31m---------------------------------------------------------------------------\u001b[0m",
      "\u001b[0;31mgaierror\u001b[0m                                  Traceback (most recent call last)",
      "\u001b[0;32m~/anaconda3/lib/python3.6/urllib/request.py\u001b[0m in \u001b[0;36mftp_open\u001b[0;34m(self, req)\u001b[0m\n\u001b[1;32m   1523\u001b[0m         \u001b[0;32mtry\u001b[0m\u001b[0;34m:\u001b[0m\u001b[0;34m\u001b[0m\u001b[0m\n\u001b[0;32m-> 1524\u001b[0;31m             \u001b[0mhost\u001b[0m \u001b[0;34m=\u001b[0m \u001b[0msocket\u001b[0m\u001b[0;34m.\u001b[0m\u001b[0mgethostbyname\u001b[0m\u001b[0;34m(\u001b[0m\u001b[0mhost\u001b[0m\u001b[0;34m)\u001b[0m\u001b[0;34m\u001b[0m\u001b[0m\n\u001b[0m\u001b[1;32m   1525\u001b[0m         \u001b[0;32mexcept\u001b[0m \u001b[0mOSError\u001b[0m \u001b[0;32mas\u001b[0m \u001b[0mmsg\u001b[0m\u001b[0;34m:\u001b[0m\u001b[0;34m\u001b[0m\u001b[0m\n",
      "\u001b[0;31mgaierror\u001b[0m: [Errno 8] nodename nor servname provided, or not known",
      "\nDuring handling of the above exception, another exception occurred:\n",
      "\u001b[0;31mURLError\u001b[0m                                  Traceback (most recent call last)",
      "\u001b[0;32m<ipython-input-5-35a3e0987efb>\u001b[0m in \u001b[0;36m<module>\u001b[0;34m()\u001b[0m\n\u001b[0;32m----> 1\u001b[0;31m \u001b[0murlretrieve\u001b[0m\u001b[0;34m(\u001b[0m\u001b[0;34m\"ftp://ftp.ncbi.nlm.nih.gov/geo/series/GSE7nnn/GSE7763/matrix/GSE7763_series_matrix.txt.gz\"\u001b[0m\u001b[0;34m,\u001b[0m \u001b[0mfilename\u001b[0m\u001b[0;34m=\u001b[0m\u001b[0;34m\"flydata.txt.gz\"\u001b[0m\u001b[0;34m)\u001b[0m\u001b[0;34m\u001b[0m\u001b[0m\n\u001b[0m",
      "\u001b[0;32m~/anaconda3/lib/python3.6/urllib/request.py\u001b[0m in \u001b[0;36murlretrieve\u001b[0;34m(url, filename, reporthook, data)\u001b[0m\n\u001b[1;32m    246\u001b[0m     \u001b[0murl_type\u001b[0m\u001b[0;34m,\u001b[0m \u001b[0mpath\u001b[0m \u001b[0;34m=\u001b[0m \u001b[0msplittype\u001b[0m\u001b[0;34m(\u001b[0m\u001b[0murl\u001b[0m\u001b[0;34m)\u001b[0m\u001b[0;34m\u001b[0m\u001b[0m\n\u001b[1;32m    247\u001b[0m \u001b[0;34m\u001b[0m\u001b[0m\n\u001b[0;32m--> 248\u001b[0;31m     \u001b[0;32mwith\u001b[0m \u001b[0mcontextlib\u001b[0m\u001b[0;34m.\u001b[0m\u001b[0mclosing\u001b[0m\u001b[0;34m(\u001b[0m\u001b[0murlopen\u001b[0m\u001b[0;34m(\u001b[0m\u001b[0murl\u001b[0m\u001b[0;34m,\u001b[0m \u001b[0mdata\u001b[0m\u001b[0;34m)\u001b[0m\u001b[0;34m)\u001b[0m \u001b[0;32mas\u001b[0m \u001b[0mfp\u001b[0m\u001b[0;34m:\u001b[0m\u001b[0;34m\u001b[0m\u001b[0m\n\u001b[0m\u001b[1;32m    249\u001b[0m         \u001b[0mheaders\u001b[0m \u001b[0;34m=\u001b[0m \u001b[0mfp\u001b[0m\u001b[0;34m.\u001b[0m\u001b[0minfo\u001b[0m\u001b[0;34m(\u001b[0m\u001b[0;34m)\u001b[0m\u001b[0;34m\u001b[0m\u001b[0m\n\u001b[1;32m    250\u001b[0m \u001b[0;34m\u001b[0m\u001b[0m\n",
      "\u001b[0;32m~/anaconda3/lib/python3.6/urllib/request.py\u001b[0m in \u001b[0;36murlopen\u001b[0;34m(url, data, timeout, cafile, capath, cadefault, context)\u001b[0m\n\u001b[1;32m    221\u001b[0m     \u001b[0;32melse\u001b[0m\u001b[0;34m:\u001b[0m\u001b[0;34m\u001b[0m\u001b[0m\n\u001b[1;32m    222\u001b[0m         \u001b[0mopener\u001b[0m \u001b[0;34m=\u001b[0m \u001b[0m_opener\u001b[0m\u001b[0;34m\u001b[0m\u001b[0m\n\u001b[0;32m--> 223\u001b[0;31m     \u001b[0;32mreturn\u001b[0m \u001b[0mopener\u001b[0m\u001b[0;34m.\u001b[0m\u001b[0mopen\u001b[0m\u001b[0;34m(\u001b[0m\u001b[0murl\u001b[0m\u001b[0;34m,\u001b[0m \u001b[0mdata\u001b[0m\u001b[0;34m,\u001b[0m \u001b[0mtimeout\u001b[0m\u001b[0;34m)\u001b[0m\u001b[0;34m\u001b[0m\u001b[0m\n\u001b[0m\u001b[1;32m    224\u001b[0m \u001b[0;34m\u001b[0m\u001b[0m\n\u001b[1;32m    225\u001b[0m \u001b[0;32mdef\u001b[0m \u001b[0minstall_opener\u001b[0m\u001b[0;34m(\u001b[0m\u001b[0mopener\u001b[0m\u001b[0;34m)\u001b[0m\u001b[0;34m:\u001b[0m\u001b[0;34m\u001b[0m\u001b[0m\n",
      "\u001b[0;32m~/anaconda3/lib/python3.6/urllib/request.py\u001b[0m in \u001b[0;36mopen\u001b[0;34m(self, fullurl, data, timeout)\u001b[0m\n\u001b[1;32m    524\u001b[0m             \u001b[0mreq\u001b[0m \u001b[0;34m=\u001b[0m \u001b[0mmeth\u001b[0m\u001b[0;34m(\u001b[0m\u001b[0mreq\u001b[0m\u001b[0;34m)\u001b[0m\u001b[0;34m\u001b[0m\u001b[0m\n\u001b[1;32m    525\u001b[0m \u001b[0;34m\u001b[0m\u001b[0m\n\u001b[0;32m--> 526\u001b[0;31m         \u001b[0mresponse\u001b[0m \u001b[0;34m=\u001b[0m \u001b[0mself\u001b[0m\u001b[0;34m.\u001b[0m\u001b[0m_open\u001b[0m\u001b[0;34m(\u001b[0m\u001b[0mreq\u001b[0m\u001b[0;34m,\u001b[0m \u001b[0mdata\u001b[0m\u001b[0;34m)\u001b[0m\u001b[0;34m\u001b[0m\u001b[0m\n\u001b[0m\u001b[1;32m    527\u001b[0m \u001b[0;34m\u001b[0m\u001b[0m\n\u001b[1;32m    528\u001b[0m         \u001b[0;31m# post-process response\u001b[0m\u001b[0;34m\u001b[0m\u001b[0;34m\u001b[0m\u001b[0m\n",
      "\u001b[0;32m~/anaconda3/lib/python3.6/urllib/request.py\u001b[0m in \u001b[0;36m_open\u001b[0;34m(self, req, data)\u001b[0m\n\u001b[1;32m    542\u001b[0m         \u001b[0mprotocol\u001b[0m \u001b[0;34m=\u001b[0m \u001b[0mreq\u001b[0m\u001b[0;34m.\u001b[0m\u001b[0mtype\u001b[0m\u001b[0;34m\u001b[0m\u001b[0m\n\u001b[1;32m    543\u001b[0m         result = self._call_chain(self.handle_open, protocol, protocol +\n\u001b[0;32m--> 544\u001b[0;31m                                   '_open', req)\n\u001b[0m\u001b[1;32m    545\u001b[0m         \u001b[0;32mif\u001b[0m \u001b[0mresult\u001b[0m\u001b[0;34m:\u001b[0m\u001b[0;34m\u001b[0m\u001b[0m\n\u001b[1;32m    546\u001b[0m             \u001b[0;32mreturn\u001b[0m \u001b[0mresult\u001b[0m\u001b[0;34m\u001b[0m\u001b[0m\n",
      "\u001b[0;32m~/anaconda3/lib/python3.6/urllib/request.py\u001b[0m in \u001b[0;36m_call_chain\u001b[0;34m(self, chain, kind, meth_name, *args)\u001b[0m\n\u001b[1;32m    502\u001b[0m         \u001b[0;32mfor\u001b[0m \u001b[0mhandler\u001b[0m \u001b[0;32min\u001b[0m \u001b[0mhandlers\u001b[0m\u001b[0;34m:\u001b[0m\u001b[0;34m\u001b[0m\u001b[0m\n\u001b[1;32m    503\u001b[0m             \u001b[0mfunc\u001b[0m \u001b[0;34m=\u001b[0m \u001b[0mgetattr\u001b[0m\u001b[0;34m(\u001b[0m\u001b[0mhandler\u001b[0m\u001b[0;34m,\u001b[0m \u001b[0mmeth_name\u001b[0m\u001b[0;34m)\u001b[0m\u001b[0;34m\u001b[0m\u001b[0m\n\u001b[0;32m--> 504\u001b[0;31m             \u001b[0mresult\u001b[0m \u001b[0;34m=\u001b[0m \u001b[0mfunc\u001b[0m\u001b[0;34m(\u001b[0m\u001b[0;34m*\u001b[0m\u001b[0margs\u001b[0m\u001b[0;34m)\u001b[0m\u001b[0;34m\u001b[0m\u001b[0m\n\u001b[0m\u001b[1;32m    505\u001b[0m             \u001b[0;32mif\u001b[0m \u001b[0mresult\u001b[0m \u001b[0;32mis\u001b[0m \u001b[0;32mnot\u001b[0m \u001b[0;32mNone\u001b[0m\u001b[0;34m:\u001b[0m\u001b[0;34m\u001b[0m\u001b[0m\n\u001b[1;32m    506\u001b[0m                 \u001b[0;32mreturn\u001b[0m \u001b[0mresult\u001b[0m\u001b[0;34m\u001b[0m\u001b[0m\n",
      "\u001b[0;32m~/anaconda3/lib/python3.6/urllib/request.py\u001b[0m in \u001b[0;36mftp_open\u001b[0;34m(self, req)\u001b[0m\n\u001b[1;32m   1524\u001b[0m             \u001b[0mhost\u001b[0m \u001b[0;34m=\u001b[0m \u001b[0msocket\u001b[0m\u001b[0;34m.\u001b[0m\u001b[0mgethostbyname\u001b[0m\u001b[0;34m(\u001b[0m\u001b[0mhost\u001b[0m\u001b[0;34m)\u001b[0m\u001b[0;34m\u001b[0m\u001b[0m\n\u001b[1;32m   1525\u001b[0m         \u001b[0;32mexcept\u001b[0m \u001b[0mOSError\u001b[0m \u001b[0;32mas\u001b[0m \u001b[0mmsg\u001b[0m\u001b[0;34m:\u001b[0m\u001b[0;34m\u001b[0m\u001b[0m\n\u001b[0;32m-> 1526\u001b[0;31m             \u001b[0;32mraise\u001b[0m \u001b[0mURLError\u001b[0m\u001b[0;34m(\u001b[0m\u001b[0mmsg\u001b[0m\u001b[0;34m)\u001b[0m\u001b[0;34m\u001b[0m\u001b[0m\n\u001b[0m\u001b[1;32m   1527\u001b[0m         \u001b[0mpath\u001b[0m\u001b[0;34m,\u001b[0m \u001b[0mattrs\u001b[0m \u001b[0;34m=\u001b[0m \u001b[0msplitattr\u001b[0m\u001b[0;34m(\u001b[0m\u001b[0mreq\u001b[0m\u001b[0;34m.\u001b[0m\u001b[0mselector\u001b[0m\u001b[0;34m)\u001b[0m\u001b[0;34m\u001b[0m\u001b[0m\n\u001b[1;32m   1528\u001b[0m         \u001b[0mdirs\u001b[0m \u001b[0;34m=\u001b[0m \u001b[0mpath\u001b[0m\u001b[0;34m.\u001b[0m\u001b[0msplit\u001b[0m\u001b[0;34m(\u001b[0m\u001b[0;34m'/'\u001b[0m\u001b[0;34m)\u001b[0m\u001b[0;34m\u001b[0m\u001b[0m\n",
      "\u001b[0;31mURLError\u001b[0m: <urlopen error [Errno 8] nodename nor servname provided, or not known>"
     ]
    }
   ],
   "source": [
    "urlretrieve(\"ftp://ftp.ncbi.nlm.nih.gov/geo/series/GSE7nnn/GSE7763/matrix/GSE7763_series_matrix.txt.gz\", filename=\"flydata.txt.gz\")"
   ]
  },
  {
   "cell_type": "markdown",
   "metadata": {},
   "source": [
    "The following two cells will open the compressed file you downloaded from GEO into a `pandas` data frame, then reopen the file and parse out the sample title line in order to use this as the column names for the data frame."
   ]
  },
  {
   "cell_type": "code",
   "execution_count": 7,
   "metadata": {},
   "outputs": [],
   "source": [
    "with gzip.open(\"data/flydata.txt.gz\") as handle:\n",
    "    expression = pd.read_csv(handle, sep=\"\\t\", comment=\"!\", index_col=0)"
   ]
  },
  {
   "cell_type": "code",
   "execution_count": 8,
   "metadata": {},
   "outputs": [],
   "source": [
    "with gzip.open(\"data/flydata.txt.gz\") as handle:\n",
    "    for line in handle:\n",
    "        line = line.decode(\"utf-8\")\n",
    "        if line.startswith(\"!Sample_title\"):\n",
    "            header = [x.strip('\"') for x in line.split(\"\\t\")[1:]]\n",
    "            expression.columns = header\n",
    "            break"
   ]
  },
  {
   "cell_type": "markdown",
   "metadata": {},
   "source": [
    "Output the data frame and see what we have. It should have microarray probe ID's as row names (these can be mapped to gene names but we will skip that for today) and sample names as column names.\n",
    "\n",
    "The data frame has 18952 rows (measurements) and 136 columns (samples) so it is certainly high dimensional."
   ]
  },
  {
   "cell_type": "code",
   "execution_count": 9,
   "metadata": {},
   "outputs": [
    {
     "data": {
      "text/html": [
       "<div>\n",
       "<style>\n",
       "    .dataframe thead tr:only-child th {\n",
       "        text-align: right;\n",
       "    }\n",
       "\n",
       "    .dataframe thead th {\n",
       "        text-align: left;\n",
       "    }\n",
       "\n",
       "    .dataframe tbody tr th {\n",
       "        vertical-align: top;\n",
       "    }\n",
       "</style>\n",
       "<table border=\"1\" class=\"dataframe\">\n",
       "  <thead>\n",
       "    <tr style=\"text-align: right;\">\n",
       "      <th></th>\n",
       "      <th>Adult Hind Gut biological rep1</th>\n",
       "      <th>Adult Hind Gut biological rep2</th>\n",
       "      <th>Adult Hind Gut biological rep3</th>\n",
       "      <th>Adult Hind Gut biological rep4</th>\n",
       "      <th>Adult Mid Gut biological rep1</th>\n",
       "      <th>Adult Mid Gut biological rep2</th>\n",
       "      <th>Adult Mid Gut biological rep3</th>\n",
       "      <th>Adult Mid Gut biological rep4</th>\n",
       "      <th>Adult Accessory gland biological rep1</th>\n",
       "      <th>Adult Accessory gland biological rep2</th>\n",
       "      <th>...</th>\n",
       "      <th>Adult Thoracic Muscle biological rep3</th>\n",
       "      <th>Adult Thoracic Muscle biological rep4</th>\n",
       "      <th>Adult Wings biological rep1</th>\n",
       "      <th>Adult Wings biological rep2</th>\n",
       "      <th>Adult Wings biological rep3</th>\n",
       "      <th>Adult Wings biological rep4</th>\n",
       "      <th>Adult Female Spermatheca Mated (REDONE) biological rep1</th>\n",
       "      <th>Adult Female Spermatheca Mated (REDONE) biological rep2</th>\n",
       "      <th>Adult Female Spermatheca Mated (REDONE) biological rep3</th>\n",
       "      <th>Adult Female Spermatheca Mated (REDONE) biological rep4\"</th>\n",
       "    </tr>\n",
       "    <tr>\n",
       "      <th>ID_REF</th>\n",
       "      <th></th>\n",
       "      <th></th>\n",
       "      <th></th>\n",
       "      <th></th>\n",
       "      <th></th>\n",
       "      <th></th>\n",
       "      <th></th>\n",
       "      <th></th>\n",
       "      <th></th>\n",
       "      <th></th>\n",
       "      <th></th>\n",
       "      <th></th>\n",
       "      <th></th>\n",
       "      <th></th>\n",
       "      <th></th>\n",
       "      <th></th>\n",
       "      <th></th>\n",
       "      <th></th>\n",
       "      <th></th>\n",
       "      <th></th>\n",
       "      <th></th>\n",
       "    </tr>\n",
       "  </thead>\n",
       "  <tbody>\n",
       "    <tr>\n",
       "      <th>1616608_a_at</th>\n",
       "      <td>1092.9800</td>\n",
       "      <td>954.7980</td>\n",
       "      <td>1111.6100</td>\n",
       "      <td>1052.7700</td>\n",
       "      <td>1253.53000</td>\n",
       "      <td>1059.88000</td>\n",
       "      <td>1173.37000</td>\n",
       "      <td>1193.86000</td>\n",
       "      <td>1155.71000</td>\n",
       "      <td>1036.53000</td>\n",
       "      <td>...</td>\n",
       "      <td>5887.9700</td>\n",
       "      <td>1874.5500</td>\n",
       "      <td>804.5200</td>\n",
       "      <td>692.3270</td>\n",
       "      <td>983.8000</td>\n",
       "      <td>813.8470</td>\n",
       "      <td>2557.6200</td>\n",
       "      <td>9660.4700</td>\n",
       "      <td>2034.6300</td>\n",
       "      <td>2236.4700</td>\n",
       "    </tr>\n",
       "    <tr>\n",
       "      <th>1622892_s_at</th>\n",
       "      <td>59.9637</td>\n",
       "      <td>73.3054</td>\n",
       "      <td>70.4826</td>\n",
       "      <td>86.4422</td>\n",
       "      <td>45.01120</td>\n",
       "      <td>62.82730</td>\n",
       "      <td>59.48000</td>\n",
       "      <td>45.96110</td>\n",
       "      <td>117.23300</td>\n",
       "      <td>120.67600</td>\n",
       "      <td>...</td>\n",
       "      <td>114.6910</td>\n",
       "      <td>65.3478</td>\n",
       "      <td>75.9195</td>\n",
       "      <td>90.9804</td>\n",
       "      <td>73.6687</td>\n",
       "      <td>66.1671</td>\n",
       "      <td>90.4524</td>\n",
       "      <td>138.4540</td>\n",
       "      <td>56.2824</td>\n",
       "      <td>65.0492</td>\n",
       "    </tr>\n",
       "    <tr>\n",
       "      <th>1622893_at</th>\n",
       "      <td>277.0040</td>\n",
       "      <td>311.8180</td>\n",
       "      <td>368.8520</td>\n",
       "      <td>299.8900</td>\n",
       "      <td>8.88177</td>\n",
       "      <td>3.24583</td>\n",
       "      <td>7.82305</td>\n",
       "      <td>6.46871</td>\n",
       "      <td>14.82890</td>\n",
       "      <td>17.92080</td>\n",
       "      <td>...</td>\n",
       "      <td>1007.2800</td>\n",
       "      <td>6599.7700</td>\n",
       "      <td>2592.3300</td>\n",
       "      <td>4450.3900</td>\n",
       "      <td>2793.9600</td>\n",
       "      <td>3488.1200</td>\n",
       "      <td>6614.5000</td>\n",
       "      <td>339.2480</td>\n",
       "      <td>8948.1000</td>\n",
       "      <td>8636.3700</td>\n",
       "    </tr>\n",
       "    <tr>\n",
       "      <th>1622894_at</th>\n",
       "      <td>24.4888</td>\n",
       "      <td>17.0768</td>\n",
       "      <td>10.8221</td>\n",
       "      <td>29.3506</td>\n",
       "      <td>8.97962</td>\n",
       "      <td>6.89748</td>\n",
       "      <td>7.22628</td>\n",
       "      <td>10.91120</td>\n",
       "      <td>8.15422</td>\n",
       "      <td>1.30827</td>\n",
       "      <td>...</td>\n",
       "      <td>16.5692</td>\n",
       "      <td>155.5910</td>\n",
       "      <td>35.4175</td>\n",
       "      <td>41.9005</td>\n",
       "      <td>39.2848</td>\n",
       "      <td>37.0554</td>\n",
       "      <td>114.2510</td>\n",
       "      <td>10.0243</td>\n",
       "      <td>165.8780</td>\n",
       "      <td>156.4280</td>\n",
       "    </tr>\n",
       "    <tr>\n",
       "      <th>1622895_at</th>\n",
       "      <td>57.2783</td>\n",
       "      <td>57.8029</td>\n",
       "      <td>47.5623</td>\n",
       "      <td>37.9146</td>\n",
       "      <td>56.25390</td>\n",
       "      <td>74.28550</td>\n",
       "      <td>69.27010</td>\n",
       "      <td>56.65100</td>\n",
       "      <td>124.72900</td>\n",
       "      <td>148.08400</td>\n",
       "      <td>...</td>\n",
       "      <td>25.9620</td>\n",
       "      <td>95.4693</td>\n",
       "      <td>56.0100</td>\n",
       "      <td>66.2136</td>\n",
       "      <td>71.2417</td>\n",
       "      <td>65.4694</td>\n",
       "      <td>88.5396</td>\n",
       "      <td>56.8106</td>\n",
       "      <td>44.0052</td>\n",
       "      <td>74.8953</td>\n",
       "    </tr>\n",
       "  </tbody>\n",
       "</table>\n",
       "<p>5 rows × 136 columns</p>\n",
       "</div>"
      ],
      "text/plain": [
       "              Adult Hind Gut biological rep1  Adult Hind Gut biological rep2  \\\n",
       "ID_REF                                                                         \n",
       "1616608_a_at                       1092.9800                        954.7980   \n",
       "1622892_s_at                         59.9637                         73.3054   \n",
       "1622893_at                          277.0040                        311.8180   \n",
       "1622894_at                           24.4888                         17.0768   \n",
       "1622895_at                           57.2783                         57.8029   \n",
       "\n",
       "              Adult Hind Gut biological rep3  Adult Hind Gut biological rep4  \\\n",
       "ID_REF                                                                         \n",
       "1616608_a_at                       1111.6100                       1052.7700   \n",
       "1622892_s_at                         70.4826                         86.4422   \n",
       "1622893_at                          368.8520                        299.8900   \n",
       "1622894_at                           10.8221                         29.3506   \n",
       "1622895_at                           47.5623                         37.9146   \n",
       "\n",
       "              Adult Mid Gut biological rep1  Adult Mid Gut biological rep2  \\\n",
       "ID_REF                                                                       \n",
       "1616608_a_at                     1253.53000                     1059.88000   \n",
       "1622892_s_at                       45.01120                       62.82730   \n",
       "1622893_at                          8.88177                        3.24583   \n",
       "1622894_at                          8.97962                        6.89748   \n",
       "1622895_at                         56.25390                       74.28550   \n",
       "\n",
       "              Adult Mid Gut biological rep3  Adult Mid Gut biological rep4  \\\n",
       "ID_REF                                                                       \n",
       "1616608_a_at                     1173.37000                     1193.86000   \n",
       "1622892_s_at                       59.48000                       45.96110   \n",
       "1622893_at                          7.82305                        6.46871   \n",
       "1622894_at                          7.22628                       10.91120   \n",
       "1622895_at                         69.27010                       56.65100   \n",
       "\n",
       "              Adult Accessory gland biological rep1  \\\n",
       "ID_REF                                                \n",
       "1616608_a_at                             1155.71000   \n",
       "1622892_s_at                              117.23300   \n",
       "1622893_at                                 14.82890   \n",
       "1622894_at                                  8.15422   \n",
       "1622895_at                                124.72900   \n",
       "\n",
       "              Adult Accessory gland biological rep2  \\\n",
       "ID_REF                                                \n",
       "1616608_a_at                             1036.53000   \n",
       "1622892_s_at                              120.67600   \n",
       "1622893_at                                 17.92080   \n",
       "1622894_at                                  1.30827   \n",
       "1622895_at                                148.08400   \n",
       "\n",
       "                                         ...                              \\\n",
       "ID_REF                                   ...                               \n",
       "1616608_a_at                             ...                               \n",
       "1622892_s_at                             ...                               \n",
       "1622893_at                               ...                               \n",
       "1622894_at                               ...                               \n",
       "1622895_at                               ...                               \n",
       "\n",
       "              Adult Thoracic Muscle biological rep3  \\\n",
       "ID_REF                                                \n",
       "1616608_a_at                              5887.9700   \n",
       "1622892_s_at                               114.6910   \n",
       "1622893_at                                1007.2800   \n",
       "1622894_at                                  16.5692   \n",
       "1622895_at                                  25.9620   \n",
       "\n",
       "              Adult Thoracic Muscle biological rep4  \\\n",
       "ID_REF                                                \n",
       "1616608_a_at                              1874.5500   \n",
       "1622892_s_at                                65.3478   \n",
       "1622893_at                                6599.7700   \n",
       "1622894_at                                 155.5910   \n",
       "1622895_at                                  95.4693   \n",
       "\n",
       "              Adult Wings biological rep1  Adult Wings biological rep2  \\\n",
       "ID_REF                                                                   \n",
       "1616608_a_at                     804.5200                     692.3270   \n",
       "1622892_s_at                      75.9195                      90.9804   \n",
       "1622893_at                      2592.3300                    4450.3900   \n",
       "1622894_at                        35.4175                      41.9005   \n",
       "1622895_at                        56.0100                      66.2136   \n",
       "\n",
       "              Adult Wings biological rep3  Adult Wings biological rep4  \\\n",
       "ID_REF                                                                   \n",
       "1616608_a_at                     983.8000                     813.8470   \n",
       "1622892_s_at                      73.6687                      66.1671   \n",
       "1622893_at                      2793.9600                    3488.1200   \n",
       "1622894_at                        39.2848                      37.0554   \n",
       "1622895_at                        71.2417                      65.4694   \n",
       "\n",
       "              Adult Female Spermatheca Mated (REDONE) biological rep1  \\\n",
       "ID_REF                                                                  \n",
       "1616608_a_at                                          2557.6200         \n",
       "1622892_s_at                                            90.4524         \n",
       "1622893_at                                            6614.5000         \n",
       "1622894_at                                             114.2510         \n",
       "1622895_at                                              88.5396         \n",
       "\n",
       "              Adult Female Spermatheca Mated (REDONE) biological rep2  \\\n",
       "ID_REF                                                                  \n",
       "1616608_a_at                                          9660.4700         \n",
       "1622892_s_at                                           138.4540         \n",
       "1622893_at                                             339.2480         \n",
       "1622894_at                                              10.0243         \n",
       "1622895_at                                              56.8106         \n",
       "\n",
       "              Adult Female Spermatheca Mated (REDONE) biological rep3  \\\n",
       "ID_REF                                                                  \n",
       "1616608_a_at                                          2034.6300         \n",
       "1622892_s_at                                            56.2824         \n",
       "1622893_at                                            8948.1000         \n",
       "1622894_at                                             165.8780         \n",
       "1622895_at                                              44.0052         \n",
       "\n",
       "              Adult Female Spermatheca Mated (REDONE) biological rep4\"\\n  \n",
       "ID_REF                                                                    \n",
       "1616608_a_at                                          2236.4700           \n",
       "1622892_s_at                                            65.0492           \n",
       "1622893_at                                            8636.3700           \n",
       "1622894_at                                             156.4280           \n",
       "1622895_at                                              74.8953           \n",
       "\n",
       "[5 rows x 136 columns]"
      ]
     },
     "execution_count": 9,
     "metadata": {},
     "output_type": "execute_result"
    }
   ],
   "source": [
    "expression.head()"
   ]
  },
  {
   "cell_type": "markdown",
   "metadata": {},
   "source": [
    "These 136 columns represent 4 replicates each from 34 different tissue types."
   ]
  },
  {
   "cell_type": "markdown",
   "metadata": {},
   "source": [
    "The following code snippet removes the replicate name from each sample, so we can use these labels as categories for plotting later."
   ]
  },
  {
   "cell_type": "code",
   "execution_count": 10,
   "metadata": {},
   "outputs": [],
   "source": [
    "sample_categories = [re.match('(.+?)(( biological)? rep\\d+)', c).group(1)\n",
    "                     for c in expression.columns]"
   ]
  },
  {
   "cell_type": "code",
   "execution_count": 11,
   "metadata": {},
   "outputs": [
    {
     "data": {
      "text/plain": [
       "['Adult Hind Gut',\n",
       " 'Adult Hind Gut',\n",
       " 'Adult Hind Gut',\n",
       " 'Adult Hind Gut',\n",
       " 'Adult Mid Gut',\n",
       " 'Adult Mid Gut',\n",
       " 'Adult Mid Gut',\n",
       " 'Adult Mid Gut',\n",
       " 'Adult Accessory gland',\n",
       " 'Adult Accessory gland',\n",
       " 'Adult Accessory gland',\n",
       " 'Adult Accessory gland',\n",
       " 'Adult Brain',\n",
       " 'Adult Brain',\n",
       " 'Adult Brain',\n",
       " 'Adult Brain',\n",
       " 'Adult Crop',\n",
       " 'Adult Crop',\n",
       " 'Adult Crop',\n",
       " 'Adult Crop',\n",
       " 'Larval Wandering fat body',\n",
       " 'Larval Wandering fat body',\n",
       " 'Larval Wandering fat body',\n",
       " 'Larval Wandering fat body',\n",
       " 'Adult Head',\n",
       " 'Adult Head',\n",
       " 'Adult Head',\n",
       " 'Adult Head',\n",
       " 'Larvae Wandering Tubules',\n",
       " 'Larvae Wandering Tubules',\n",
       " 'Larvae Wandering Tubules',\n",
       " 'Larvae Wandering Tubules',\n",
       " 'Adult Ovary',\n",
       " 'Adult Ovary',\n",
       " 'Adult Ovary',\n",
       " 'Adult Ovary',\n",
       " 'Adult Testes',\n",
       " 'Adult Testes',\n",
       " 'Adult Testes',\n",
       " 'Adult Testes',\n",
       " 'Adult Whole Fly',\n",
       " 'Adult Whole Fly',\n",
       " 'Adult Whole Fly',\n",
       " 'Adult Whole Fly',\n",
       " 'Adult Salivary Gland',\n",
       " 'Adult Salivary Gland',\n",
       " 'Adult Salivary Gland',\n",
       " 'Adult Salivary Gland',\n",
       " 'Adult Carcass',\n",
       " 'Adult Carcass',\n",
       " 'Adult Carcass',\n",
       " 'Adult Carcass',\n",
       " 'Adult Thoracoabdominal ganglion',\n",
       " 'Adult Thoracoabdominal ganglion',\n",
       " 'Adult Thoracoabdominal ganglion',\n",
       " 'Adult Thoracoabdominal ganglion',\n",
       " 'Larval Feeding Hind Gut',\n",
       " 'Larval Feeding Hind Gut',\n",
       " 'Larval Feeding Hind Gut',\n",
       " 'Larval Feeding Hind Gut',\n",
       " 'Larval Feeding Mid Gut',\n",
       " 'Larval Feeding Mid Gut',\n",
       " 'Larval Feeding Mid Gut',\n",
       " 'Larval Feeding Mid Gut',\n",
       " 'Larval Feeding Salivary Gland',\n",
       " 'Larval Feeding Salivary Gland',\n",
       " 'Larval Feeding Salivary Gland',\n",
       " 'Larval Feeding Salivary Gland',\n",
       " 'Adult Female Spermatheca Mated',\n",
       " 'Adult Female Spermatheca Mated',\n",
       " 'Adult Female Spermatheca Mated',\n",
       " 'Adult Female Spermatheca Mated',\n",
       " 'Adult Female Spermatheca Virgin',\n",
       " 'Adult Female Spermatheca Virgin',\n",
       " 'Adult Female Spermatheca Virgin',\n",
       " 'Adult Female Spermatheca Virgin',\n",
       " 'Larval Feeding Malpighian Tubule',\n",
       " 'Larval Feeding Malpighian Tubule',\n",
       " 'Larval Feeding Malpighian Tubule',\n",
       " 'Larval Feeding Malpighian Tubule',\n",
       " 'Larval Feeding Fatbody',\n",
       " 'Larval Feeding Fatbody',\n",
       " 'Larval Feeding Fatbody',\n",
       " 'Larval Feeding Fatbody',\n",
       " 'Larval Feeding Carcass',\n",
       " 'Larval Feeding Carcass',\n",
       " 'Larval Feeding Carcass',\n",
       " 'Larval Feeding Carcass',\n",
       " 'Larval Feeding Central Nevous System',\n",
       " 'Larval Feeding Central Nevous System',\n",
       " 'Larval Feeding Central Nevous System',\n",
       " 'Larval Feeding Central Nevous System',\n",
       " 'Larval Feeding Trachea',\n",
       " 'Larval Feeding Trachea',\n",
       " 'Larval Feeding Trachea',\n",
       " 'Larval Feeding Trachea',\n",
       " '5th Passage Drosophila S2 Cells',\n",
       " '5th Passage Drosophila S2 Cells',\n",
       " '5th Passage Drosophila S2 Cells',\n",
       " '5th Passage Drosophila S2 Cells',\n",
       " 'Adult Fatbody',\n",
       " 'Adult Fatbody',\n",
       " 'Adult Fatbody',\n",
       " 'Adult Fatbody',\n",
       " 'Adult Eye',\n",
       " 'Adult Eye',\n",
       " 'Adult Eye',\n",
       " 'Adult Eye',\n",
       " 'Adult Heart',\n",
       " 'Adult Heart',\n",
       " 'Adult Heart',\n",
       " 'Adult Heart',\n",
       " 'Adult Male Ejaculatory Duct',\n",
       " 'Adult Male Ejaculatory Duct',\n",
       " 'Adult Male Ejaculatory Duct',\n",
       " 'Adult Male Ejaculatory Duct',\n",
       " 'Whole Larvae Feeding',\n",
       " 'Whole Larvae Feeding',\n",
       " 'Whole Larvae Feeding',\n",
       " 'Whole Larvae Feeding',\n",
       " 'Adult Trachea',\n",
       " 'Adult Trachea',\n",
       " 'Adult Trachea',\n",
       " 'Adult Trachea',\n",
       " 'Adult Thoracic Muscle',\n",
       " 'Adult Thoracic Muscle',\n",
       " 'Adult Thoracic Muscle',\n",
       " 'Adult Thoracic Muscle',\n",
       " 'Adult Wings',\n",
       " 'Adult Wings',\n",
       " 'Adult Wings',\n",
       " 'Adult Wings',\n",
       " 'Adult Female Spermatheca Mated (REDONE)',\n",
       " 'Adult Female Spermatheca Mated (REDONE)',\n",
       " 'Adult Female Spermatheca Mated (REDONE)',\n",
       " 'Adult Female Spermatheca Mated (REDONE)']"
      ]
     },
     "execution_count": 11,
     "metadata": {},
     "output_type": "execute_result"
    }
   ],
   "source": [
    "sample_categories"
   ]
  },
  {
   "cell_type": "markdown",
   "metadata": {},
   "source": [
    "The following function will render a two-dimensional scatterplot which is coloured by the list of categories. We will use it for PCA, MDS, tSNE, and UMAP visualizations.\n",
    "\n",
    "The first function provided uses the Altair plotting library, which is interactive, allowing us to mouseover the points. To use this, you must install Altair as described in the first cell.\n",
    "\n",
    "If you have trouble with Altair, you can use the second function below instead, which only requires matplotlib."
   ]
  },
  {
   "cell_type": "code",
   "execution_count": 12,
   "metadata": {},
   "outputs": [],
   "source": [
    "# Here is a plotting function that uses Altair\n",
    "# You can interact with the plot by mousing over\n",
    "# the data points\n",
    "def plot_two_dimensions(data, categories):\n",
    "    df = pd.DataFrame(data)\n",
    "    df.columns = ['Dim{}'.format(n) for n in range(1,data.shape[1]+1)]\n",
    "    df['Category'] = sample_categories\n",
    "    df['Sample'] = expression.columns\n",
    "    chart = altair.Chart(df).mark_circle().\\\n",
    "                encode(x='Dim1',y='Dim2',color='Category',tooltip='Sample')\n",
    "    return chart"
   ]
  },
  {
   "cell_type": "code",
   "execution_count": 13,
   "metadata": {},
   "outputs": [],
   "source": [
    "# Here is a plotting function that uses just matplotlib\n",
    "# Use this if you have trouble with Altair\n",
    "def plot_two_dimensions_mpl(data, categories):\n",
    "    categories = pd.Series(categories)\n",
    "    fig,ax = plt.subplots()\n",
    "    for category in categories.unique():\n",
    "        ax.scatter(data[categories==category, 0], \n",
    "                    data[categories==category, 1],\n",
    "                    label=category)\n",
    "    # Place the legend outside the plot, at x=1.05\n",
    "    # (where the plot runs from 0 to 1)\n",
    "    plt.legend(loc=(1.05,0))"
   ]
  },
  {
   "cell_type": "markdown",
   "metadata": {},
   "source": [
    "It's common practice to take the log of expression values:"
   ]
  },
  {
   "cell_type": "code",
   "execution_count": 14,
   "metadata": {},
   "outputs": [
    {
     "data": {
      "image/png": "[encoded data removed]",
      "text/plain": [
       "<Figure size 720x720 with 1 Axes>"
      ]
     },
     "metadata": {},
     "output_type": "display_data"
    }
   ],
   "source": [
    "_ = plt.hist(expression.values.flatten(), bins=200)"
   ]
  },
  {
   "cell_type": "code",
   "execution_count": 17,
   "metadata": {},
   "outputs": [
    {
     "data": {
      "image/png": "[encoded data removed]",
      "text/plain": [
       "<Figure size 720x720 with 1 Axes>"
      ]
     },
     "metadata": {},
     "output_type": "display_data"
    }
   ],
   "source": [
    "_ = plt.hist(np.log10(expression).values.flatten(), bins=200)"
   ]
  },
  {
   "cell_type": "code",
   "execution_count": 18,
   "metadata": {},
   "outputs": [],
   "source": [
    "log_expression = np.log(expression + 1)"
   ]
  },
  {
   "cell_type": "markdown",
   "metadata": {},
   "source": [
    "The following code performs PCA on the dataset. The `log_expression.values` extracts the values in the data frame as a matrix. The `.T` takes the transpose of the matrix (swaps rows and columns)."
   ]
  },
  {
   "cell_type": "markdown",
   "metadata": {},
   "source": [
    "The following code performs PCA on the dataset. The `expression.values` extracts the values in the data frame as a matrix. The `.T` takes the transpose of the matrix (swaps rows and columns)."
   ]
  },
  {
   "cell_type": "code",
   "execution_count": 19,
   "metadata": {},
   "outputs": [
    {
     "data": {
      "application/vnd.vegalite.v2+json": {
       "$schema": "https://vega.github.io/schema/vega-lite/v2.4.3.json",
       "config": {
        "view": {
         "height": 300,
         "width": 400
        }
       },
       "data": {
        "values": [
         {
          "Category": "Adult Hind Gut",
          "Dim1": -11.228361981732727,
          "Dim10": 23.172754547704137,
          "Dim2": -34.88922762132846,
          "Dim3": -19.753988340988197,
          "Dim4": -40.200089008760436,
          "Dim5": 17.02443744561246,
          "Dim6": 11.074935985039817,
          "Dim7": 3.975556763890731,
          "Dim8": 20.46786520000465,
          "Dim9": 5.949306428694947,
          "Sample": "Adult Hind Gut biological rep1"
         },
         {
          "Category": "Adult Hind Gut",
          "Dim1": -14.177070157089327,
          "Dim10": 24.93151515666238,
          "Dim2": -37.32505371647107,
          "Dim3": -17.803125564075216,
          "Dim4": -38.12346627268457,
          "Dim5": 16.581234544008264,
          "Dim6": 8.415538105895358,
          "Dim7": 7.317422149005932,
          "Dim8": 24.6697242581094,
          "Dim9": 2.34506287545852,
          "Sample": "Adult Hind Gut biological rep2"
         },
         {
          "Category": "Adult Hind Gut",
          "Dim1": -16.987171329863187,
          "Dim10": 27.726090026854926,
          "Dim2": -39.53154760542843,
          "Dim3": -17.27286923307804,
          "Dim4": -37.2022854846048,
          "Dim5": 16.40781457737303,
          "Dim6": 4.817019628650158,
          "Dim7": 9.590129804874774,
          "Dim8": 26.27158508244148,
          "Dim9": 0.4464475659468205,
          "Sample": "Adult Hind Gut biological rep3"
         },
         {
          "Category": "Adult Hind Gut",
          "Dim1": -13.417985660704765,
          "Dim10": 24.091889734375968,
          "Dim2": -36.55091286477036,
          "Dim3": -19.967824929747,
          "Dim4": -39.292304747563776,
          "Dim5": 17.591973488577743,
          "Dim6": 10.521490890675965,
          "Dim7": 5.466660086859009,
          "Dim8": 22.58277179982689,
          "Dim9": 4.987431354451286,
          "Sample": "Adult Hind Gut biological rep4"
         },
         {
          "Category": "Adult Mid Gut",
          "Dim1": 31.10002723554492,
          "Dim10": 14.982242495259015,
          "Dim2": -70.91442085705587,
          "Dim3": -2.337186027756841,
          "Dim4": -67.50566018104897,
          "Dim5": -34.03150682890291,
          "Dim6": 32.37332307808061,
          "Dim7": 35.74685684043897,
          "Dim8": -25.844436322532285,
          "Dim9": 11.243078139557067,
          "Sample": "Adult Mid Gut biological rep1"
         },
         {
          "Category": "Adult Mid Gut",
          "Dim1": 28.39257111524869,
          "Dim10": 16.212172274402114,
          "Dim2": -73.56563644218414,
          "Dim3": 1.661912455770205,
          "Dim4": -64.95846734633959,
          "Dim5": -33.314958740122556,
          "Dim6": 31.290247540172917,
          "Dim7": 38.468039930051084,
          "Dim8": -22.545072025717403,
          "Dim9": 8.190753851780752,
          "Sample": "Adult Mid Gut biological rep2"
         },
         {
          "Category": "Adult Mid Gut",
          "Dim1": 27.798628011266985,
          "Dim10": 19.170211515981602,
          "Dim2": -75.77213518441535,
          "Dim3": 0.8141906141341372,
          "Dim4": -64.28910257329414,
          "Dim5": -34.12872225657376,
          "Dim6": 30.87141077894174,
          "Dim7": 41.09994727536734,
          "Dim8": -22.737413457340644,
          "Dim9": 8.17174173779252,
          "Sample": "Adult Mid Gut biological rep3"
         },
         {
          "Category": "Adult Mid Gut",
          "Dim1": 28.76125603737919,
          "Dim10": 18.731913955260122,
          "Dim2": -76.40119511132086,
          "Dim3": -0.7077990927793212,
          "Dim4": -65.64469378595429,
          "Dim5": -35.032791322376625,
          "Dim6": 30.322300874928334,
          "Dim7": 40.724467432967145,
          "Dim8": -20.317830316099283,
          "Dim9": 7.303018153671394,
          "Sample": "Adult Mid Gut biological rep4"
         },
         {
          "Category": "Adult Accessory gland",
          "Dim1": 13.531261315905619,
          "Dim10": -30.41157624381765,
          "Dim2": -4.239418979706259,
          "Dim3": 27.867723974074817,
          "Dim4": 13.137108368641199,
          "Dim5": 49.17080655134258,
          "Dim6": 92.25207439420234,
          "Dim7": -18.288329001159376,
          "Dim8": -23.741482245591985,
          "Dim9": -49.11126472604172,
          "Sample": "Adult Accessory gland biological rep1"
         },
         {
          "Category": "Adult Accessory gland",
          "Dim1": 14.210246626272598,
          "Dim10": -30.418163208625607,
          "Dim2": -5.002281461326441,
          "Dim3": 30.56223338610649,
          "Dim4": 14.300819681345608,
          "Dim5": 49.674882270198154,
          "Dim6": 92.23795941235186,
          "Dim7": -16.737356491968292,
          "Dim8": -22.82986563432122,
          "Dim9": -49.28405636636315,
          "Sample": "Adult Accessory gland biological rep2"
         },
         {
          "Category": "Adult Accessory gland",
          "Dim1": 9.768083362493352,
          "Dim10": -28.884743369429113,
          "Dim2": -8.422645413924402,
          "Dim3": 31.903729715643077,
          "Dim4": 17.17080610843786,
          "Dim5": 51.76974329297689,
          "Dim6": 90.17408209801488,
          "Dim7": -13.779147806431316,
          "Dim8": -21.489114160932456,
          "Dim9": -53.702763243367464,
          "Sample": "Adult Accessory gland biological rep3"
         },
         {
          "Category": "Adult Accessory gland",
          "Dim1": 12.006261851917332,
          "Dim10": -28.344584707053237,
          "Dim2": -3.980309786507966,
          "Dim3": 29.037255458621388,
          "Dim4": 16.721892704013758,
          "Dim5": 49.45070753475391,
          "Dim6": 92.52194910985577,
          "Dim7": -17.649026923593183,
          "Dim8": -25.84204104709878,
          "Dim9": -48.471108174020586,
          "Sample": "Adult Accessory gland biological rep4"
         },
         {
          "Category": "Adult Brain",
          "Dim1": -74.48354137580735,
          "Dim10": 7.377382064851405,
          "Dim2": 75.02531046578395,
          "Dim3": 68.41888979986646,
          "Dim4": -27.751451024067883,
          "Dim5": -49.26324227781554,
          "Dim6": 7.073140942427096,
          "Dim7": -10.075244429735893,
          "Dim8": -8.584771719911815,
          "Dim9": -3.6472541144810497,
          "Sample": "Adult Brain biological rep1"
         },
         {
          "Category": "Adult Brain",
          "Dim1": -74.04504807545868,
          "Dim10": 6.277858733863724,
          "Dim2": 75.4392585860014,
          "Dim3": 63.50378725205112,
          "Dim4": -27.93881468122353,
          "Dim5": -47.5044397569742,
          "Dim6": 6.36754992973786,
          "Dim7": -10.895321413390894,
          "Dim8": -8.306868905890049,
          "Dim9": -4.705385654558018,
          "Sample": "Adult Brain biological rep2"
         },
         {
          "Category": "Adult Brain",
          "Dim1": -69.12586724162597,
          "Dim10": 6.239327068964434,
          "Dim2": 76.6264139110561,
          "Dim3": 65.208535233791,
          "Dim4": -30.471489589513332,
          "Dim5": -48.36001040586036,
          "Dim6": 10.107302389902253,
          "Dim7": -14.430583782790425,
          "Dim8": -13.293000671809764,
          "Dim9": -0.7063824518018309,
          "Sample": "Adult Brain biological rep3"
         },
         {
          "Category": "Adult Brain",
          "Dim1": -64.42098545317671,
          "Dim10": 4.673219328501544,
          "Dim2": 77.54420130973024,
          "Dim3": 62.478924114269596,
          "Dim4": -29.64002019426983,
          "Dim5": -47.08281320129727,
          "Dim6": 13.779345570536183,
          "Dim7": -17.086629674615303,
          "Dim8": -14.573161166276595,
          "Dim9": 0.1528072328632416,
          "Sample": "Adult Brain biological rep4"
         },
         {
          "Category": "Adult Crop",
          "Dim1": -25.446603839931484,
          "Dim10": 18.34624795807496,
          "Dim2": -12.876043965024833,
          "Dim3": -3.4555283062958058,
          "Dim4": -7.8743868821018665,
          "Dim5": 44.15638210338081,
          "Dim6": 8.656388302115852,
          "Dim7": 3.8399562073983886,
          "Dim8": 22.749699360247046,
          "Dim9": 16.069519205059798,
          "Sample": "Adult Crop biological rep1"
         },
         {
          "Category": "Adult Crop",
          "Dim1": -24.135638689767234,
          "Dim10": 20.43303001198625,
          "Dim2": -10.24240572946679,
          "Dim3": -2.948657666912126,
          "Dim4": -8.6047828016721,
          "Dim5": 45.18983082300492,
          "Dim6": 11.327500302578992,
          "Dim7": -3.3872386726785084,
          "Dim8": 20.112816261181415,
          "Dim9": 17.824609167559437,
          "Sample": "Adult Crop biological rep2"
         },
         {
          "Category": "Adult Crop",
          "Dim1": -23.512168700051795,
          "Dim10": 18.24367893149362,
          "Dim2": -5.948330888003026,
          "Dim3": -3.03815199805602,
          "Dim4": -10.134113733526098,
          "Dim5": 42.70959405331969,
          "Dim6": 14.795738136954247,
          "Dim7": -7.796387622338535,
          "Dim8": 17.52539864212711,
          "Dim9": 21.06800813721985,
          "Sample": "Adult Crop biological rep3"
         },
         {
          "Category": "Adult Crop",
          "Dim1": -22.75662049214943,
          "Dim10": 17.6809261671153,
          "Dim2": -7.608627966162444,
          "Dim3": -7.826698701675408,
          "Dim4": -11.25881763556836,
          "Dim5": 42.64216621033005,
          "Dim6": 12.249051610984171,
          "Dim7": -3.239608015897146,
          "Dim8": 17.488897201078526,
          "Dim9": 19.530974300943374,
          "Sample": "Adult Crop biological rep4"
         },
         {
          "Category": "Larval Wandering fat body",
          "Dim1": 52.77115141456184,
          "Dim10": -34.6017024725096,
          "Dim2": 6.106368683402467,
          "Dim3": -26.978364336863816,
          "Dim4": 50.37972388833306,
          "Dim5": -45.271885184165626,
          "Dim6": -32.93984737160479,
          "Dim7": -26.376689759235724,
          "Dim8": -18.100973178951097,
          "Dim9": -11.204945895239469,
          "Sample": "Larval Wandering fat body biological rep1"
         },
         {
          "Category": "Larval Wandering fat body",
          "Dim1": 127.86041656580277,
          "Dim10": -12.847152026441403,
          "Dim2": 66.10195167477019,
          "Dim3": -31.588911112234957,
          "Dim4": 36.59240659843719,
          "Dim5": -41.09764185961189,
          "Dim6": -31.79463185104158,
          "Dim7": -21.21139068728965,
          "Dim8": -9.000326043324922,
          "Dim9": -6.628388426581401,
          "Sample": "Larval Wandering fat body biological rep2"
         },
         {
          "Category": "Larval Wandering fat body",
          "Dim1": 91.38653057840664,
          "Dim10": -29.712531600989653,
          "Dim2": 35.71590819545169,
          "Dim3": -30.070172632378963,
          "Dim4": 42.75701317986241,
          "Dim5": -42.335708827834246,
          "Dim6": -33.20340574441556,
          "Dim7": -27.733367853916292,
          "Dim8": -18.466662948105064,
          "Dim9": -7.752270351585856,
          "Sample": "Larval Wandering fat body biological rep3"
         },
         {
          "Category": "Larval Wandering fat body",
          "Dim1": 80.67235118761162,
          "Dim10": -31.47681437284407,
          "Dim2": 28.690331480756043,
          "Dim3": -30.011396070302606,
          "Dim4": 39.93091632040285,
          "Dim5": -41.77908369628227,
          "Dim6": -31.2323748915735,
          "Dim7": -29.272960013733865,
          "Dim8": -21.939487358980344,
          "Dim9": -4.892547253679117,
          "Sample": "Larval Wandering fat body biological rep4"
         },
         {
          "Category": "Adult Head",
          "Dim1": -65.84806349191749,
          "Dim10": -6.923211873296154,
          "Dim2": 48.59425643207098,
          "Dim3": -24.15513058951415,
          "Dim4": -32.77368490129887,
          "Dim5": -7.47506084555983,
          "Dim6": -14.523578164697579,
          "Dim7": 3.4081732788811134,
          "Dim8": 7.085147483695971,
          "Dim9": -25.37758354278477,
          "Sample": "Adult Head biological rep1"
         },
         {
          "Category": "Adult Head",
          "Dim1": -68.80052946341317,
          "Dim10": -2.39223689838742,
          "Dim2": 46.438655227795174,
          "Dim3": -27.186770560832922,
          "Dim4": -27.896175912586124,
          "Dim5": -8.53101435333113,
          "Dim6": -18.83731589730741,
          "Dim7": 7.597906069824083,
          "Dim8": 9.036358382851606,
          "Dim9": -31.749200610796084,
          "Sample": "Adult Head biological rep2"
         },
         {
          "Category": "Adult Head",
          "Dim1": -64.4698428493844,
          "Dim10": -5.690151895399649,
          "Dim2": 46.31651372305838,
          "Dim3": -28.797183741873077,
          "Dim4": -35.952585491686456,
          "Dim5": -6.920131513164638,
          "Dim6": -12.249055870092413,
          "Dim7": 4.615640001710417,
          "Dim8": 5.067148886730333,
          "Dim9": -27.14194653706594,
          "Sample": "Adult Head biological rep3"
         },
         {
          "Category": "Adult Head",
          "Dim1": -62.34019571649375,
          "Dim10": -5.358790212146594,
          "Dim2": 53.00715926534342,
          "Dim3": -27.00881806624562,
          "Dim4": -33.61017308910551,
          "Dim5": -8.561885565666472,
          "Dim6": -12.174663691834727,
          "Dim7": 0.968491460851201,
          "Dim8": 5.078164317136162,
          "Dim9": -25.39344564714943,
          "Sample": "Adult Head biological rep4"
         },
         {
          "Category": "Larvae Wandering Tubules",
          "Dim1": 20.692574446576575,
          "Dim10": -12.61398208464814,
          "Dim2": -66.62127617240266,
          "Dim3": 31.366824964381415,
          "Dim4": 1.013649702054789,
          "Dim5": -48.43790151926333,
          "Dim6": 5.903919174571189,
          "Dim7": -26.5739393167113,
          "Dim8": 63.8028538262508,
          "Dim9": -19.545498562921342,
          "Sample": "Larvae Wandering Tubules biological rep1"
         },
         {
          "Category": "Larvae Wandering Tubules",
          "Dim1": 21.64518204869594,
          "Dim10": -13.387066642688355,
          "Dim2": -61.280260898591166,
          "Dim3": 28.9643587804955,
          "Dim4": -1.4047515419570036,
          "Dim5": -47.460815819493924,
          "Dim6": 10.442113973334342,
          "Dim7": -30.487788519252785,
          "Dim8": 62.614731685299034,
          "Dim9": -16.233226534816893,
          "Sample": "Larvae Wandering Tubules biological rep2"
         },
         {
          "Category": "Larvae Wandering Tubules",
          "Dim1": 18.403632519490078,
          "Dim10": -12.531499039083778,
          "Dim2": -61.18555989982854,
          "Dim3": 32.84143809362968,
          "Dim4": 3.7374036227641696,
          "Dim5": -49.61093014736592,
          "Dim6": 4.628309177492566,
          "Dim7": -28.08658119977942,
          "Dim8": 64.35770801427613,
          "Dim9": -18.16628338540786,
          "Sample": "Larvae Wandering Tubules biological rep3"
         },
         {
          "Category": "Larvae Wandering Tubules",
          "Dim1": 17.952392693529635,
          "Dim10": -11.779450180146807,
          "Dim2": -64.75004042201866,
          "Dim3": 30.092885840694272,
          "Dim4": -0.03396648242250974,
          "Dim5": -48.359791039939374,
          "Dim6": 1.9652559983691256,
          "Dim7": -25.555098442542615,
          "Dim8": 62.010815587114216,
          "Dim9": -20.075350060267365,
          "Sample": "Larvae Wandering Tubules biological rep4"
         },
         {
          "Category": "Adult Ovary",
          "Dim1": 13.450527221669217,
          "Dim10": -10.966338405493286,
          "Dim2": -15.067002310536191,
          "Dim3": 97.57865729006261,
          "Dim4": 56.048355560323415,
          "Dim5": 25.444539766074932,
          "Dim6": -8.017571011988803,
          "Dim7": 80.92888325752797,
          "Dim8": 11.409098605587229,
          "Dim9": 13.668456466078657,
          "Sample": "Adult Ovary biological rep1"
         },
         {
          "Category": "Adult Ovary",
          "Dim1": 13.202727144856397,
          "Dim10": -10.373968092630472,
          "Dim2": -14.449380680430048,
          "Dim3": 96.67742714854523,
          "Dim4": 56.38905938549371,
          "Dim5": 25.73152364286067,
          "Dim6": -8.70526451819896,
          "Dim7": 81.0226342650474,
          "Dim8": 11.751417110455975,
          "Dim9": 13.673361639017699,
          "Sample": "Adult Ovary biological rep2"
         },
         {
          "Category": "Adult Ovary",
          "Dim1": 13.15080300054755,
          "Dim10": -9.020956267118256,
          "Dim2": -14.139555931227655,
          "Dim3": 96.74457296530633,
          "Dim4": 56.288746014901854,
          "Dim5": 26.571792937173065,
          "Dim6": -9.954383681388741,
          "Dim7": 82.14416757276575,
          "Dim8": 13.09791842195973,
          "Dim9": 11.706861707211303,
          "Sample": "Adult Ovary biological rep3"
         },
         {
          "Category": "Adult Ovary",
          "Dim1": 12.030093370894642,
          "Dim10": -11.465240143804957,
          "Dim2": -15.662419920827855,
          "Dim3": 96.57422679733159,
          "Dim4": 56.36697789050924,
          "Dim5": 29.972980548020768,
          "Dim6": -6.0615553926099714,
          "Dim7": 83.02943985450327,
          "Dim8": 11.704550807309097,
          "Dim9": 8.319127666786297,
          "Sample": "Adult Ovary biological rep4"
         },
         {
          "Category": "Adult Testes",
          "Dim1": 183.55239635237422,
          "Dim10": 50.21086520162322,
          "Dim2": 116.22269433177215,
          "Dim3": 10.75847404397634,
          "Dim4": 1.4771000274424808,
          "Dim5": 11.7675080052697,
          "Dim6": 9.694394221608452,
          "Dim7": -6.312306064978084,
          "Dim8": 37.64355798076726,
          "Dim9": 7.429091307839646,
          "Sample": "Adult Testes biological rep1"
         },
         {
          "Category": "Adult Testes",
          "Dim1": 182.74059861547593,
          "Dim10": 50.460111521793856,
          "Dim2": 115.4874625130117,
          "Dim3": 10.681681245049942,
          "Dim4": -1.4212785323766544,
          "Dim5": 9.521696393600253,
          "Dim6": 6.9494462130744745,
          "Dim7": -3.8990360275306255,
          "Dim8": 37.597224235044074,
          "Dim9": 9.156966603714062,
          "Sample": "Adult Testes biological rep2"
         },
         {
          "Category": "Adult Testes",
          "Dim1": 184.87804226332165,
          "Dim10": 46.81389420660317,
          "Dim2": 115.4693074107967,
          "Dim3": 8.532005493671958,
          "Dim4": 1.4033715416162083,
          "Dim5": 13.084931307267446,
          "Dim6": 12.473512331852369,
          "Dim7": -5.48452236436316,
          "Dim8": 37.34623741205436,
          "Dim9": 3.0388369586021016,
          "Sample": "Adult Testes biological rep3"
         },
         {
          "Category": "Adult Testes",
          "Dim1": 182.10039902242346,
          "Dim10": 44.11059717092623,
          "Dim2": 115.42408905058065,
          "Dim3": 8.327701552069913,
          "Dim4": -0.06265270324680167,
          "Dim5": 14.407883555052235,
          "Dim6": 14.951966774627152,
          "Dim7": -6.905698151069106,
          "Dim8": 32.42469391862273,
          "Dim9": 0.33477307738074347,
          "Sample": "Adult Testes biological rep4"
         },
         {
          "Category": "Adult Whole Fly",
          "Dim1": 73.53016718023241,
          "Dim10": -34.906505698008985,
          "Dim2": 47.49575554577229,
          "Dim3": -26.369746279484175,
          "Dim4": -53.41683412778124,
          "Dim5": 10.515317018851816,
          "Dim6": 2.5442591674839363,
          "Dim7": 59.01075473651431,
          "Dim8": -3.629799526431964,
          "Dim9": -20.114928239547325,
          "Sample": "Adult Whole Fly biological rep1"
         },
         {
          "Category": "Adult Whole Fly",
          "Dim1": 75.66643503272566,
          "Dim10": -35.892366401846985,
          "Dim2": 49.0329971182916,
          "Dim3": -23.02547297607682,
          "Dim4": -51.22904507565172,
          "Dim5": 14.502621010559727,
          "Dim6": 4.61950556962382,
          "Dim7": 57.677994828122266,
          "Dim8": -5.2614097796684325,
          "Dim9": -15.927495609738957,
          "Sample": "Adult Whole Fly biological rep2"
         },
         {
          "Category": "Adult Whole Fly",
          "Dim1": 74.13619873303287,
          "Dim10": -36.06806705223202,
          "Dim2": 50.18760417553749,
          "Dim3": -22.37966309485542,
          "Dim4": -50.445951349933694,
          "Dim5": 15.684710193243205,
          "Dim6": 7.035627470654826,
          "Dim7": 56.96433922572056,
          "Dim8": -8.96196913954583,
          "Dim9": -18.45941406351142,
          "Sample": "Adult Whole Fly biological rep3"
         },
         {
          "Category": "Adult Whole Fly",
          "Dim1": 74.69829777979139,
          "Dim10": -37.21274063588179,
          "Dim2": 57.582701092958764,
          "Dim3": -24.98068940350258,
          "Dim4": -47.52212496411882,
          "Dim5": 14.818868243863841,
          "Dim6": 8.96126796037544,
          "Dim7": 52.511903275251136,
          "Dim8": -5.653253275506487,
          "Dim9": -17.076484591254363,
          "Sample": "Adult Whole Fly biological rep4"
         },
         {
          "Category": "Adult Salivary Gland",
          "Dim1": 12.72117215494385,
          "Dim10": 11.89864079618689,
          "Dim2": -3.763697969755327,
          "Dim3": 10.199059084296309,
          "Dim4": -0.850130565532952,
          "Dim5": 13.379933977124583,
          "Dim6": 58.99047804303192,
          "Dim7": -48.823048516183285,
          "Dim8": -20.30034927990788,
          "Dim9": 32.23391513389075,
          "Sample": "Adult Salivary Gland rep1"
         },
         {
          "Category": "Adult Salivary Gland",
          "Dim1": 5.152419884957505,
          "Dim10": 18.40549761739707,
          "Dim2": -8.577920815038732,
          "Dim3": 16.317397316877805,
          "Dim4": 6.481135279438169,
          "Dim5": 15.0205305902598,
          "Dim6": 53.13928018327323,
          "Dim7": -44.34889924944619,
          "Dim8": -13.59617236714555,
          "Dim9": 27.2606660221503,
          "Sample": "Adult Salivary Gland rep2"
         },
         {
          "Category": "Adult Salivary Gland",
          "Dim1": 6.050473457198202,
          "Dim10": 17.656253955152273,
          "Dim2": -9.849451540796906,
          "Dim3": 16.025175258435834,
          "Dim4": 8.881699026537976,
          "Dim5": 14.557180287571205,
          "Dim6": 51.9856481668594,
          "Dim7": -38.708579676617816,
          "Dim8": -15.680702074351395,
          "Dim9": 26.570291467783488,
          "Sample": "Adult Salivary Gland rep3"
         },
         {
          "Category": "Adult Salivary Gland",
          "Dim1": 3.4450008774717564,
          "Dim10": 17.73810850491261,
          "Dim2": -8.793232785564852,
          "Dim3": 12.584189885381113,
          "Dim4": 6.937682485207669,
          "Dim5": 16.952754294656398,
          "Dim6": 50.33489631033521,
          "Dim7": -39.0107820451717,
          "Dim8": -12.164675770331792,
          "Dim9": 25.537027485017216,
          "Sample": "Adult Salivary Gland rep4"
         },
         {
          "Category": "Adult Carcass",
          "Dim1": -30.235097044789107,
          "Dim10": -25.781046295853024,
          "Dim2": 15.408268094452243,
          "Dim3": -63.03406718089238,
          "Dim4": -6.9757228907311655,
          "Dim5": 16.332897860690693,
          "Dim6": 4.367008310049505,
          "Dim7": 6.221954598854422,
          "Dim8": 8.940001755281044,
          "Dim9": 19.456876339343697,
          "Sample": "Adult Carcass biological rep1"
         },
         {
          "Category": "Adult Carcass",
          "Dim1": -15.764301493166203,
          "Dim10": -34.361366372029096,
          "Dim2": 24.505457226699924,
          "Dim3": -62.081812326320325,
          "Dim4": -9.13184520666405,
          "Dim5": 21.103661394020925,
          "Dim6": 6.292192182559206,
          "Dim7": 13.60112246613584,
          "Dim8": 6.603441450922435,
          "Dim9": 16.903244192158358,
          "Sample": "Adult Carcass biological rep2"
         },
         {
          "Category": "Adult Carcass",
          "Dim1": -16.032119450777707,
          "Dim10": -33.157827400015634,
          "Dim2": 21.66615890002376,
          "Dim3": -65.3495127053658,
          "Dim4": -13.80416193924759,
          "Dim5": 18.661523153079475,
          "Dim6": 12.312683540209333,
          "Dim7": 3.5912387059484474,
          "Dim8": 4.527071549657828,
          "Dim9": 16.710044202958823,
          "Sample": "Adult Carcass biological rep3"
         },
         {
          "Category": "Adult Carcass",
          "Dim1": -21.569213856585993,
          "Dim10": -29.42398891975012,
          "Dim2": 18.893434047705732,
          "Dim3": -63.06595739484597,
          "Dim4": -0.9320372174157361,
          "Dim5": 18.907591215955783,
          "Dim6": 3.754165290736106,
          "Dim7": 10.183074324600447,
          "Dim8": 12.045513574417546,
          "Dim9": 12.4681159895681,
          "Sample": "Adult Carcass biological rep4"
         },
         {
          "Category": "Adult Thoracoabdominal ganglion",
          "Dim1": -62.590703374643034,
          "Dim10": -1.9701017272453447,
          "Dim2": 71.27008236923218,
          "Dim3": 49.06032594229905,
          "Dim4": -33.43830030006024,
          "Dim5": -39.21353972617512,
          "Dim6": 13.759889357508465,
          "Dim7": -13.044241681174785,
          "Dim8": -10.778603257559249,
          "Dim9": 7.980749662399512,
          "Sample": "Adult Thoracoabdominal ganglion rep1"
         },
         {
          "Category": "Adult Thoracoabdominal ganglion",
          "Dim1": -65.8874937016599,
          "Dim10": 5.153077676818843,
          "Dim2": 66.61149657946332,
          "Dim3": 55.831330332750284,
          "Dim4": -27.667877403334387,
          "Dim5": -40.7897400677748,
          "Dim6": 7.7689940812532585,
          "Dim7": -8.85834144143917,
          "Dim8": -7.293121635883603,
          "Dim9": 1.0901441236803742,
          "Sample": "Adult Thoracoabdominal ganglion rep2"
         },
         {
          "Category": "Adult Thoracoabdominal ganglion",
          "Dim1": -64.05243940107239,
          "Dim10": 4.594138115126605,
          "Dim2": 68.2467277145081,
          "Dim3": 57.53706114514897,
          "Dim4": -30.202962800180277,
          "Dim5": -41.082669720026665,
          "Dim6": 10.866911828002316,
          "Dim7": -12.075455492551368,
          "Dim8": -8.075748421716545,
          "Dim9": 4.540841025573216,
          "Sample": "Adult Thoracoabdominal ganglion rep3"
         },
         {
          "Category": "Adult Thoracoabdominal ganglion",
          "Dim1": -65.87041023898226,
          "Dim10": 4.325400009524762,
          "Dim2": 68.14841305726902,
          "Dim3": 56.27327679422301,
          "Dim4": -29.693054797618583,
          "Dim5": -43.09080869526859,
          "Dim6": 9.88169353642872,
          "Dim7": -12.69201763216929,
          "Dim8": -9.700632681484487,
          "Dim9": 3.6872431347860677,
          "Sample": "Adult Thoracoabdominal ganglion rep4"
         },
         {
          "Category": "Larval Feeding Hind Gut",
          "Dim1": 3.3913029902473832,
          "Dim10": 14.328435283341872,
          "Dim2": -61.92703551634185,
          "Dim3": 10.568271866211017,
          "Dim4": -34.703962116152155,
          "Dim5": 25.613940052078583,
          "Dim6": -32.86697438026723,
          "Dim7": -14.773179380920904,
          "Dim8": 11.14828276679075,
          "Dim9": -3.2408884865221217,
          "Sample": "Larval Feeding Hind Gut rep1"
         },
         {
          "Category": "Larval Feeding Hind Gut",
          "Dim1": 3.7582985295382865,
          "Dim10": 10.418100083193107,
          "Dim2": -57.26052521268354,
          "Dim3": 6.009930140462858,
          "Dim4": -32.261385771368474,
          "Dim5": 25.002308203340366,
          "Dim6": -34.62841506409812,
          "Dim7": -16.274767834835426,
          "Dim8": 5.286531045795008,
          "Dim9": -3.8403521769827917,
          "Sample": "Larval Feeding Hind Gut rep2"
         },
         {
          "Category": "Larval Feeding Hind Gut",
          "Dim1": 2.460676109697925,
          "Dim10": 13.114734897084817,
          "Dim2": -54.120242238475385,
          "Dim3": 6.761808676674566,
          "Dim4": -36.41226789083583,
          "Dim5": 27.3511724326887,
          "Dim6": -29.823062756989774,
          "Dim7": -15.064226586084288,
          "Dim8": 3.982738940595842,
          "Dim9": 0.9678324251603796,
          "Sample": "Larval Feeding Hind Gut rep3"
         },
         {
          "Category": "Larval Feeding Hind Gut",
          "Dim1": 2.243895587434563,
          "Dim10": 11.556291691536291,
          "Dim2": -55.40212536667972,
          "Dim3": 6.968282222880868,
          "Dim4": -34.41596158320671,
          "Dim5": 28.482096369395087,
          "Dim6": -33.07253005981034,
          "Dim7": -17.000010806170728,
          "Dim8": 6.250834755602186,
          "Dim9": -2.433180213801298,
          "Sample": "Larval Feeding Hind Gut rep4"
         },
         {
          "Category": "Larval Feeding Mid Gut",
          "Dim1": 40.06015140352338,
          "Dim10": 6.07197805937705,
          "Dim2": -72.61830332328472,
          "Dim3": -0.2974444133764447,
          "Dim4": -67.86556868002053,
          "Dim5": -33.038117784949954,
          "Dim6": 14.221321243370511,
          "Dim7": 21.303718139252595,
          "Dim8": -34.508400458459896,
          "Dim9": 9.40905694923662,
          "Sample": "Larval Feeding Mid Gut rep1"
         },
         {
          "Category": "Larval Feeding Mid Gut",
          "Dim1": 37.12137761350167,
          "Dim10": 10.545964058145094,
          "Dim2": -79.4242008678716,
          "Dim3": 1.8745285566336278,
          "Dim4": -65.82785626614971,
          "Dim5": -35.72080348839227,
          "Dim6": 13.201632843956322,
          "Dim7": 24.879726079920886,
          "Dim8": -32.512731860686344,
          "Dim9": 7.676423989818972,
          "Sample": "Larval Feeding Mid Gut rep2"
         },
         {
          "Category": "Larval Feeding Mid Gut",
          "Dim1": 37.415741564270526,
          "Dim10": 12.668656555346786,
          "Dim2": -83.33589231799162,
          "Dim3": 4.541551187541889,
          "Dim4": -64.55072573870343,
          "Dim5": -35.013399262199,
          "Dim6": 13.457737585789431,
          "Dim7": 25.517359359758114,
          "Dim8": -32.69809197682469,
          "Dim9": 7.916363694925971,
          "Sample": "Larval Feeding Mid Gut rep3"
         },
         {
          "Category": "Larval Feeding Mid Gut",
          "Dim1": 36.239311391993574,
          "Dim10": 12.597182551535909,
          "Dim2": -83.20041951981945,
          "Dim3": 6.03150496240678,
          "Dim4": -63.986525168679144,
          "Dim5": -35.91965103514748,
          "Dim6": 11.47353414949189,
          "Dim7": 24.22834713124521,
          "Dim8": -31.91047897812224,
          "Dim9": 8.764138247528004,
          "Sample": "Larval Feeding Mid Gut rep4"
         },
         {
          "Category": "Larval Feeding Salivary Gland",
          "Dim1": 13.481309154128272,
          "Dim10": 4.1466681103336445,
          "Dim2": -31.97239768535481,
          "Dim3": 42.045569794332586,
          "Dim4": 38.58970166461815,
          "Dim5": 14.647382548196347,
          "Dim6": 2.744981068624345,
          "Dim7": -40.53836059659403,
          "Dim8": -26.350542098901283,
          "Dim9": 6.139532982016533,
          "Sample": "Larval Feeding Salivary Gland rep1"
         },
         {
          "Category": "Larval Feeding Salivary Gland",
          "Dim1": 12.241557235841253,
          "Dim10": 5.516708941533746,
          "Dim2": -34.26955708882982,
          "Dim3": 42.65853649398623,
          "Dim4": 40.8128243859431,
          "Dim5": 13.465942735422098,
          "Dim6": 0.24201027483561938,
          "Dim7": -39.30618700284527,
          "Dim8": -26.05655755277548,
          "Dim9": 5.058330931443502,
          "Sample": "Larval Feeding Salivary Gland rep2"
         },
         {
          "Category": "Larval Feeding Salivary Gland",
          "Dim1": 11.299242198559938,
          "Dim10": 4.785246767023647,
          "Dim2": -28.244734835549682,
          "Dim3": 41.06838646740213,
          "Dim4": 35.70111099929908,
          "Dim5": 15.429590107839969,
          "Dim6": 3.904485535166359,
          "Dim7": -41.89983501818616,
          "Dim8": -28.379839034955392,
          "Dim9": 7.528078741701641,
          "Sample": "Larval Feeding Salivary Gland rep3"
         },
         {
          "Category": "Larval Feeding Salivary Gland",
          "Dim1": 11.802567287012684,
          "Dim10": 6.915809301725284,
          "Dim2": -31.777247408475837,
          "Dim3": 48.104474331968895,
          "Dim4": 40.91205380321078,
          "Dim5": 15.02012579744562,
          "Dim6": 1.6404405290649806,
          "Dim7": -39.89620372953273,
          "Dim8": -22.8303450039656,
          "Dim9": 3.777682495464071,
          "Sample": "Larval Feeding Salivary Gland rep4"
         },
         {
          "Category": "Adult Female Spermatheca Mated",
          "Dim1": -16.58794916440231,
          "Dim10": 36.06100936191684,
          "Dim2": -2.1955762856395973,
          "Dim3": -48.55544713643543,
          "Dim4": 43.724126991360045,
          "Dim5": -14.22684067399597,
          "Dim6": 10.672005105821707,
          "Dim7": 7.08093424549026,
          "Dim8": -22.427318773202078,
          "Dim9": -1.078615332717669,
          "Sample": "Adult Female Spermatheca Mated rep1"
         },
         {
          "Category": "Adult Female Spermatheca Mated",
          "Dim1": -24.09930645467112,
          "Dim10": 38.98415961076399,
          "Dim2": -8.785254133754517,
          "Dim3": -45.439178262647076,
          "Dim4": 45.24338449484765,
          "Dim5": -10.102371941570318,
          "Dim6": 7.169338146653778,
          "Dim7": 11.40745762356472,
          "Dim8": -15.984498679851699,
          "Dim9": -3.9318139885554206,
          "Sample": "Adult Female Spermatheca Mated rep2"
         },
         {
          "Category": "Adult Female Spermatheca Mated",
          "Dim1": -20.12440014464873,
          "Dim10": 35.02552306745374,
          "Dim2": 0.003793993490673553,
          "Dim3": -51.94122711887077,
          "Dim4": 41.37850393708803,
          "Dim5": -17.599381106650867,
          "Dim6": 10.816004727267465,
          "Dim7": 3.2481871095271586,
          "Dim8": -25.53647555129435,
          "Dim9": 1.2481245481733252,
          "Sample": "Adult Female Spermatheca Mated rep3"
         },
         {
          "Category": "Adult Female Spermatheca Mated",
          "Dim1": -21.252336133475637,
          "Dim10": 36.2399691306605,
          "Dim2": -12.566441232529437,
          "Dim3": -50.36270249393075,
          "Dim4": 51.92631368635302,
          "Dim5": -16.006268080304263,
          "Dim6": 2.148634453582428,
          "Dim7": 17.08072371160191,
          "Dim8": -12.607972585116508,
          "Dim9": -6.904969310073227,
          "Sample": "Adult Female Spermatheca Mated rep4"
         },
         {
          "Category": "Adult Female Spermatheca Virgin",
          "Dim1": -23.33418982692984,
          "Dim10": 37.002315422730156,
          "Dim2": -9.419265283369619,
          "Dim3": -51.72041468247712,
          "Dim4": 49.49708953970229,
          "Dim5": -20.309337301587835,
          "Dim6": 6.368331778682228,
          "Dim7": 12.91730998536288,
          "Dim8": -17.7353903155339,
          "Dim9": -3.2054218717242993,
          "Sample": "Adult Female Spermatheca Virgin rep1"
         },
         {
          "Category": "Adult Female Spermatheca Virgin",
          "Dim1": -20.45130015217645,
          "Dim10": 36.27214831981694,
          "Dim2": -7.828792552250469,
          "Dim3": -53.68849367734742,
          "Dim4": 50.31624392266678,
          "Dim5": -21.328479452713708,
          "Dim6": 7.779987809471924,
          "Dim7": 10.471592143609957,
          "Dim8": -18.849639043074344,
          "Dim9": -3.0077507483524055,
          "Sample": "Adult Female Spermatheca Virgin rep2"
         },
         {
          "Category": "Adult Female Spermatheca Virgin",
          "Dim1": -22.144793304380947,
          "Dim10": 36.11674143721239,
          "Dim2": -7.018663433887156,
          "Dim3": -52.55070209736583,
          "Dim4": 49.17717685029231,
          "Dim5": -22.60907501881737,
          "Dim6": 7.351046551315998,
          "Dim7": 10.089764579677386,
          "Dim8": -17.351115707431838,
          "Dim9": -5.052003029039016,
          "Sample": "Adult Female Spermatheca Virgin rep3"
         },
         {
          "Category": "Adult Female Spermatheca Virgin",
          "Dim1": -23.718539825385324,
          "Dim10": 38.16116702464074,
          "Dim2": -7.43165460361333,
          "Dim3": -48.25583024459006,
          "Dim4": 51.839806220634884,
          "Dim5": -21.392473282946177,
          "Dim6": 5.464656183596563,
          "Dim7": 13.849510851498932,
          "Dim8": -17.60720404230184,
          "Dim9": -4.956298767967765,
          "Sample": "Adult Female Spermatheca Virgin rep4"
         },
         {
          "Category": "Larval Feeding Malpighian Tubule",
          "Dim1": 16.720878350906276,
          "Dim10": -8.989835103898331,
          "Dim2": -72.65597427029724,
          "Dim3": 30.402763351908042,
          "Dim4": 2.6880485831451377,
          "Dim5": -48.56755574327963,
          "Dim6": 1.901570327328228,
          "Dim7": -19.950702102109865,
          "Dim8": 69.35720675458361,
          "Dim9": -17.970199334573767,
          "Sample": "Larval Feeding Malpighian Tubule biological rep1"
         },
         {
          "Category": "Larval Feeding Malpighian Tubule",
          "Dim1": 18.697665591782858,
          "Dim10": -10.382443305725333,
          "Dim2": -66.83504866133646,
          "Dim3": 26.26808026084986,
          "Dim4": -1.0058154594703614,
          "Dim5": -47.8726642576708,
          "Dim6": 7.616960587933916,
          "Dim7": -26.971698586374085,
          "Dim8": 61.869357612239604,
          "Dim9": -14.632259065102954,
          "Sample": "Larval Feeding Malpighian Tubule biological rep2"
         },
         {
          "Category": "Larval Feeding Malpighian Tubule",
          "Dim1": 17.22655324317732,
          "Dim10": -9.958618150168077,
          "Dim2": -67.85891800127374,
          "Dim3": 28.989487730264646,
          "Dim4": 1.0014350218093484,
          "Dim5": -49.22384468666585,
          "Dim6": 4.8175450145112,
          "Dim7": -24.57987285391302,
          "Dim8": 65.04921777401653,
          "Dim9": -17.664787512770666,
          "Sample": "Larval Feeding Malpighian Tubule biological rep3"
         },
         {
          "Category": "Larval Feeding Malpighian Tubule",
          "Dim1": 18.19180007002214,
          "Dim10": -9.757797339175978,
          "Dim2": -68.4764328992361,
          "Dim3": 26.503850939030663,
          "Dim4": 0.7706954460851384,
          "Dim5": -50.25917764107802,
          "Dim6": 6.463120061270338,
          "Dim7": -26.89570192454883,
          "Dim8": 65.65083798795882,
          "Dim9": -15.865445223576074,
          "Sample": "Larval Feeding Malpighian Tubule biological rep4"
         },
         {
          "Category": "Larval Feeding Fatbody",
          "Dim1": 9.96136509441084,
          "Dim10": -30.186138167758827,
          "Dim2": -24.075321816971307,
          "Dim3": -22.97123110355208,
          "Dim4": 63.31069477674182,
          "Dim5": -39.41370927843179,
          "Dim6": -33.39252509139615,
          "Dim7": -12.146932503936979,
          "Dim8": -20.724713884595598,
          "Dim9": -12.068305142318515,
          "Sample": "Larval Feeding Fatbody biological rep1"
         },
         {
          "Category": "Larval Feeding Fatbody",
          "Dim1": 6.9708180241710425,
          "Dim10": -24.682422286213594,
          "Dim2": -28.376368352393015,
          "Dim3": -16.62182962588147,
          "Dim4": 67.94279512135226,
          "Dim5": -38.28491379640795,
          "Dim6": -38.59928025784761,
          "Dim7": -7.76588220262925,
          "Dim8": -18.537687757145818,
          "Dim9": -13.656097774290211,
          "Sample": "Larval Feeding Fatbody biological rep2"
         },
         {
          "Category": "Larval Feeding Fatbody",
          "Dim1": 11.241241438427199,
          "Dim10": -30.373825484114125,
          "Dim2": -10.885204236445798,
          "Dim3": -25.36994073695579,
          "Dim4": 52.35266131904463,
          "Dim5": -44.44175741039607,
          "Dim6": -21.2952923463702,
          "Dim7": -21.966535847385785,
          "Dim8": -31.065049023942347,
          "Dim9": -7.204221596136725,
          "Sample": "Larval Feeding Fatbody biological rep3"
         },
         {
          "Category": "Larval Feeding Fatbody",
          "Dim1": 89.93462684615729,
          "Dim10": -19.029415614140206,
          "Dim2": 31.697571566561034,
          "Dim3": -33.547944080448566,
          "Dim4": 53.01980443346645,
          "Dim5": -41.1050154143947,
          "Dim6": -35.893930024846405,
          "Dim7": -15.620485240856574,
          "Dim8": -13.671035349399768,
          "Dim9": -9.486240460874956,
          "Sample": "Larval Feeding Fatbody biological rep4"
         },
         {
          "Category": "Larval Feeding Carcass",
          "Dim1": -6.087407567363704,
          "Dim10": -8.866283497949635,
          "Dim2": -23.1877146438749,
          "Dim3": 8.214673249232968,
          "Dim4": -12.926562709124488,
          "Dim5": 61.71184774981559,
          "Dim6": -49.48400983336276,
          "Dim7": -32.18667250564498,
          "Dim8": -11.868528038701537,
          "Dim9": 17.337894887107815,
          "Sample": "Larval Feeding Carcass biological rep1"
         },
         {
          "Category": "Larval Feeding Carcass",
          "Dim1": -8.472899377540212,
          "Dim10": -7.463317198354973,
          "Dim2": -26.366921847122306,
          "Dim3": 11.500680989436743,
          "Dim4": -9.118448502413637,
          "Dim5": 64.7437326442213,
          "Dim6": -52.764844767518774,
          "Dim7": -30.199378458714943,
          "Dim8": -7.732440323620478,
          "Dim9": 15.604069286094449,
          "Sample": "Larval Feeding Carcass biological rep2"
         },
         {
          "Category": "Larval Feeding Carcass",
          "Dim1": -5.771161258552091,
          "Dim10": -8.067020251058837,
          "Dim2": -24.75202172103701,
          "Dim3": 10.341662344306208,
          "Dim4": -12.083629708432865,
          "Dim5": 59.65076162842106,
          "Dim6": -52.0682326105072,
          "Dim7": -32.62060464207049,
          "Dim8": -4.690801910865943,
          "Dim9": 14.245005372033221,
          "Sample": "Larval Feeding Carcass biological rep3"
         },
         {
          "Category": "Larval Feeding Carcass",
          "Dim1": -1.9978427829883285,
          "Dim10": -7.438603686517405,
          "Dim2": -22.563803324140718,
          "Dim3": 11.110755841958394,
          "Dim4": -10.7096633178076,
          "Dim5": 63.3171279660898,
          "Dim6": -49.958573228893336,
          "Dim7": -33.11080477817214,
          "Dim8": -6.975753941269461,
          "Dim9": 16.940685202033517,
          "Sample": "Larval Feeding Carcass biological rep4"
         },
         {
          "Category": "Larval Feeding Central Nevous System",
          "Dim1": -40.30936667893775,
          "Dim10": 6.062274885196474,
          "Dim2": 45.36757848053159,
          "Dim3": 102.90157782429213,
          "Dim4": -4.573772781401105,
          "Dim5": -15.887218673169803,
          "Dim6": -19.958007333896514,
          "Dim7": -0.3842036288363182,
          "Dim8": -29.138265650298997,
          "Dim9": 1.9095117872238738,
          "Sample": "Larval Feeding Central Nevous System biological rep1"
         },
         {
          "Category": "Larval Feeding Central Nevous System",
          "Dim1": -34.74136452732798,
          "Dim10": 5.3336487028222965,
          "Dim2": 46.01641620410258,
          "Dim3": 94.64122173398907,
          "Dim4": -10.934915828056475,
          "Dim5": -14.910906652378811,
          "Dim6": -15.531525556527084,
          "Dim7": -5.126289170987669,
          "Dim8": -33.80304151790178,
          "Dim9": 5.243304757839506,
          "Sample": "Larval Feeding Central Nevous System biological rep2"
         },
         {
          "Category": "Larval Feeding Central Nevous System",
          "Dim1": -38.0047210864866,
          "Dim10": 6.693242034531437,
          "Dim2": 44.33398219899819,
          "Dim3": 101.55766410443144,
          "Dim4": -5.8972185056668485,
          "Dim5": -13.675234300953178,
          "Dim6": -21.863925504164843,
          "Dim7": -2.3706007082635745,
          "Dim8": -31.41564775018591,
          "Dim9": 2.440187358776324,
          "Sample": "Larval Feeding Central Nevous System biological rep3"
         },
         {
          "Category": "Larval Feeding Central Nevous System",
          "Dim1": -38.776181842238714,
          "Dim10": 6.776002966865961,
          "Dim2": 47.03546446063994,
          "Dim3": 98.5936019578514,
          "Dim4": -8.303923695498428,
          "Dim5": -16.299037554723082,
          "Dim6": -17.871260061374766,
          "Dim7": -3.4472262351356635,
          "Dim8": -30.787032967958975,
          "Dim9": 3.167029579031577,
          "Sample": "Larval Feeding Central Nevous System biological rep4"
         },
         {
          "Category": "Larval Feeding Trachea",
          "Dim1": -10.123363317212478,
          "Dim10": 15.273706857673957,
          "Dim2": -23.017096655437395,
          "Dim3": 27.094282100080722,
          "Dim4": 16.956792812481932,
          "Dim5": 60.08661640092683,
          "Dim6": -58.38378863566698,
          "Dim7": -15.785452011791996,
          "Dim8": -8.119226794449869,
          "Dim9": -4.087043693785843,
          "Sample": "Larval Feeding Trachea biological rep1"
         },
         {
          "Category": "Larval Feeding Trachea",
          "Dim1": -13.570951513476945,
          "Dim10": 15.962528216400388,
          "Dim2": -26.54150244922701,
          "Dim3": 36.696294772438875,
          "Dim4": 15.475801225389413,
          "Dim5": 67.9554887576035,
          "Dim6": -57.07214312862907,
          "Dim7": -14.444707553842475,
          "Dim8": -4.81879341937038,
          "Dim9": -0.21596334496626446,
          "Sample": "Larval Feeding Trachea biological rep2"
         },
         {
          "Category": "Larval Feeding Trachea",
          "Dim1": 26.16521166827251,
          "Dim10": 12.644090353618012,
          "Dim2": -1.7008567866942386,
          "Dim3": 19.73635897063331,
          "Dim4": 0.4415163331586204,
          "Dim5": 64.25053721170438,
          "Dim6": -57.69781940215978,
          "Dim7": -20.30869486405357,
          "Dim8": -12.069617614648951,
          "Dim9": -2.458602876225544,
          "Sample": "Larval Feeding Trachea biological rep3"
         },
         {
          "Category": "Larval Feeding Trachea",
          "Dim1": -19.412336717010287,
          "Dim10": 12.431217165201746,
          "Dim2": -4.574630217786097,
          "Dim3": 16.84772636755738,
          "Dim4": -4.423588554008901,
          "Dim5": 61.554351909718896,
          "Dim6": -55.65790798303935,
          "Dim7": -13.807619139983768,
          "Dim8": -4.24449308425739,
          "Dim9": -9.14294734315683,
          "Sample": "Larval Feeding Trachea biological rep4"
         },
         {
          "Category": "5th Passage Drosophila S2 Cells",
          "Dim1": 9.300710208944192,
          "Dim10": -14.853353062782222,
          "Dim2": -20.403452391346402,
          "Dim3": 77.69946513766344,
          "Dim4": 53.71784567654771,
          "Dim5": -2.761673413883153,
          "Dim6": -15.370603464861642,
          "Dim7": 32.95639840858553,
          "Dim8": -1.0328799459406182,
          "Dim9": 16.051976182732112,
          "Sample": "5th Passage Drosophila S2 Cells biological rep1"
         },
         {
          "Category": "5th Passage Drosophila S2 Cells",
          "Dim1": 11.466901674568742,
          "Dim10": -16.272308272087162,
          "Dim2": -20.441560842545407,
          "Dim3": 76.27548135376294,
          "Dim4": 52.9883455052225,
          "Dim5": -3.0232212260463562,
          "Dim6": -14.268717368569979,
          "Dim7": 31.178290995268252,
          "Dim8": -2.1232469220968615,
          "Dim9": 17.095062586726595,
          "Sample": "5th Passage Drosophila S2 Cells biological rep2"
         },
         {
          "Category": "5th Passage Drosophila S2 Cells",
          "Dim1": 11.884568796024356,
          "Dim10": -16.433187255287685,
          "Dim2": -20.147470215481167,
          "Dim3": 76.25003309477229,
          "Dim4": 53.52542724424584,
          "Dim5": -2.7931986574987007,
          "Dim6": -13.291019830669944,
          "Dim7": 30.94359117136523,
          "Dim8": -2.143659480793039,
          "Dim9": 16.71103592934443,
          "Sample": "5th Passage Drosophila S2 Cells biological rep3"
         },
         {
          "Category": "5th Passage Drosophila S2 Cells",
          "Dim1": 9.671920058416791,
          "Dim10": -14.703218187424545,
          "Dim2": -22.225667332656766,
          "Dim3": 81.94052101193279,
          "Dim4": 57.78287141144227,
          "Dim5": -2.1981264938190486,
          "Dim6": -16.931060935960133,
          "Dim7": 35.30848551917027,
          "Dim8": 1.0651393199123578,
          "Dim9": 14.88695339183739,
          "Sample": "5th Passage Drosophila S2 Cells biological rep4"
         },
         {
          "Category": "Adult Fatbody",
          "Dim1": -17.697209757621184,
          "Dim10": -5.840418410972,
          "Dim2": 4.560371591492696,
          "Dim3": -52.3226151630091,
          "Dim4": 36.59563676688562,
          "Dim5": -20.023044811657968,
          "Dim6": 6.354566722861616,
          "Dim7": 3.2180371968333303,
          "Dim8": -15.657596490804126,
          "Dim9": 13.81862740623164,
          "Sample": "Adult Fatbody biological rep1"
         },
         {
          "Category": "Adult Fatbody",
          "Dim1": -15.846751442377533,
          "Dim10": -4.944803565796663,
          "Dim2": 5.685442285256823,
          "Dim3": -52.363015233593075,
          "Dim4": 37.02157848534715,
          "Dim5": -20.264159225539196,
          "Dim6": 7.794203600316802,
          "Dim7": 2.574323374868917,
          "Dim8": -21.517462837126466,
          "Dim9": 13.821336997247448,
          "Sample": "Adult Fatbody biological rep2"
         },
         {
          "Category": "Adult Fatbody",
          "Dim1": -16.24793035507724,
          "Dim10": -9.980524659881178,
          "Dim2": -1.9783457736864045,
          "Dim3": -51.014122170977195,
          "Dim4": 34.34458603333027,
          "Dim5": -24.22644303762318,
          "Dim6": 5.001064565661344,
          "Dim7": 5.3257631804163506,
          "Dim8": -7.693112775741559,
          "Dim9": 10.164374403225189,
          "Sample": "Adult Fatbody biological rep3"
         },
         {
          "Category": "Adult Fatbody",
          "Dim1": -21.12062415024584,
          "Dim10": -6.201674306630696,
          "Dim2": -1.4219859385627363,
          "Dim3": -49.22676155054991,
          "Dim4": 46.39348181177187,
          "Dim5": -22.688852783827215,
          "Dim6": 2.7197819629627067,
          "Dim7": 11.669165090771822,
          "Dim8": -10.073682545718333,
          "Dim9": 9.211072300555017,
          "Sample": "Adult Fatbody biological rep4"
         },
         {
          "Category": "Adult Eye",
          "Dim1": -70.46950037865739,
          "Dim10": 13.395909347154767,
          "Dim2": 48.34842046070023,
          "Dim3": -1.869772299419838,
          "Dim4": -18.240552893921468,
          "Dim5": -0.10895528784344038,
          "Dim6": -21.671928689185503,
          "Dim7": -1.9898193383538154,
          "Dim8": 17.00086017124162,
          "Dim9": -27.72465654920567,
          "Sample": "Adult Eye biological rep1"
         },
         {
          "Category": "Adult Eye",
          "Dim1": -68.3170711012441,
          "Dim10": 12.152063138789382,
          "Dim2": 43.467044946098774,
          "Dim3": -16.238869277593846,
          "Dim4": -11.294178910496903,
          "Dim5": -4.394572362286183,
          "Dim6": -24.29735074060034,
          "Dim7": 1.2111475752502239,
          "Dim8": 16.240617363201146,
          "Dim9": -29.658648528527035,
          "Sample": "Adult Eye biological rep2"
         },
         {
          "Category": "Adult Eye",
          "Dim1": -68.00956028854733,
          "Dim10": 10.787518792423016,
          "Dim2": 42.42701502535709,
          "Dim3": -13.913014864811172,
          "Dim4": -21.552081649265123,
          "Dim5": -4.200462345867107,
          "Dim6": -21.140348986818235,
          "Dim7": 5.991149709625384,
          "Dim8": 16.322559474828683,
          "Dim9": -29.967400915610632,
          "Sample": "Adult Eye biological rep3"
         },
         {
          "Category": "Adult Eye",
          "Dim1": -69.8957260390636,
          "Dim10": 13.557131424703213,
          "Dim2": 45.416897970317905,
          "Dim3": -9.678537063283965,
          "Dim4": -15.258780647969667,
          "Dim5": -2.5170336282230275,
          "Dim6": -18.866222466563723,
          "Dim7": 3.0075007407215866,
          "Dim8": 20.661485136414825,
          "Dim9": -30.764954795827396,
          "Sample": "Adult Eye biological rep4"
         },
         {
          "Category": "Adult Heart",
          "Dim1": -35.95740061063792,
          "Dim10": -7.589241699841404,
          "Dim2": -6.388810755411951,
          "Dim3": -45.01154495369112,
          "Dim4": 31.99321939819404,
          "Dim5": -3.7262252845606585,
          "Dim6": -12.90394970968669,
          "Dim7": 22.916067568251933,
          "Dim8": 22.754698098427063,
          "Dim9": 9.011989907203066,
          "Sample": "Adult Heart biological rep1"
         },
         {
          "Category": "Adult Heart",
          "Dim1": -36.73617409719265,
          "Dim10": -7.028652147053872,
          "Dim2": -3.8959368668311476,
          "Dim3": -46.365107080923465,
          "Dim4": 30.245235077086438,
          "Dim5": -2.8550496284228757,
          "Dim6": -13.21608806145769,
          "Dim7": 20.848350801517967,
          "Dim8": 23.239474068374395,
          "Dim9": 10.375893031891403,
          "Sample": "Adult Heart biological rep2"
         },
         {
          "Category": "Adult Heart",
          "Dim1": -40.125841613028015,
          "Dim10": -6.594307638940739,
          "Dim2": -7.6365819445365695,
          "Dim3": -43.871766475739996,
          "Dim4": 27.504617750330134,
          "Dim5": 0.19362958607472347,
          "Dim6": -19.634756209077867,
          "Dim7": 22.272322278407795,
          "Dim8": 25.4430453401338,
          "Dim9": 6.842066030502003,
          "Sample": "Adult Heart biological rep3"
         },
         {
          "Category": "Adult Heart",
          "Dim1": -36.17690854792393,
          "Dim10": -6.485381484717592,
          "Dim2": -7.62879732404887,
          "Dim3": -46.55530227285922,
          "Dim4": 32.15508783437441,
          "Dim5": -6.382766661979361,
          "Dim6": -11.878539310920383,
          "Dim7": 20.71545174943434,
          "Dim8": 23.811951596108376,
          "Dim9": 9.839349944035911,
          "Sample": "Adult Heart biological rep4"
         },
         {
          "Category": "Adult Male Ejaculatory Duct",
          "Dim1": -9.182770332953003,
          "Dim10": -7.271189336849823,
          "Dim2": -15.88807563961919,
          "Dim3": -19.351697743039153,
          "Dim4": 15.483179459822797,
          "Dim5": 43.01452861551008,
          "Dim6": 38.07473136435951,
          "Dim7": -4.574843533541009,
          "Dim8": -4.770280185275558,
          "Dim9": -41.522846261612955,
          "Sample": "Adult Male Ejaculatory Duct biological rep1"
         },
         {
          "Category": "Adult Male Ejaculatory Duct",
          "Dim1": -1.1076860961968162,
          "Dim10": -10.012841977064706,
          "Dim2": -9.160927348218928,
          "Dim3": -24.055227282623036,
          "Dim4": 10.802457172845035,
          "Dim5": 44.154212472110096,
          "Dim6": 46.41595549720792,
          "Dim7": -14.251778215210285,
          "Dim8": -11.586646635307444,
          "Dim9": -36.75949926189785,
          "Sample": "Adult Male Ejaculatory Duct biological rep2"
         },
         {
          "Category": "Adult Male Ejaculatory Duct",
          "Dim1": -8.539299507167545,
          "Dim10": -9.939186782926656,
          "Dim2": -10.858518684296524,
          "Dim3": -17.633836622847824,
          "Dim4": 14.649139899334866,
          "Dim5": 47.7093701815387,
          "Dim6": 44.31167068127111,
          "Dim7": -6.590407993491492,
          "Dim8": -3.803675026767322,
          "Dim9": -42.25443696533799,
          "Sample": "Adult Male Ejaculatory Duct biological rep3"
         },
         {
          "Category": "Adult Male Ejaculatory Duct",
          "Dim1": -3.559114472000894,
          "Dim10": -12.003752521399681,
          "Dim2": -8.951896113288836,
          "Dim3": -23.369705460075764,
          "Dim4": 12.308428644830563,
          "Dim5": 43.56826359955965,
          "Dim6": 44.18599931669221,
          "Dim7": -10.613763757448604,
          "Dim8": -10.29663470819167,
          "Dim9": -37.37769745819932,
          "Sample": "Adult Male Ejaculatory Duct biological rep4"
         },
         {
          "Category": "Whole Larvae Feeding",
          "Dim1": 62.5784610354068,
          "Dim10": -14.420515262040821,
          "Dim2": -24.217577033503442,
          "Dim3": -26.1027537905151,
          "Dim4": -67.73566973248968,
          "Dim5": -3.105826360381013,
          "Dim6": -54.48224661565557,
          "Dim7": -16.637260749124806,
          "Dim8": -39.723497399371794,
          "Dim9": -4.53028857653778,
          "Sample": "Whole Larvae Feeding biological rep1"
         },
         {
          "Category": "Whole Larvae Feeding",
          "Dim1": 72.4435221370705,
          "Dim10": -13.116266050321629,
          "Dim2": -20.737578602009954,
          "Dim3": -29.63416557492577,
          "Dim4": -67.7214762335259,
          "Dim5": -1.8461132698574152,
          "Dim6": -53.237758210845,
          "Dim7": -18.05940565248851,
          "Dim8": -38.0971286947649,
          "Dim9": -4.42121401063675,
          "Sample": "Whole Larvae Feeding biological rep2"
         },
         {
          "Category": "Whole Larvae Feeding",
          "Dim1": 56.469560032082946,
          "Dim10": -15.612429615353522,
          "Dim2": -26.531677075970837,
          "Dim3": -24.502312164718468,
          "Dim4": -66.71432676070509,
          "Dim5": -2.929905415159622,
          "Dim6": -54.32113783809129,
          "Dim7": -16.59270974700494,
          "Dim8": -39.404343168176844,
          "Dim9": -5.9205373634101,
          "Sample": "Whole Larvae Feeding biological rep3"
         },
         {
          "Category": "Whole Larvae Feeding",
          "Dim1": 56.56635960573314,
          "Dim10": -13.677227034832057,
          "Dim2": -27.179619733890068,
          "Dim3": -23.800171938950864,
          "Dim4": -65.83177513400237,
          "Dim5": -2.4255865191936032,
          "Dim6": -58.093317448961564,
          "Dim7": -15.41464337997078,
          "Dim8": -36.940893163814316,
          "Dim9": -8.293724187271676,
          "Sample": "Whole Larvae Feeding biological rep4"
         },
         {
          "Category": "Adult Trachea",
          "Dim1": -30.87705606558587,
          "Dim10": -16.26167206291372,
          "Dim2": 44.63554047690784,
          "Dim3": -35.458989214168334,
          "Dim4": -27.727336921922923,
          "Dim5": -12.235854766838203,
          "Dim6": -4.435922004087154,
          "Dim7": 4.493287648851439,
          "Dim8": 2.6825404698716184,
          "Dim9": -4.638829001900124,
          "Sample": "Adult Trachea biological rep1"
         },
         {
          "Category": "Adult Trachea",
          "Dim1": -38.21230962966855,
          "Dim10": -8.882876576518552,
          "Dim2": 21.30580066389453,
          "Dim3": -26.104046236513724,
          "Dim4": -10.449141677861837,
          "Dim5": 8.092880337296192,
          "Dim6": -4.5145471113065065,
          "Dim7": 10.631496987742079,
          "Dim8": 9.07847645085759,
          "Dim9": 7.739533884735639,
          "Sample": "Adult Trachea biological rep2"
         },
         {
          "Category": "Adult Trachea",
          "Dim1": -42.39397604611084,
          "Dim10": -12.757511298303191,
          "Dim2": 43.688630582389735,
          "Dim3": -36.513195978664,
          "Dim4": -20.911313592109963,
          "Dim5": -5.82526020048112,
          "Dim6": -5.087453189557896,
          "Dim7": 5.309160624383417,
          "Dim8": 3.529713210847366,
          "Dim9": 1.8224343067437065,
          "Sample": "Adult Trachea biological rep3"
         },
         {
          "Category": "Adult Trachea",
          "Dim1": -18.222644617602995,
          "Dim10": -12.855000515496755,
          "Dim2": 3.8541122740288345,
          "Dim3": -56.51430871174586,
          "Dim4": 11.8446895567324,
          "Dim5": 6.725511586147714,
          "Dim6": -0.9273167426916342,
          "Dim7": 12.846567618138536,
          "Dim8": 7.1923387441232185,
          "Dim9": 7.8093894459738245,
          "Sample": "Adult Trachea biological rep4"
         },
         {
          "Category": "Adult Thoracic Muscle",
          "Dim1": -15.806133687219075,
          "Dim10": -37.553588027553765,
          "Dim2": 21.785448282893974,
          "Dim3": -30.002550009606953,
          "Dim4": -5.175793333405849,
          "Dim5": 3.013425025172878,
          "Dim6": 34.17880678794843,
          "Dim7": -14.544307094743523,
          "Dim8": 20.302652349540157,
          "Dim9": 79.97253754859648,
          "Sample": "Adult Thoracic Muscle biological rep1"
         },
         {
          "Category": "Adult Thoracic Muscle",
          "Dim1": -16.14122092761057,
          "Dim10": -34.41920504349453,
          "Dim2": 24.543956771650123,
          "Dim3": -27.302134491765194,
          "Dim4": -7.8640385397304895,
          "Dim5": 6.319606450375673,
          "Dim6": 38.52850342476187,
          "Dim7": -19.398102226455098,
          "Dim8": 20.421452271986997,
          "Dim9": 87.43653769476313,
          "Sample": "Adult Thoracic Muscle biological rep2"
         },
         {
          "Category": "Adult Thoracic Muscle",
          "Dim1": -21.080166806650553,
          "Dim10": -36.60694098828505,
          "Dim2": 37.32222433293534,
          "Dim3": -25.370126694557968,
          "Dim4": -26.50986690951168,
          "Dim5": -5.26371529428771,
          "Dim6": 36.22987326506678,
          "Dim7": -25.117719234536562,
          "Dim8": 10.949014429319908,
          "Dim9": 78.44547345018974,
          "Sample": "Adult Thoracic Muscle biological rep3"
         },
         {
          "Category": "Adult Thoracic Muscle",
          "Dim1": -18.03142521632845,
          "Dim10": 26.220438656472613,
          "Dim2": -9.961700528621273,
          "Dim3": -52.81675812735916,
          "Dim4": 45.31513815591418,
          "Dim5": -9.026920670983614,
          "Dim6": 9.515989894798398,
          "Dim7": 11.367309547738893,
          "Dim8": -11.396331849303756,
          "Dim9": 0.42234110427848515,
          "Sample": "Adult Thoracic Muscle biological rep4"
         },
         {
          "Category": "Adult Wings",
          "Dim1": -54.300081128077515,
          "Dim10": 0.6384845300632597,
          "Dim2": 20.24297087374519,
          "Dim3": -27.98395773967694,
          "Dim4": -22.5653349866805,
          "Dim5": 28.265264935962588,
          "Dim6": -16.2783309192802,
          "Dim7": 10.750163135901168,
          "Dim8": 37.09714269991246,
          "Dim9": -12.684283572334238,
          "Sample": "Adult Wings biological rep1"
         },
         {
          "Category": "Adult Wings",
          "Dim1": -39.082446575266715,
          "Dim10": -1.0222080521444044,
          "Dim2": 30.749876967841843,
          "Dim3": -27.63512681172396,
          "Dim4": -13.179247644145224,
          "Dim5": 34.56001765959845,
          "Dim6": -13.861242586779445,
          "Dim7": 11.816339776977271,
          "Dim8": 26.463835171295376,
          "Dim9": -10.298054381761744,
          "Sample": "Adult Wings biological rep2"
         },
         {
          "Category": "Adult Wings",
          "Dim1": -54.341382517523705,
          "Dim10": -0.196490798930965,
          "Dim2": 20.719191866648366,
          "Dim3": -24.804216949163187,
          "Dim4": -18.58512252488926,
          "Dim5": 36.91186633575152,
          "Dim6": -18.347512705673758,
          "Dim7": 15.873510668563805,
          "Dim8": 33.93050645910897,
          "Dim9": -11.497153461998748,
          "Sample": "Adult Wings biological rep3"
         },
         {
          "Category": "Adult Wings",
          "Dim1": -57.04559576324452,
          "Dim10": 8.407735896625509,
          "Dim2": 21.023257755617863,
          "Dim3": -21.35179782668199,
          "Dim4": -12.642031190139647,
          "Dim5": 33.9872718306106,
          "Dim6": -18.80398772849257,
          "Dim7": 12.622315436244998,
          "Dim8": 34.28097204752485,
          "Dim9": -15.546905118721948,
          "Sample": "Adult Wings biological rep4"
         },
         {
          "Category": "Adult Female Spermatheca Mated (REDONE)",
          "Dim1": -15.931738846725871,
          "Dim10": 22.875019808072917,
          "Dim2": -8.991145934773016,
          "Dim3": -56.230291988648524,
          "Dim4": 42.37206330223629,
          "Dim5": -12.507123610063495,
          "Dim6": 11.169190386316874,
          "Dim7": 7.438447990760493,
          "Dim8": -16.41560364355007,
          "Dim9": 2.853124073947559,
          "Sample": "Adult Female Spermatheca Mated (REDONE) biological rep1"
         },
         {
          "Category": "Adult Female Spermatheca Mated (REDONE)",
          "Dim1": -12.914872458094607,
          "Dim10": -38.37719590403076,
          "Dim2": 24.374380842755762,
          "Dim3": -31.536525296939004,
          "Dim4": -9.381604492108062,
          "Dim5": 7.381666597352313,
          "Dim6": 39.031961150406815,
          "Dim7": -16.18989875798817,
          "Dim8": 19.55154681874081,
          "Dim9": 86.90919245593123,
          "Sample": "Adult Female Spermatheca Mated (REDONE) biological rep2"
         },
         {
          "Category": "Adult Female Spermatheca Mated (REDONE)",
          "Dim1": -22.426287341218252,
          "Dim10": 29.076714696426535,
          "Dim2": -15.9687783833381,
          "Dim3": -59.87384421527644,
          "Dim4": 49.55615363799011,
          "Dim5": -15.650094878547721,
          "Dim6": 2.825354932169737,
          "Dim7": 13.4758159191572,
          "Dim8": -4.798336274553737,
          "Dim9": -4.934569477843451,
          "Sample": "Adult Female Spermatheca Mated (REDONE) biological rep3"
         },
         {
          "Category": "Adult Female Spermatheca Mated (REDONE)",
          "Dim1": -22.49112287163243,
          "Dim10": 30.609476968538065,
          "Dim2": -17.17212686572444,
          "Dim3": -55.728226532378656,
          "Dim4": 53.00309750808319,
          "Dim5": -16.566042973501265,
          "Dim6": 2.7942895140171506,
          "Dim7": 14.701267475964015,
          "Dim8": -7.434755288977923,
          "Dim9": -5.39661644410957,
          "Sample": "Adult Female Spermatheca Mated (REDONE) biological rep4\"\n"
         }
        ]
       },
       "encoding": {
        "color": {
         "field": "Category",
         "type": "nominal"
        },
        "tooltip": {
         "field": "Sample",
         "type": "nominal"
        },
        "x": {
         "field": "Dim1",
         "type": "quantitative"
        },
        "y": {
         "field": "Dim2",
         "type": "quantitative"
        }
       },
       "mark": "circle"
      },
      "image/png": "[encoded data removed]",
      "text/plain": [
       "<VegaLite 2 object>\n",
       "\n",
       "If you see this message, it means the renderer has not been properly enabled\n",
       "for the frontend that you are using. For more information, see\n",
       "https://altair-viz.github.io/user_guide/troubleshooting.html\n"
      ]
     },
     "execution_count": 19,
     "metadata": {},
     "output_type": "execute_result"
    }
   ],
   "source": [
    "pca = PCA(n_components=10)\n",
    "expression_pca = pca.fit(log_expression.values.T).transform(log_expression.values.T)\n",
    "plot_two_dimensions(expression_pca, sample_categories)"
   ]
  },
  {
   "cell_type": "markdown",
   "metadata": {},
   "source": [
    "This code prints out the variance explained by component."
   ]
  },
  {
   "cell_type": "code",
   "execution_count": 20,
   "metadata": {},
   "outputs": [
    {
     "name": "stdout",
     "output_type": "stream",
     "text": [
      "[ 0.13853166  0.10866708  0.10150852  0.07383439  0.05613647  0.04950169\n",
      "  0.03739871  0.03404214  0.02695133  0.02477288]\n"
     ]
    }
   ],
   "source": [
    "print(pca.explained_variance_ratio_)"
   ]
  },
  {
   "cell_type": "markdown",
   "metadata": {},
   "source": [
    "This code makes a plot of the explained variance by component, like we saw on one of the lecture slides."
   ]
  },
  {
   "cell_type": "code",
   "execution_count": 21,
   "metadata": {},
   "outputs": [
    {
     "data": {
      "text/plain": [
       "Text(0,0.5,'variance explained')"
      ]
     },
     "execution_count": 21,
     "metadata": {},
     "output_type": "execute_result"
    },
    {
     "data": {
      "image/png": "[encoded data removed]",
      "text/plain": [
       "<Figure size 720x720 with 1 Axes>"
      ]
     },
     "metadata": {},
     "output_type": "display_data"
    }
   ],
   "source": [
    "plt.plot([x + 1 for x in range(len(pca.explained_variance_ratio_))], pca.explained_variance_ratio_, 'o-')\n",
    "plt.xlabel(\"principal component\")\n",
    "plt.ylabel(\"variance explained\")"
   ]
  },
  {
   "cell_type": "markdown",
   "metadata": {},
   "source": [
    "**Exercise:**\n",
    "\n",
    "Re-run the PCA with a higher number of dimensions and see how the plot of variance explained changes. How many components do you think are worth keeping if you were going to do this analysis?"
   ]
  },
  {
   "cell_type": "markdown",
   "metadata": {},
   "source": [
    "**Exercise:**\n",
    "\n",
    "Try creating an MDS plot using `MDS()`, which we imported from `sklearn.manifold`. All scikit-learn models use a consistent syntax, so the syntax is extremely similar to that for `PCA()`.\n",
    "\n",
    "Examine the documentation either online or just using `help(MDS)` in the notebook."
   ]
  },
  {
   "cell_type": "code",
   "execution_count": 22,
   "metadata": {},
   "outputs": [
    {
     "data": {
      "application/vnd.vegalite.v2+json": {
       "$schema": "https://vega.github.io/schema/vega-lite/v2.4.3.json",
       "config": {
        "view": {
         "height": 300,
         "width": 400
        }
       },
       "data": {
        "values": [
         {
          "Category": "Adult Hind Gut",
          "Dim1": 31.37837172094024,
          "Dim2": 73.5775034511994,
          "Sample": "Adult Hind Gut biological rep1"
         },
         {
          "Category": "Adult Hind Gut",
          "Dim1": 30.49208457848546,
          "Dim2": 82.2627075829262,
          "Sample": "Adult Hind Gut biological rep2"
         },
         {
          "Category": "Adult Hind Gut",
          "Dim1": 36.013431008174294,
          "Dim2": 80.18559818068334,
          "Sample": "Adult Hind Gut biological rep3"
         },
         {
          "Category": "Adult Hind Gut",
          "Dim1": 24.024830552762964,
          "Dim2": 84.89915697017155,
          "Sample": "Adult Hind Gut biological rep4"
         },
         {
          "Category": "Adult Mid Gut",
          "Dim1": 89.31631985145928,
          "Dim2": 127.26466140690988,
          "Sample": "Adult Mid Gut biological rep1"
         },
         {
          "Category": "Adult Mid Gut",
          "Dim1": 97.00979108070538,
          "Dim2": 118.20252892659632,
          "Sample": "Adult Mid Gut biological rep2"
         },
         {
          "Category": "Adult Mid Gut",
          "Dim1": 96.22467522347546,
          "Dim2": 127.7071454183629,
          "Sample": "Adult Mid Gut biological rep3"
         },
         {
          "Category": "Adult Mid Gut",
          "Dim1": 102.19940142785495,
          "Dim2": 123.85176507235332,
          "Sample": "Adult Mid Gut biological rep4"
         },
         {
          "Category": "Adult Accessory gland",
          "Dim1": 82.13035499996349,
          "Dim2": -120.20071023328225,
          "Sample": "Adult Accessory gland biological rep1"
         },
         {
          "Category": "Adult Accessory gland",
          "Dim1": 90.15697097828253,
          "Dim2": -121.53096441367764,
          "Sample": "Adult Accessory gland biological rep2"
         },
         {
          "Category": "Adult Accessory gland",
          "Dim1": 97.11086934474328,
          "Dim2": -114.98017043467831,
          "Sample": "Adult Accessory gland biological rep3"
         },
         {
          "Category": "Adult Accessory gland",
          "Dim1": 75.81737608393559,
          "Dim2": -125.99923130311063,
          "Sample": "Adult Accessory gland biological rep4"
         },
         {
          "Category": "Adult Brain",
          "Dim1": -151.62635111181422,
          "Dim2": -71.36594589283085,
          "Sample": "Adult Brain biological rep1"
         },
         {
          "Category": "Adult Brain",
          "Dim1": -150.14190434246365,
          "Dim2": -62.859349716395556,
          "Sample": "Adult Brain biological rep2"
         },
         {
          "Category": "Adult Brain",
          "Dim1": -142.90687065094292,
          "Dim2": -78.51987718729626,
          "Sample": "Adult Brain biological rep3"
         },
         {
          "Category": "Adult Brain",
          "Dim1": -134.9272664350099,
          "Dim2": -85.18186157914619,
          "Sample": "Adult Brain biological rep4"
         },
         {
          "Category": "Adult Crop",
          "Dim1": 9.910987394487178,
          "Dim2": 58.569783296821306,
          "Sample": "Adult Crop biological rep1"
         },
         {
          "Category": "Adult Crop",
          "Dim1": 21.498948034926652,
          "Dim2": 29.263809920700442,
          "Sample": "Adult Crop biological rep2"
         },
         {
          "Category": "Adult Crop",
          "Dim1": 17.634851839391075,
          "Dim2": 18.47889565982593,
          "Sample": "Adult Crop biological rep3"
         },
         {
          "Category": "Adult Crop",
          "Dim1": 13.216344655572254,
          "Dim2": 40.742300874636875,
          "Sample": "Adult Crop biological rep4"
         },
         {
          "Category": "Larval Wandering fat body",
          "Dim1": 10.250854085644493,
          "Dim2": 138.37116146454937,
          "Sample": "Larval Wandering fat body biological rep1"
         },
         {
          "Category": "Larval Wandering fat body",
          "Dim1": -0.7454792061543384,
          "Dim2": -183.63027858171156,
          "Sample": "Larval Wandering fat body biological rep2"
         },
         {
          "Category": "Larval Wandering fat body",
          "Dim1": 14.798155225945955,
          "Dim2": -149.88305032104685,
          "Sample": "Larval Wandering fat body biological rep3"
         },
         {
          "Category": "Larval Wandering fat body",
          "Dim1": 2.8543885977393746,
          "Dim2": -142.1598725622448,
          "Sample": "Larval Wandering fat body biological rep4"
         },
         {
          "Category": "Adult Head",
          "Dim1": -128.88002598911888,
          "Dim2": 24.278943019562668,
          "Sample": "Adult Head biological rep1"
         },
         {
          "Category": "Adult Head",
          "Dim1": -135.6379612252516,
          "Dim2": 31.09928457479892,
          "Sample": "Adult Head biological rep2"
         },
         {
          "Category": "Adult Head",
          "Dim1": -131.3754916023742,
          "Dim2": 35.12602742087065,
          "Sample": "Adult Head biological rep3"
         },
         {
          "Category": "Adult Head",
          "Dim1": -128.9323343181927,
          "Dim2": 17.21324559480544,
          "Sample": "Adult Head biological rep4"
         },
         {
          "Category": "Larvae Wandering Tubules",
          "Dim1": 137.60766371929105,
          "Dim2": 30.911342045871184,
          "Sample": "Larvae Wandering Tubules biological rep1"
         },
         {
          "Category": "Larvae Wandering Tubules",
          "Dim1": 128.449528964949,
          "Dim2": 26.964304537305765,
          "Sample": "Larvae Wandering Tubules biological rep2"
         },
         {
          "Category": "Larvae Wandering Tubules",
          "Dim1": 131.63033533898852,
          "Dim2": 21.407772172832534,
          "Sample": "Larvae Wandering Tubules biological rep3"
         },
         {
          "Category": "Larvae Wandering Tubules",
          "Dim1": 123.61828012874297,
          "Dim2": 31.937111920354095,
          "Sample": "Larvae Wandering Tubules biological rep4"
         },
         {
          "Category": "Adult Ovary",
          "Dim1": 156.57929052191088,
          "Dim2": -74.83529031868429,
          "Sample": "Adult Ovary biological rep1"
         },
         {
          "Category": "Adult Ovary",
          "Dim1": 148.90359469626625,
          "Dim2": -86.03676961736143,
          "Sample": "Adult Ovary biological rep2"
         },
         {
          "Category": "Adult Ovary",
          "Dim1": 152.9335078387243,
          "Dim2": -81.05576099510118,
          "Sample": "Adult Ovary biological rep3"
         },
         {
          "Category": "Adult Ovary",
          "Dim1": 146.47705637548873,
          "Dim2": -92.09262682998575,
          "Sample": "Adult Ovary biological rep4"
         },
         {
          "Category": "Adult Testes",
          "Dim1": 30.736785330679012,
          "Dim2": -243.992012971671,
          "Sample": "Adult Testes biological rep1"
         },
         {
          "Category": "Adult Testes",
          "Dim1": 15.420526122485827,
          "Dim2": -244.51534327656137,
          "Sample": "Adult Testes biological rep2"
         },
         {
          "Category": "Adult Testes",
          "Dim1": 44.95419787396906,
          "Dim2": -241.64435187944736,
          "Sample": "Adult Testes biological rep3"
         },
         {
          "Category": "Adult Testes",
          "Dim1": 2.342437475361517,
          "Dim2": -242.18190500685463,
          "Sample": "Adult Testes biological rep4"
         },
         {
          "Category": "Adult Whole Fly",
          "Dim1": -38.217413109260015,
          "Dim2": -133.86863703628987,
          "Sample": "Adult Whole Fly biological rep1"
         },
         {
          "Category": "Adult Whole Fly",
          "Dim1": -33.02480445857131,
          "Dim2": 161.6804562017233,
          "Sample": "Adult Whole Fly biological rep2"
         },
         {
          "Category": "Adult Whole Fly",
          "Dim1": -27.590174257245742,
          "Dim2": 162.76442951256857,
          "Sample": "Adult Whole Fly biological rep3"
         },
         {
          "Category": "Adult Whole Fly",
          "Dim1": -47.448704954829054,
          "Dim2": 161.117169982942,
          "Sample": "Adult Whole Fly biological rep4"
         },
         {
          "Category": "Adult Salivary Gland",
          "Dim1": 47.482553377160535,
          "Dim2": -104.0737341212304,
          "Sample": "Adult Salivary Gland rep1"
         },
         {
          "Category": "Adult Salivary Gland",
          "Dim1": 44.14676935490501,
          "Dim2": -82.59611020344983,
          "Sample": "Adult Salivary Gland rep2"
         },
         {
          "Category": "Adult Salivary Gland",
          "Dim1": 58.2157617066276,
          "Dim2": -73.79757110794331,
          "Sample": "Adult Salivary Gland rep3"
         },
         {
          "Category": "Adult Salivary Gland",
          "Dim1": 47.127894601866124,
          "Dim2": -71.58627032077395,
          "Sample": "Adult Salivary Gland rep4"
         },
         {
          "Category": "Adult Carcass",
          "Dim1": -86.14375777082954,
          "Dim2": 84.02938049707782,
          "Sample": "Adult Carcass biological rep1"
         },
         {
          "Category": "Adult Carcass",
          "Dim1": -78.87743975537072,
          "Dim2": 89.3909446681834,
          "Sample": "Adult Carcass biological rep2"
         },
         {
          "Category": "Adult Carcass",
          "Dim1": -78.98195779456717,
          "Dim2": 98.99690935704311,
          "Sample": "Adult Carcass biological rep3"
         },
         {
          "Category": "Adult Carcass",
          "Dim1": -74.59491685801265,
          "Dim2": 74.34728106137273,
          "Sample": "Adult Carcass biological rep4"
         },
         {
          "Category": "Adult Thoracoabdominal ganglion",
          "Dim1": -133.3716214280069,
          "Dim2": -57.842172855752686,
          "Sample": "Adult Thoracoabdominal ganglion rep1"
         },
         {
          "Category": "Adult Thoracoabdominal ganglion",
          "Dim1": -127.26653179731744,
          "Dim2": -66.52124607901354,
          "Sample": "Adult Thoracoabdominal ganglion rep2"
         },
         {
          "Category": "Adult Thoracoabdominal ganglion",
          "Dim1": -125.38183871691135,
          "Dim2": -74.27725166224018,
          "Sample": "Adult Thoracoabdominal ganglion rep3"
         },
         {
          "Category": "Adult Thoracoabdominal ganglion",
          "Dim1": -138.37567302146977,
          "Dim2": -58.06211583659493,
          "Sample": "Adult Thoracoabdominal ganglion rep4"
         },
         {
          "Category": "Larval Feeding Hind Gut",
          "Dim1": 74.71019638749073,
          "Dim2": 63.526267308759664,
          "Sample": "Larval Feeding Hind Gut rep1"
         },
         {
          "Category": "Larval Feeding Hind Gut",
          "Dim1": 68.85546275607528,
          "Dim2": 54.30921010817286,
          "Sample": "Larval Feeding Hind Gut rep2"
         },
         {
          "Category": "Larval Feeding Hind Gut",
          "Dim1": 61.79376406312242,
          "Dim2": 57.666954111868215,
          "Sample": "Larval Feeding Hind Gut rep3"
         },
         {
          "Category": "Larval Feeding Hind Gut",
          "Dim1": 65.87038563081465,
          "Dim2": 48.51403239293238,
          "Sample": "Larval Feeding Hind Gut rep4"
         },
         {
          "Category": "Larval Feeding Mid Gut",
          "Dim1": 109.71764362574422,
          "Dim2": 104.87127836518074,
          "Sample": "Larval Feeding Mid Gut rep1"
         },
         {
          "Category": "Larval Feeding Mid Gut",
          "Dim1": 117.13608178523134,
          "Dim2": 108.06277332192806,
          "Sample": "Larval Feeding Mid Gut rep2"
         },
         {
          "Category": "Larval Feeding Mid Gut",
          "Dim1": 125.49840838937529,
          "Dim2": 104.78245518876739,
          "Sample": "Larval Feeding Mid Gut rep3"
         },
         {
          "Category": "Larval Feeding Mid Gut",
          "Dim1": 124.50407481500433,
          "Dim2": 98.80147881210691,
          "Sample": "Larval Feeding Mid Gut rep4"
         },
         {
          "Category": "Larval Feeding Salivary Gland",
          "Dim1": 92.59719019945763,
          "Dim2": -49.32937393779565,
          "Sample": "Larval Feeding Salivary Gland rep1"
         },
         {
          "Category": "Larval Feeding Salivary Gland",
          "Dim1": 99.9386034115519,
          "Dim2": -44.554722742305145,
          "Sample": "Larval Feeding Salivary Gland rep2"
         },
         {
          "Category": "Larval Feeding Salivary Gland",
          "Dim1": 83.94609311725597,
          "Dim2": -54.50878196967063,
          "Sample": "Larval Feeding Salivary Gland rep3"
         },
         {
          "Category": "Larval Feeding Salivary Gland",
          "Dim1": 97.7610822423863,
          "Dim2": -60.81521798240195,
          "Sample": "Larval Feeding Salivary Gland rep4"
         },
         {
          "Category": "Adult Female Spermatheca Mated",
          "Dim1": -32.09212725264173,
          "Dim2": -6.296179668853334,
          "Sample": "Adult Female Spermatheca Mated rep1"
         },
         {
          "Category": "Adult Female Spermatheca Mated",
          "Dim1": -24.313466413652698,
          "Dim2": 6.148194313944968,
          "Sample": "Adult Female Spermatheca Mated rep2"
         },
         {
          "Category": "Adult Female Spermatheca Mated",
          "Dim1": -47.90846161054716,
          "Dim2": 0.4231553018531228,
          "Sample": "Adult Female Spermatheca Mated rep3"
         },
         {
          "Category": "Adult Female Spermatheca Mated",
          "Dim1": -22.748549662965132,
          "Dim2": 25.84822329752021,
          "Sample": "Adult Female Spermatheca Mated rep4"
         },
         {
          "Category": "Adult Female Spermatheca Virgin",
          "Dim1": -35.71498582645131,
          "Dim2": 27.884713957382303,
          "Sample": "Adult Female Spermatheca Virgin rep1"
         },
         {
          "Category": "Adult Female Spermatheca Virgin",
          "Dim1": -36.35658982461921,
          "Dim2": 19.324121032622696,
          "Sample": "Adult Female Spermatheca Virgin rep2"
         },
         {
          "Category": "Adult Female Spermatheca Virgin",
          "Dim1": -47.77621481758262,
          "Dim2": 21.110239704547954,
          "Sample": "Adult Female Spermatheca Virgin rep3"
         },
         {
          "Category": "Adult Female Spermatheca Virgin",
          "Dim1": -38.34046382681095,
          "Dim2": 8.500916193440185,
          "Sample": "Adult Female Spermatheca Virgin rep4"
         },
         {
          "Category": "Larval Feeding Malpighian Tubule",
          "Dim1": 137.10672603281031,
          "Dim2": 43.82913491750066,
          "Sample": "Larval Feeding Malpighian Tubule biological rep1"
         },
         {
          "Category": "Larval Feeding Malpighian Tubule",
          "Dim1": 122.40528803644563,
          "Dim2": 48.664593493921664,
          "Sample": "Larval Feeding Malpighian Tubule biological rep2"
         },
         {
          "Category": "Larval Feeding Malpighian Tubule",
          "Dim1": 124.86597725020023,
          "Dim2": 41.39251254442879,
          "Sample": "Larval Feeding Malpighian Tubule biological rep3"
         },
         {
          "Category": "Larval Feeding Malpighian Tubule",
          "Dim1": 129.44430677297208,
          "Dim2": 47.43730192868581,
          "Sample": "Larval Feeding Malpighian Tubule biological rep4"
         },
         {
          "Category": "Larval Feeding Fatbody",
          "Dim1": 79.74756008470644,
          "Dim2": 5.675780996474007,
          "Sample": "Larval Feeding Fatbody biological rep1"
         },
         {
          "Category": "Larval Feeding Fatbody",
          "Dim1": 90.71916465915562,
          "Dim2": -0.22333986358140823,
          "Sample": "Larval Feeding Fatbody biological rep2"
         },
         {
          "Category": "Larval Feeding Fatbody",
          "Dim1": 62.36290150860585,
          "Dim2": 0.544901973844713,
          "Sample": "Larval Feeding Fatbody biological rep3"
         },
         {
          "Category": "Larval Feeding Fatbody",
          "Dim1": 12.274647657024271,
          "Dim2": 162.2489581137658,
          "Sample": "Larval Feeding Fatbody biological rep4"
         },
         {
          "Category": "Larval Feeding Carcass",
          "Dim1": -2.0042584707449307,
          "Dim2": -55.24716431166098,
          "Sample": "Larval Feeding Carcass biological rep1"
         },
         {
          "Category": "Larval Feeding Carcass",
          "Dim1": 1.9498582890241472,
          "Dim2": -64.25593070518283,
          "Sample": "Larval Feeding Carcass biological rep2"
         },
         {
          "Category": "Larval Feeding Carcass",
          "Dim1": 10.09422454479336,
          "Dim2": -54.06003469339343,
          "Sample": "Larval Feeding Carcass biological rep3"
         },
         {
          "Category": "Larval Feeding Carcass",
          "Dim1": 18.83713933800618,
          "Dim2": 101.83758286187334,
          "Sample": "Larval Feeding Carcass biological rep4"
         },
         {
          "Category": "Larval Feeding Central Nevous System",
          "Dim1": -97.19727870591491,
          "Dim2": -115.13192473085172,
          "Sample": "Larval Feeding Central Nevous System biological rep1"
         },
         {
          "Category": "Larval Feeding Central Nevous System",
          "Dim1": -86.70913301422685,
          "Dim2": -108.3459052460676,
          "Sample": "Larval Feeding Central Nevous System biological rep2"
         },
         {
          "Category": "Larval Feeding Central Nevous System",
          "Dim1": -90.17185447232374,
          "Dim2": -115.28173733768399,
          "Sample": "Larval Feeding Central Nevous System biological rep3"
         },
         {
          "Category": "Larval Feeding Central Nevous System",
          "Dim1": -94.85244158323539,
          "Dim2": -108.54719540267746,
          "Sample": "Larval Feeding Central Nevous System biological rep4"
         },
         {
          "Category": "Larval Feeding Trachea",
          "Dim1": -12.156321560565141,
          "Dim2": -85.61086993589775,
          "Sample": "Larval Feeding Trachea biological rep1"
         },
         {
          "Category": "Larval Feeding Trachea",
          "Dim1": -7.2101339532165225,
          "Dim2": -94.1621849812996,
          "Sample": "Larval Feeding Trachea biological rep2"
         },
         {
          "Category": "Larval Feeding Trachea",
          "Dim1": -5.844991737331746,
          "Dim2": -104.01321189574955,
          "Sample": "Larval Feeding Trachea biological rep3"
         },
         {
          "Category": "Larval Feeding Trachea",
          "Dim1": -35.99261194998982,
          "Dim2": -75.12218469782461,
          "Sample": "Larval Feeding Trachea biological rep4"
         },
         {
          "Category": "5th Passage Drosophila S2 Cells",
          "Dim1": 140.82134983944965,
          "Dim2": -41.25630233166997,
          "Sample": "5th Passage Drosophila S2 Cells biological rep1"
         },
         {
          "Category": "5th Passage Drosophila S2 Cells",
          "Dim1": 142.2600095410716,
          "Dim2": -36.08335848784373,
          "Sample": "5th Passage Drosophila S2 Cells biological rep2"
         },
         {
          "Category": "5th Passage Drosophila S2 Cells",
          "Dim1": 143.7516869105993,
          "Dim2": -31.31792778116766,
          "Sample": "5th Passage Drosophila S2 Cells biological rep3"
         },
         {
          "Category": "5th Passage Drosophila S2 Cells",
          "Dim1": 154.03515220786994,
          "Dim2": -33.35146424615028,
          "Sample": "5th Passage Drosophila S2 Cells biological rep4"
         },
         {
          "Category": "Adult Fatbody",
          "Dim1": -36.66117485508722,
          "Dim2": 53.9990087215924,
          "Sample": "Adult Fatbody biological rep1"
         },
         {
          "Category": "Adult Fatbody",
          "Dim1": -44.211766470948085,
          "Dim2": 51.285056928876685,
          "Sample": "Adult Fatbody biological rep2"
         },
         {
          "Category": "Adult Fatbody",
          "Dim1": -26.9769133969659,
          "Dim2": 62.02018591054962,
          "Sample": "Adult Fatbody biological rep3"
         },
         {
          "Category": "Adult Fatbody",
          "Dim1": -31.838585526303365,
          "Dim2": 77.05076539467748,
          "Sample": "Adult Fatbody biological rep4"
         },
         {
          "Category": "Adult Eye",
          "Dim1": -143.79553434811857,
          "Dim2": -10.432409417416569,
          "Sample": "Adult Eye biological rep1"
         },
         {
          "Category": "Adult Eye",
          "Dim1": -137.01323248566882,
          "Dim2": -1.3677298419761688,
          "Sample": "Adult Eye biological rep2"
         },
         {
          "Category": "Adult Eye",
          "Dim1": -144.18956225563275,
          "Dim2": 11.612941191154565,
          "Sample": "Adult Eye biological rep3"
         },
         {
          "Category": "Adult Eye",
          "Dim1": -146.2580550525206,
          "Dim2": 2.8588436697573134,
          "Sample": "Adult Eye biological rep4"
         },
         {
          "Category": "Adult Heart",
          "Dim1": -39.29308748871302,
          "Dim2": 103.3858738015571,
          "Sample": "Adult Heart biological rep1"
         },
         {
          "Category": "Adult Heart",
          "Dim1": -55.84010832344681,
          "Dim2": 103.84998225865517,
          "Sample": "Adult Heart biological rep2"
         },
         {
          "Category": "Adult Heart",
          "Dim1": -49.80548398777866,
          "Dim2": 100.07098479638931,
          "Sample": "Adult Heart biological rep3"
         },
         {
          "Category": "Adult Heart",
          "Dim1": -44.42015625426078,
          "Dim2": 106.47893773336673,
          "Sample": "Adult Heart biological rep4"
         },
         {
          "Category": "Adult Male Ejaculatory Duct",
          "Dim1": 31.37677547733628,
          "Dim2": -12.468573651659359,
          "Sample": "Adult Male Ejaculatory Duct biological rep1"
         },
         {
          "Category": "Adult Male Ejaculatory Duct",
          "Dim1": 34.520102842452715,
          "Dim2": -35.385182595080444,
          "Sample": "Adult Male Ejaculatory Duct biological rep2"
         },
         {
          "Category": "Adult Male Ejaculatory Duct",
          "Dim1": 28.639423932722046,
          "Dim2": -24.206811935973615,
          "Sample": "Adult Male Ejaculatory Duct biological rep3"
         },
         {
          "Category": "Adult Male Ejaculatory Duct",
          "Dim1": 18.889469058466055,
          "Dim2": -23.40923626806295,
          "Sample": "Adult Male Ejaculatory Duct biological rep4"
         },
         {
          "Category": "Whole Larvae Feeding",
          "Dim1": 45.88947951546541,
          "Dim2": 141.0533691413337,
          "Sample": "Whole Larvae Feeding biological rep1"
         },
         {
          "Category": "Whole Larvae Feeding",
          "Dim1": 28.234682415760446,
          "Dim2": -113.31376348828972,
          "Sample": "Whole Larvae Feeding biological rep2"
         },
         {
          "Category": "Whole Larvae Feeding",
          "Dim1": 46.21405804293945,
          "Dim2": 133.8972412599643,
          "Sample": "Whole Larvae Feeding biological rep3"
         },
         {
          "Category": "Whole Larvae Feeding",
          "Dim1": 50.45563678068979,
          "Dim2": 135.63281344503957,
          "Sample": "Whole Larvae Feeding biological rep4"
         },
         {
          "Category": "Adult Trachea",
          "Dim1": -103.64775091590653,
          "Dim2": -6.750977979541027,
          "Sample": "Adult Trachea biological rep1"
         },
         {
          "Category": "Adult Trachea",
          "Dim1": -86.54555178778915,
          "Dim2": 13.159268196548279,
          "Sample": "Adult Trachea biological rep2"
         },
         {
          "Category": "Adult Trachea",
          "Dim1": -102.46996612506202,
          "Dim2": 11.373593355978906,
          "Sample": "Adult Trachea biological rep3"
         },
         {
          "Category": "Adult Trachea",
          "Dim1": -50.58605083681491,
          "Dim2": 75.564538662721,
          "Sample": "Adult Trachea biological rep4"
         },
         {
          "Category": "Adult Thoracic Muscle",
          "Dim1": -89.15653617396899,
          "Dim2": -64.45838503509849,
          "Sample": "Adult Thoracic Muscle biological rep1"
         },
         {
          "Category": "Adult Thoracic Muscle",
          "Dim1": -72.16162715448536,
          "Dim2": -127.0408481295852,
          "Sample": "Adult Thoracic Muscle biological rep2"
         },
         {
          "Category": "Adult Thoracic Muscle",
          "Dim1": -135.77464254173645,
          "Dim2": 99.32262444293706,
          "Sample": "Adult Thoracic Muscle biological rep3"
         },
         {
          "Category": "Adult Thoracic Muscle",
          "Dim1": -40.24541518032763,
          "Dim2": -16.135385396093575,
          "Sample": "Adult Thoracic Muscle biological rep4"
         },
         {
          "Category": "Adult Wings",
          "Dim1": -112.55696160157477,
          "Dim2": 63.156209371006206,
          "Sample": "Adult Wings biological rep1"
         },
         {
          "Category": "Adult Wings",
          "Dim1": -108.72196974290912,
          "Dim2": 51.73513540936696,
          "Sample": "Adult Wings biological rep2"
         },
         {
          "Category": "Adult Wings",
          "Dim1": -116.18520598497634,
          "Dim2": 68.05580177161242,
          "Sample": "Adult Wings biological rep3"
         },
         {
          "Category": "Adult Wings",
          "Dim1": -121.5052011945178,
          "Dim2": 59.25166956512339,
          "Sample": "Adult Wings biological rep4"
         },
         {
          "Category": "Adult Female Spermatheca Mated (REDONE)",
          "Dim1": -50.083629132610916,
          "Dim2": -17.51089408846464,
          "Sample": "Adult Female Spermatheca Mated (REDONE) biological rep1"
         },
         {
          "Category": "Adult Female Spermatheca Mated (REDONE)",
          "Dim1": -111.223789262367,
          "Dim2": 126.6606047643281,
          "Sample": "Adult Female Spermatheca Mated (REDONE) biological rep2"
         },
         {
          "Category": "Adult Female Spermatheca Mated (REDONE)",
          "Dim1": -62.34100827254415,
          "Dim2": 57.77792924204691,
          "Sample": "Adult Female Spermatheca Mated (REDONE) biological rep3"
         },
         {
          "Category": "Adult Female Spermatheca Mated (REDONE)",
          "Dim1": -60.54242743441452,
          "Dim2": 9.985913052192963,
          "Sample": "Adult Female Spermatheca Mated (REDONE) biological rep4\"\n"
         }
        ]
       },
       "encoding": {
        "color": {
         "field": "Category",
         "type": "nominal"
        },
        "tooltip": {
         "field": "Sample",
         "type": "nominal"
        },
        "x": {
         "field": "Dim1",
         "type": "quantitative"
        },
        "y": {
         "field": "Dim2",
         "type": "quantitative"
        }
       },
       "mark": "circle"
      },
      "image/png": "[encoded data removed]",
      "text/plain": [
       "<VegaLite 2 object>\n",
       "\n",
       "If you see this message, it means the renderer has not been properly enabled\n",
       "for the frontend that you are using. For more information, see\n",
       "https://altair-viz.github.io/user_guide/troubleshooting.html\n"
      ]
     },
     "execution_count": 22,
     "metadata": {},
     "output_type": "execute_result"
    }
   ],
   "source": [
    "expression_mds = MDS(n_components=2).fit_transform(log_expression.values.T)\n",
    "plot_two_dimensions(expression_mds, sample_categories)"
   ]
  },
  {
   "cell_type": "markdown",
   "metadata": {},
   "source": [
    "**Exercise:**\n",
    "\n",
    "Try creating a tSNE plot using `TSNE()`, which we imported from `sklearn.manifold`. All scikit-learn models use a consistent syntax, so the syntax is extremely similar to that for `PCA()`.\n",
    "\n",
    "Examine the documentation either online or just using `help(TSNE)` in the notebook.\n",
    "\n",
    "`TSNE()` takes several parameters: the most important is `perplexity`. Lower values of perplexity try hard to preserve local structure at the cost of global structure, and vice versa. From the documentation, what is the default value of `perplexity`? What happens if you redo your plot with it set to a much lower or much higher value?"
   ]
  },
  {
   "cell_type": "code",
   "execution_count": 23,
   "metadata": {},
   "outputs": [
    {
     "data": {
      "application/vnd.vegalite.v2+json": {
       "$schema": "https://vega.github.io/schema/vega-lite/v2.4.3.json",
       "config": {
        "view": {
         "height": 300,
         "width": 400
        }
       },
       "data": {
        "values": [
         {
          "Category": "Adult Hind Gut",
          "Dim1": 2.6835484504699707,
          "Dim2": 5.0104546546936035,
          "Sample": "Adult Hind Gut biological rep1"
         },
         {
          "Category": "Adult Hind Gut",
          "Dim1": 2.773500442504883,
          "Dim2": 5.099206447601318,
          "Sample": "Adult Hind Gut biological rep2"
         },
         {
          "Category": "Adult Hind Gut",
          "Dim1": 2.7667765617370605,
          "Dim2": 5.191221237182617,
          "Sample": "Adult Hind Gut biological rep3"
         },
         {
          "Category": "Adult Hind Gut",
          "Dim1": 2.6794261932373047,
          "Dim2": 4.997734069824219,
          "Sample": "Adult Hind Gut biological rep4"
         },
         {
          "Category": "Adult Mid Gut",
          "Dim1": 1.923924446105957,
          "Dim2": 12.803207397460938,
          "Sample": "Adult Mid Gut biological rep1"
         },
         {
          "Category": "Adult Mid Gut",
          "Dim1": 2.356064558029175,
          "Dim2": 12.546233177185059,
          "Sample": "Adult Mid Gut biological rep2"
         },
         {
          "Category": "Adult Mid Gut",
          "Dim1": 2.349299907684326,
          "Dim2": 12.608308792114258,
          "Sample": "Adult Mid Gut biological rep3"
         },
         {
          "Category": "Adult Mid Gut",
          "Dim1": 2.06258225440979,
          "Dim2": 12.829193115234375,
          "Sample": "Adult Mid Gut biological rep4"
         },
         {
          "Category": "Adult Accessory gland",
          "Dim1": -5.931217193603516,
          "Dim2": 8.393757820129395,
          "Sample": "Adult Accessory gland biological rep1"
         },
         {
          "Category": "Adult Accessory gland",
          "Dim1": -5.953755855560303,
          "Dim2": 8.454673767089844,
          "Sample": "Adult Accessory gland biological rep2"
         },
         {
          "Category": "Adult Accessory gland",
          "Dim1": -5.924602508544922,
          "Dim2": 8.455005645751953,
          "Sample": "Adult Accessory gland biological rep3"
         },
         {
          "Category": "Adult Accessory gland",
          "Dim1": -5.948175430297852,
          "Dim2": 8.384730339050293,
          "Sample": "Adult Accessory gland biological rep4"
         },
         {
          "Category": "Adult Brain",
          "Dim1": 1.9876116514205933,
          "Dim2": -10.622322082519531,
          "Sample": "Adult Brain biological rep1"
         },
         {
          "Category": "Adult Brain",
          "Dim1": 2.0671679973602295,
          "Dim2": -10.50747013092041,
          "Sample": "Adult Brain biological rep2"
         },
         {
          "Category": "Adult Brain",
          "Dim1": 2.39925217628479,
          "Dim2": -10.775847434997559,
          "Sample": "Adult Brain biological rep3"
         },
         {
          "Category": "Adult Brain",
          "Dim1": 2.7794013023376465,
          "Dim2": -10.61410903930664,
          "Sample": "Adult Brain biological rep4"
         },
         {
          "Category": "Adult Crop",
          "Dim1": 2.9786112308502197,
          "Dim2": 2.7816834449768066,
          "Sample": "Adult Crop biological rep1"
         },
         {
          "Category": "Adult Crop",
          "Dim1": 3.481914520263672,
          "Dim2": 2.583106756210327,
          "Sample": "Adult Crop biological rep2"
         },
         {
          "Category": "Adult Crop",
          "Dim1": 3.5424599647521973,
          "Dim2": 2.5537490844726562,
          "Sample": "Adult Crop biological rep3"
         },
         {
          "Category": "Adult Crop",
          "Dim1": 3.291667938232422,
          "Dim2": 2.6292660236358643,
          "Sample": "Adult Crop biological rep4"
         },
         {
          "Category": "Larval Wandering fat body",
          "Dim1": -5.384323596954346,
          "Dim2": 3.3496649265289307,
          "Sample": "Larval Wandering fat body biological rep1"
         },
         {
          "Category": "Larval Wandering fat body",
          "Dim1": -6.771987438201904,
          "Dim2": 3.717773199081421,
          "Sample": "Larval Wandering fat body biological rep2"
         },
         {
          "Category": "Larval Wandering fat body",
          "Dim1": -6.186587333679199,
          "Dim2": 3.629117012023926,
          "Sample": "Larval Wandering fat body biological rep3"
         },
         {
          "Category": "Larval Wandering fat body",
          "Dim1": -5.928865909576416,
          "Dim2": 3.6631557941436768,
          "Sample": "Larval Wandering fat body biological rep4"
         },
         {
          "Category": "Adult Head",
          "Dim1": 3.7542552947998047,
          "Dim2": -6.121113300323486,
          "Sample": "Adult Head biological rep1"
         },
         {
          "Category": "Adult Head",
          "Dim1": 3.5476536750793457,
          "Dim2": -5.922071933746338,
          "Sample": "Adult Head biological rep2"
         },
         {
          "Category": "Adult Head",
          "Dim1": 3.7208943367004395,
          "Dim2": -5.906389236450195,
          "Sample": "Adult Head biological rep3"
         },
         {
          "Category": "Adult Head",
          "Dim1": 3.772897958755493,
          "Dim2": -6.172957897186279,
          "Sample": "Adult Head biological rep4"
         },
         {
          "Category": "Larvae Wandering Tubules",
          "Dim1": 5.9664177894592285,
          "Dim2": 9.55210018157959,
          "Sample": "Larvae Wandering Tubules biological rep1"
         },
         {
          "Category": "Larvae Wandering Tubules",
          "Dim1": 6.181119918823242,
          "Dim2": 10.39030647277832,
          "Sample": "Larvae Wandering Tubules biological rep2"
         },
         {
          "Category": "Larvae Wandering Tubules",
          "Dim1": 6.0897111892700195,
          "Dim2": 10.30266284942627,
          "Sample": "Larvae Wandering Tubules biological rep3"
         },
         {
          "Category": "Larvae Wandering Tubules",
          "Dim1": 5.6600422859191895,
          "Dim2": 10.123674392700195,
          "Sample": "Larvae Wandering Tubules biological rep4"
         },
         {
          "Category": "Adult Ovary",
          "Dim1": -5.200263500213623,
          "Dim2": -7.677130699157715,
          "Sample": "Adult Ovary biological rep1"
         },
         {
          "Category": "Adult Ovary",
          "Dim1": -5.196172714233398,
          "Dim2": -7.68452787399292,
          "Sample": "Adult Ovary biological rep2"
         },
         {
          "Category": "Adult Ovary",
          "Dim1": -5.199779033660889,
          "Dim2": -7.687049865722656,
          "Sample": "Adult Ovary biological rep3"
         },
         {
          "Category": "Adult Ovary",
          "Dim1": -5.202900409698486,
          "Dim2": -7.6991448402404785,
          "Sample": "Adult Ovary biological rep4"
         },
         {
          "Category": "Adult Testes",
          "Dim1": -9.340662956237793,
          "Dim2": 4.836575508117676,
          "Sample": "Adult Testes biological rep1"
         },
         {
          "Category": "Adult Testes",
          "Dim1": -9.307197570800781,
          "Dim2": 4.8260955810546875,
          "Sample": "Adult Testes biological rep2"
         },
         {
          "Category": "Adult Testes",
          "Dim1": -9.331705093383789,
          "Dim2": 4.782408237457275,
          "Sample": "Adult Testes biological rep3"
         },
         {
          "Category": "Adult Testes",
          "Dim1": -9.320152282714844,
          "Dim2": 4.69157600402832,
          "Sample": "Adult Testes biological rep4"
         },
         {
          "Category": "Adult Whole Fly",
          "Dim1": -9.21153450012207,
          "Dim2": 1.3181967735290527,
          "Sample": "Adult Whole Fly biological rep1"
         },
         {
          "Category": "Adult Whole Fly",
          "Dim1": -9.224428176879883,
          "Dim2": 1.3439065217971802,
          "Sample": "Adult Whole Fly biological rep2"
         },
         {
          "Category": "Adult Whole Fly",
          "Dim1": -9.2160005569458,
          "Dim2": 1.3296247720718384,
          "Sample": "Adult Whole Fly biological rep3"
         },
         {
          "Category": "Adult Whole Fly",
          "Dim1": -9.253993034362793,
          "Dim2": 1.4280060529708862,
          "Sample": "Adult Whole Fly biological rep4"
         },
         {
          "Category": "Adult Salivary Gland",
          "Dim1": 6.944769859313965,
          "Dim2": 2.890361785888672,
          "Sample": "Adult Salivary Gland rep1"
         },
         {
          "Category": "Adult Salivary Gland",
          "Dim1": 6.678010940551758,
          "Dim2": 3.020951509475708,
          "Sample": "Adult Salivary Gland rep2"
         },
         {
          "Category": "Adult Salivary Gland",
          "Dim1": 6.633341312408447,
          "Dim2": 3.0586555004119873,
          "Sample": "Adult Salivary Gland rep3"
         },
         {
          "Category": "Adult Salivary Gland",
          "Dim1": 6.600765228271484,
          "Dim2": 3.030040740966797,
          "Sample": "Adult Salivary Gland rep4"
         },
         {
          "Category": "Adult Carcass",
          "Dim1": 3.125413417816162,
          "Dim2": -1.2171143293380737,
          "Sample": "Adult Carcass biological rep1"
         },
         {
          "Category": "Adult Carcass",
          "Dim1": 2.914426803588867,
          "Dim2": -1.1016936302185059,
          "Sample": "Adult Carcass biological rep2"
         },
         {
          "Category": "Adult Carcass",
          "Dim1": 3.0129082202911377,
          "Dim2": -0.8923361301422119,
          "Sample": "Adult Carcass biological rep3"
         },
         {
          "Category": "Adult Carcass",
          "Dim1": 2.7477095127105713,
          "Dim2": -1.1400375366210938,
          "Sample": "Adult Carcass biological rep4"
         },
         {
          "Category": "Adult Thoracoabdominal ganglion",
          "Dim1": 2.9402332305908203,
          "Dim2": -9.809892654418945,
          "Sample": "Adult Thoracoabdominal ganglion rep1"
         },
         {
          "Category": "Adult Thoracoabdominal ganglion",
          "Dim1": 1.958836555480957,
          "Dim2": -9.580533981323242,
          "Sample": "Adult Thoracoabdominal ganglion rep2"
         },
         {
          "Category": "Adult Thoracoabdominal ganglion",
          "Dim1": 2.2264227867126465,
          "Dim2": -9.651312828063965,
          "Sample": "Adult Thoracoabdominal ganglion rep3"
         },
         {
          "Category": "Adult Thoracoabdominal ganglion",
          "Dim1": 2.5288493633270264,
          "Dim2": -9.666756629943848,
          "Sample": "Adult Thoracoabdominal ganglion rep4"
         },
         {
          "Category": "Larval Feeding Hind Gut",
          "Dim1": 2.1417903900146484,
          "Dim2": 7.2289018630981445,
          "Sample": "Larval Feeding Hind Gut rep1"
         },
         {
          "Category": "Larval Feeding Hind Gut",
          "Dim1": 1.8906604051589966,
          "Dim2": 7.2093505859375,
          "Sample": "Larval Feeding Hind Gut rep2"
         },
         {
          "Category": "Larval Feeding Hind Gut",
          "Dim1": 2.01363205909729,
          "Dim2": 6.973038673400879,
          "Sample": "Larval Feeding Hind Gut rep3"
         },
         {
          "Category": "Larval Feeding Hind Gut",
          "Dim1": 1.8999513387680054,
          "Dim2": 7.0609235763549805,
          "Sample": "Larval Feeding Hind Gut rep4"
         },
         {
          "Category": "Larval Feeding Mid Gut",
          "Dim1": 1.0873430967330933,
          "Dim2": 11.801190376281738,
          "Sample": "Larval Feeding Mid Gut rep1"
         },
         {
          "Category": "Larval Feeding Mid Gut",
          "Dim1": 1.248343825340271,
          "Dim2": 11.79153823852539,
          "Sample": "Larval Feeding Mid Gut rep2"
         },
         {
          "Category": "Larval Feeding Mid Gut",
          "Dim1": 1.6268117427825928,
          "Dim2": 11.510601997375488,
          "Sample": "Larval Feeding Mid Gut rep3"
         },
         {
          "Category": "Larval Feeding Mid Gut",
          "Dim1": 1.5214604139328003,
          "Dim2": 11.590242385864258,
          "Sample": "Larval Feeding Mid Gut rep4"
         },
         {
          "Category": "Larval Feeding Salivary Gland",
          "Dim1": 6.385408878326416,
          "Dim2": 5.763886451721191,
          "Sample": "Larval Feeding Salivary Gland rep1"
         },
         {
          "Category": "Larval Feeding Salivary Gland",
          "Dim1": 6.405837059020996,
          "Dim2": 5.812150955200195,
          "Sample": "Larval Feeding Salivary Gland rep2"
         },
         {
          "Category": "Larval Feeding Salivary Gland",
          "Dim1": 6.382705211639404,
          "Dim2": 5.696944713592529,
          "Sample": "Larval Feeding Salivary Gland rep3"
         },
         {
          "Category": "Larval Feeding Salivary Gland",
          "Dim1": 6.459985256195068,
          "Dim2": 5.820669174194336,
          "Sample": "Larval Feeding Salivary Gland rep4"
         },
         {
          "Category": "Adult Female Spermatheca Mated",
          "Dim1": -1.7945581674575806,
          "Dim2": 0.08559811115264893,
          "Sample": "Adult Female Spermatheca Mated rep1"
         },
         {
          "Category": "Adult Female Spermatheca Mated",
          "Dim1": -1.7551121711730957,
          "Dim2": 0.74732905626297,
          "Sample": "Adult Female Spermatheca Mated rep2"
         },
         {
          "Category": "Adult Female Spermatheca Mated",
          "Dim1": -1.3140075206756592,
          "Dim2": -0.17589396238327026,
          "Sample": "Adult Female Spermatheca Mated rep3"
         },
         {
          "Category": "Adult Female Spermatheca Mated",
          "Dim1": -1.574547290802002,
          "Dim2": 1.2414172887802124,
          "Sample": "Adult Female Spermatheca Mated rep4"
         },
         {
          "Category": "Adult Female Spermatheca Virgin",
          "Dim1": -0.9648024439811707,
          "Dim2": 0.7774546146392822,
          "Sample": "Adult Female Spermatheca Virgin rep1"
         },
         {
          "Category": "Adult Female Spermatheca Virgin",
          "Dim1": -0.746403694152832,
          "Dim2": 0.5624558925628662,
          "Sample": "Adult Female Spermatheca Virgin rep2"
         },
         {
          "Category": "Adult Female Spermatheca Virgin",
          "Dim1": -0.9905142188072205,
          "Dim2": 0.17776866257190704,
          "Sample": "Adult Female Spermatheca Virgin rep3"
         },
         {
          "Category": "Adult Female Spermatheca Virgin",
          "Dim1": -1.375060796737671,
          "Dim2": 0.5624951124191284,
          "Sample": "Adult Female Spermatheca Virgin rep4"
         },
         {
          "Category": "Larval Feeding Malpighian Tubule",
          "Dim1": 4.905221462249756,
          "Dim2": 9.889683723449707,
          "Sample": "Larval Feeding Malpighian Tubule biological rep1"
         },
         {
          "Category": "Larval Feeding Malpighian Tubule",
          "Dim1": 4.911479949951172,
          "Dim2": 9.290642738342285,
          "Sample": "Larval Feeding Malpighian Tubule biological rep2"
         },
         {
          "Category": "Larval Feeding Malpighian Tubule",
          "Dim1": 4.983526229858398,
          "Dim2": 9.657049179077148,
          "Sample": "Larval Feeding Malpighian Tubule biological rep3"
         },
         {
          "Category": "Larval Feeding Malpighian Tubule",
          "Dim1": 5.29461669921875,
          "Dim2": 9.262487411499023,
          "Sample": "Larval Feeding Malpighian Tubule biological rep4"
         },
         {
          "Category": "Larval Feeding Fatbody",
          "Dim1": -4.0100836753845215,
          "Dim2": 2.7274067401885986,
          "Sample": "Larval Feeding Fatbody biological rep1"
         },
         {
          "Category": "Larval Feeding Fatbody",
          "Dim1": -3.8790276050567627,
          "Dim2": 2.680205821990967,
          "Sample": "Larval Feeding Fatbody biological rep2"
         },
         {
          "Category": "Larval Feeding Fatbody",
          "Dim1": -4.142475128173828,
          "Dim2": 2.7060844898223877,
          "Sample": "Larval Feeding Fatbody biological rep3"
         },
         {
          "Category": "Larval Feeding Fatbody",
          "Dim1": -6.232763290405273,
          "Dim2": 3.2323853969573975,
          "Sample": "Larval Feeding Fatbody biological rep4"
         },
         {
          "Category": "Larval Feeding Carcass",
          "Dim1": -0.011254248209297657,
          "Dim2": 6.11529541015625,
          "Sample": "Larval Feeding Carcass biological rep1"
         },
         {
          "Category": "Larval Feeding Carcass",
          "Dim1": -0.04496864229440689,
          "Dim2": 6.177544593811035,
          "Sample": "Larval Feeding Carcass biological rep2"
         },
         {
          "Category": "Larval Feeding Carcass",
          "Dim1": -0.048825763165950775,
          "Dim2": 6.384939670562744,
          "Sample": "Larval Feeding Carcass biological rep3"
         },
         {
          "Category": "Larval Feeding Carcass",
          "Dim1": -0.10344472527503967,
          "Dim2": 6.3470234870910645,
          "Sample": "Larval Feeding Carcass biological rep4"
         },
         {
          "Category": "Larval Feeding Central Nevous System",
          "Dim1": 0.12395583838224411,
          "Dim2": -10.58529281616211,
          "Sample": "Larval Feeding Central Nevous System biological rep1"
         },
         {
          "Category": "Larval Feeding Central Nevous System",
          "Dim1": 0.11057035624980927,
          "Dim2": -10.167508125305176,
          "Sample": "Larval Feeding Central Nevous System biological rep2"
         },
         {
          "Category": "Larval Feeding Central Nevous System",
          "Dim1": 0.0018880357965826988,
          "Dim2": -10.392704010009766,
          "Sample": "Larval Feeding Central Nevous System biological rep3"
         },
         {
          "Category": "Larval Feeding Central Nevous System",
          "Dim1": 0.20207294821739197,
          "Dim2": -10.368823051452637,
          "Sample": "Larval Feeding Central Nevous System biological rep4"
         },
         {
          "Category": "Larval Feeding Trachea",
          "Dim1": -1.8184162378311157,
          "Dim2": 5.880362033843994,
          "Sample": "Larval Feeding Trachea biological rep1"
         },
         {
          "Category": "Larval Feeding Trachea",
          "Dim1": -1.7043553590774536,
          "Dim2": 5.898900985717773,
          "Sample": "Larval Feeding Trachea biological rep2"
         },
         {
          "Category": "Larval Feeding Trachea",
          "Dim1": -2.0388808250427246,
          "Dim2": 6.217888355255127,
          "Sample": "Larval Feeding Trachea biological rep3"
         },
         {
          "Category": "Larval Feeding Trachea",
          "Dim1": -1.8273749351501465,
          "Dim2": 5.77980375289917,
          "Sample": "Larval Feeding Trachea biological rep4"
         },
         {
          "Category": "5th Passage Drosophila S2 Cells",
          "Dim1": -6.024703025817871,
          "Dim2": -4.988630294799805,
          "Sample": "5th Passage Drosophila S2 Cells biological rep1"
         },
         {
          "Category": "5th Passage Drosophila S2 Cells",
          "Dim1": -6.03547477722168,
          "Dim2": -4.954447269439697,
          "Sample": "5th Passage Drosophila S2 Cells biological rep2"
         },
         {
          "Category": "5th Passage Drosophila S2 Cells",
          "Dim1": -6.0331339836120605,
          "Dim2": -4.956737995147705,
          "Sample": "5th Passage Drosophila S2 Cells biological rep3"
         },
         {
          "Category": "5th Passage Drosophila S2 Cells",
          "Dim1": -6.052944183349609,
          "Dim2": -5.035571575164795,
          "Sample": "5th Passage Drosophila S2 Cells biological rep4"
         },
         {
          "Category": "Adult Fatbody",
          "Dim1": 0.6343062520027161,
          "Dim2": -0.47715675830841064,
          "Sample": "Adult Fatbody biological rep1"
         },
         {
          "Category": "Adult Fatbody",
          "Dim1": 0.5969039797782898,
          "Dim2": -0.31884241104125977,
          "Sample": "Adult Fatbody biological rep2"
         },
         {
          "Category": "Adult Fatbody",
          "Dim1": 0.5756871700286865,
          "Dim2": -0.6089959144592285,
          "Sample": "Adult Fatbody biological rep3"
         },
         {
          "Category": "Adult Fatbody",
          "Dim1": 0.20574888586997986,
          "Dim2": -0.8846275806427002,
          "Sample": "Adult Fatbody biological rep4"
         },
         {
          "Category": "Adult Eye",
          "Dim1": 1.990346908569336,
          "Dim2": -6.648843288421631,
          "Sample": "Adult Eye biological rep1"
         },
         {
          "Category": "Adult Eye",
          "Dim1": 2.031341314315796,
          "Dim2": -6.234460830688477,
          "Sample": "Adult Eye biological rep2"
         },
         {
          "Category": "Adult Eye",
          "Dim1": 2.1840031147003174,
          "Dim2": -6.260235786437988,
          "Sample": "Adult Eye biological rep3"
         },
         {
          "Category": "Adult Eye",
          "Dim1": 2.2179369926452637,
          "Dim2": -6.533642768859863,
          "Sample": "Adult Eye biological rep4"
         },
         {
          "Category": "Adult Heart",
          "Dim1": -0.9298499822616577,
          "Dim2": -3.0598275661468506,
          "Sample": "Adult Heart biological rep1"
         },
         {
          "Category": "Adult Heart",
          "Dim1": -0.5566112399101257,
          "Dim2": -2.6639533042907715,
          "Sample": "Adult Heart biological rep2"
         },
         {
          "Category": "Adult Heart",
          "Dim1": -0.9912266731262207,
          "Dim2": -3.155331611633301,
          "Sample": "Adult Heart biological rep3"
         },
         {
          "Category": "Adult Heart",
          "Dim1": -0.6423835754394531,
          "Dim2": -2.4876418113708496,
          "Sample": "Adult Heart biological rep4"
         },
         {
          "Category": "Adult Male Ejaculatory Duct",
          "Dim1": -4.364998817443848,
          "Dim2": -0.6762131452560425,
          "Sample": "Adult Male Ejaculatory Duct biological rep1"
         },
         {
          "Category": "Adult Male Ejaculatory Duct",
          "Dim1": -4.6176958084106445,
          "Dim2": -0.664299726486206,
          "Sample": "Adult Male Ejaculatory Duct biological rep2"
         },
         {
          "Category": "Adult Male Ejaculatory Duct",
          "Dim1": -4.398496627807617,
          "Dim2": -0.6727600693702698,
          "Sample": "Adult Male Ejaculatory Duct biological rep3"
         },
         {
          "Category": "Adult Male Ejaculatory Duct",
          "Dim1": -4.40013313293457,
          "Dim2": -0.6543668508529663,
          "Sample": "Adult Male Ejaculatory Duct biological rep4"
         },
         {
          "Category": "Whole Larvae Feeding",
          "Dim1": -0.9438666701316833,
          "Dim2": 9.77114486694336,
          "Sample": "Whole Larvae Feeding biological rep1"
         },
         {
          "Category": "Whole Larvae Feeding",
          "Dim1": -1.09725022315979,
          "Dim2": 9.825666427612305,
          "Sample": "Whole Larvae Feeding biological rep2"
         },
         {
          "Category": "Whole Larvae Feeding",
          "Dim1": -0.8687012195587158,
          "Dim2": 9.716498374938965,
          "Sample": "Whole Larvae Feeding biological rep3"
         },
         {
          "Category": "Whole Larvae Feeding",
          "Dim1": -0.8779099583625793,
          "Dim2": 9.703373908996582,
          "Sample": "Whole Larvae Feeding biological rep4"
         },
         {
          "Category": "Adult Trachea",
          "Dim1": 1.969136118888855,
          "Dim2": -3.581723690032959,
          "Sample": "Adult Trachea biological rep1"
         },
         {
          "Category": "Adult Trachea",
          "Dim1": 1.9342589378356934,
          "Dim2": -3.22454833984375,
          "Sample": "Adult Trachea biological rep2"
         },
         {
          "Category": "Adult Trachea",
          "Dim1": 1.9608101844787598,
          "Dim2": -3.460477590560913,
          "Sample": "Adult Trachea biological rep3"
         },
         {
          "Category": "Adult Trachea",
          "Dim1": 1.3404074907302856,
          "Dim2": -2.3094699382781982,
          "Sample": "Adult Trachea biological rep4"
         },
         {
          "Category": "Adult Thoracic Muscle",
          "Dim1": 6.786299705505371,
          "Dim2": -1.2362481355667114,
          "Sample": "Adult Thoracic Muscle biological rep1"
         },
         {
          "Category": "Adult Thoracic Muscle",
          "Dim1": 6.986262798309326,
          "Dim2": -1.1386851072311401,
          "Sample": "Adult Thoracic Muscle biological rep2"
         },
         {
          "Category": "Adult Thoracic Muscle",
          "Dim1": 6.828639984130859,
          "Dim2": -1.487742304801941,
          "Sample": "Adult Thoracic Muscle biological rep3"
         },
         {
          "Category": "Adult Thoracic Muscle",
          "Dim1": -0.9132524132728577,
          "Dim2": 1.9474387168884277,
          "Sample": "Adult Thoracic Muscle biological rep4"
         },
         {
          "Category": "Adult Wings",
          "Dim1": 4.360171794891357,
          "Dim2": -3.747934103012085,
          "Sample": "Adult Wings biological rep1"
         },
         {
          "Category": "Adult Wings",
          "Dim1": 4.286106586456299,
          "Dim2": -3.40818190574646,
          "Sample": "Adult Wings biological rep2"
         },
         {
          "Category": "Adult Wings",
          "Dim1": 4.426225185394287,
          "Dim2": -3.7014400959014893,
          "Sample": "Adult Wings biological rep3"
         },
         {
          "Category": "Adult Wings",
          "Dim1": 4.451622486114502,
          "Dim2": -3.74507212638855,
          "Sample": "Adult Wings biological rep4"
         },
         {
          "Category": "Adult Female Spermatheca Mated (REDONE)",
          "Dim1": 0.06602677702903748,
          "Dim2": 1.2848511934280396,
          "Sample": "Adult Female Spermatheca Mated (REDONE) biological rep1"
         },
         {
          "Category": "Adult Female Spermatheca Mated (REDONE)",
          "Dim1": 6.848808765411377,
          "Dim2": -1.1483806371688843,
          "Sample": "Adult Female Spermatheca Mated (REDONE) biological rep2"
         },
         {
          "Category": "Adult Female Spermatheca Mated (REDONE)",
          "Dim1": -0.19503116607666016,
          "Dim2": 1.8674126863479614,
          "Sample": "Adult Female Spermatheca Mated (REDONE) biological rep3"
         },
         {
          "Category": "Adult Female Spermatheca Mated (REDONE)",
          "Dim1": -0.5770009756088257,
          "Dim2": 1.8377541303634644,
          "Sample": "Adult Female Spermatheca Mated (REDONE) biological rep4\"\n"
         }
        ]
       },
       "encoding": {
        "color": {
         "field": "Category",
         "type": "nominal"
        },
        "tooltip": {
         "field": "Sample",
         "type": "nominal"
        },
        "x": {
         "field": "Dim1",
         "type": "quantitative"
        },
        "y": {
         "field": "Dim2",
         "type": "quantitative"
        }
       },
       "mark": "circle"
      },
      "image/png": "[encoded data removed]",
      "text/plain": [
       "<VegaLite 2 object>\n",
       "\n",
       "If you see this message, it means the renderer has not been properly enabled\n",
       "for the frontend that you are using. For more information, see\n",
       "https://altair-viz.github.io/user_guide/troubleshooting.html\n"
      ]
     },
     "execution_count": 23,
     "metadata": {},
     "output_type": "execute_result"
    }
   ],
   "source": [
    "expression_tsne = TSNE(n_components=2).fit_transform(log_expression.values.T)\n",
    "plot_two_dimensions(expression_tsne, sample_categories)"
   ]
  },
  {
   "cell_type": "markdown",
   "metadata": {},
   "source": [
    "**Exercise:**\n",
    "\n",
    "Try creating a UMAP plot using `UMAP()`, which we imported from the `umap` library. `umap` is not part of scikit-learn, but it deliberately uses a similar syntax.\n",
    "\n",
    "Examine the documentation either online or just using `help(UMAP)` in the notebook.\n",
    "\n",
    "Look at the available parameters in the documentation. Try varying `n_neighbours` (which has a conceptual similarity to tSNE's `perplexity`) and `min_dist`."
   ]
  },
  {
   "cell_type": "code",
   "execution_count": 24,
   "metadata": {},
   "outputs": [
    {
     "data": {
      "application/vnd.vegalite.v2+json": {
       "$schema": "https://vega.github.io/schema/vega-lite/v2.4.3.json",
       "config": {
        "view": {
         "height": 300,
         "width": 400
        }
       },
       "data": {
        "values": [
         {
          "Category": "Adult Hind Gut",
          "Dim1": 4.251052695527246,
          "Dim2": -5.124262278707005,
          "Sample": "Adult Hind Gut biological rep1"
         },
         {
          "Category": "Adult Hind Gut",
          "Dim1": 4.404432885917284,
          "Dim2": -5.206144608688266,
          "Sample": "Adult Hind Gut biological rep2"
         },
         {
          "Category": "Adult Hind Gut",
          "Dim1": 4.224611381011603,
          "Dim2": -5.341131880464301,
          "Sample": "Adult Hind Gut biological rep3"
         },
         {
          "Category": "Adult Hind Gut",
          "Dim1": 4.325601070076752,
          "Dim2": -5.219054456010841,
          "Sample": "Adult Hind Gut biological rep4"
         },
         {
          "Category": "Adult Mid Gut",
          "Dim1": 12.666721394877724,
          "Dim2": -11.753833181297006,
          "Sample": "Adult Mid Gut biological rep1"
         },
         {
          "Category": "Adult Mid Gut",
          "Dim1": 12.63942002872228,
          "Dim2": -11.72653174572723,
          "Sample": "Adult Mid Gut biological rep2"
         },
         {
          "Category": "Adult Mid Gut",
          "Dim1": 12.530282250859422,
          "Dim2": -11.617419706089182,
          "Sample": "Adult Mid Gut biological rep3"
         },
         {
          "Category": "Adult Mid Gut",
          "Dim1": 12.520400815766983,
          "Dim2": -11.607515732374148,
          "Sample": "Adult Mid Gut biological rep4"
         },
         {
          "Category": "Adult Accessory gland",
          "Dim1": 3.509926033208125,
          "Dim2": 0.45049367388987044,
          "Sample": "Adult Accessory gland biological rep1"
         },
         {
          "Category": "Adult Accessory gland",
          "Dim1": 3.585956429653275,
          "Dim2": 0.40502234093483,
          "Sample": "Adult Accessory gland biological rep2"
         },
         {
          "Category": "Adult Accessory gland",
          "Dim1": 3.5925503378350547,
          "Dim2": 0.44899601531524086,
          "Sample": "Adult Accessory gland biological rep3"
         },
         {
          "Category": "Adult Accessory gland",
          "Dim1": 3.5205808530203164,
          "Dim2": 0.49326081635562086,
          "Sample": "Adult Accessory gland biological rep4"
         },
         {
          "Category": "Adult Brain",
          "Dim1": 0.31077223601056236,
          "Dim2": -42.09581167559741,
          "Sample": "Adult Brain biological rep1"
         },
         {
          "Category": "Adult Brain",
          "Dim1": 0.3243895430802319,
          "Dim2": -42.061021130696815,
          "Sample": "Adult Brain biological rep2"
         },
         {
          "Category": "Adult Brain",
          "Dim1": 0.41127858838321424,
          "Dim2": -41.87985677085709,
          "Sample": "Adult Brain biological rep3"
         },
         {
          "Category": "Adult Brain",
          "Dim1": 0.33615773003576194,
          "Dim2": -42.04691659099699,
          "Sample": "Adult Brain biological rep4"
         },
         {
          "Category": "Adult Crop",
          "Dim1": 3.6350380533204874,
          "Dim2": -4.348241646131297,
          "Sample": "Adult Crop biological rep1"
         },
         {
          "Category": "Adult Crop",
          "Dim1": 3.554820956779155,
          "Dim2": -4.402741480405777,
          "Sample": "Adult Crop biological rep2"
         },
         {
          "Category": "Adult Crop",
          "Dim1": 3.456957044646417,
          "Dim2": -4.493228509752337,
          "Sample": "Adult Crop biological rep3"
         },
         {
          "Category": "Adult Crop",
          "Dim1": 3.5133178044435054,
          "Dim2": -4.456882085522176,
          "Sample": "Adult Crop biological rep4"
         },
         {
          "Category": "Larval Wandering fat body",
          "Dim1": -0.8569964953338632,
          "Dim2": 9.126860597886516,
          "Sample": "Larval Wandering fat body biological rep1"
         },
         {
          "Category": "Larval Wandering fat body",
          "Dim1": -0.5174374422414771,
          "Dim2": 8.810671559605709,
          "Sample": "Larval Wandering fat body biological rep2"
         },
         {
          "Category": "Larval Wandering fat body",
          "Dim1": -0.6427198360124114,
          "Dim2": 8.935970466814041,
          "Sample": "Larval Wandering fat body biological rep3"
         },
         {
          "Category": "Larval Wandering fat body",
          "Dim1": -0.787580770697935,
          "Dim2": 9.062187477935646,
          "Sample": "Larval Wandering fat body biological rep4"
         },
         {
          "Category": "Adult Head",
          "Dim1": -0.8155825468591497,
          "Dim2": 14.320548935118289,
          "Sample": "Adult Head biological rep1"
         },
         {
          "Category": "Adult Head",
          "Dim1": -0.8197449809692139,
          "Dim2": 14.482193165993193,
          "Sample": "Adult Head biological rep2"
         },
         {
          "Category": "Adult Head",
          "Dim1": -0.7810224545772474,
          "Dim2": 14.45855776630253,
          "Sample": "Adult Head biological rep3"
         },
         {
          "Category": "Adult Head",
          "Dim1": -0.7026878412924226,
          "Dim2": 14.490933653359521,
          "Sample": "Adult Head biological rep4"
         },
         {
          "Category": "Larvae Wandering Tubules",
          "Dim1": -56.34279735835738,
          "Dim2": 8.206254572359281,
          "Sample": "Larvae Wandering Tubules biological rep1"
         },
         {
          "Category": "Larvae Wandering Tubules",
          "Dim1": -56.24362314865634,
          "Dim2": 8.305428106772396,
          "Sample": "Larvae Wandering Tubules biological rep2"
         },
         {
          "Category": "Larvae Wandering Tubules",
          "Dim1": -56.4190024373239,
          "Dim2": 8.130048694549766,
          "Sample": "Larvae Wandering Tubules biological rep3"
         },
         {
          "Category": "Larvae Wandering Tubules",
          "Dim1": -56.37712784242756,
          "Dim2": 8.171923018465934,
          "Sample": "Larvae Wandering Tubules biological rep4"
         },
         {
          "Category": "Adult Ovary",
          "Dim1": 5.7957816646923295,
          "Dim2": -23.12348061374619,
          "Sample": "Adult Ovary biological rep1"
         },
         {
          "Category": "Adult Ovary",
          "Dim1": 5.741168401479931,
          "Dim2": -23.090470932483623,
          "Sample": "Adult Ovary biological rep2"
         },
         {
          "Category": "Adult Ovary",
          "Dim1": 5.73820045312506,
          "Dim2": -23.149501463208047,
          "Sample": "Adult Ovary biological rep3"
         },
         {
          "Category": "Adult Ovary",
          "Dim1": 5.861729021728433,
          "Dim2": -23.050936953559074,
          "Sample": "Adult Ovary biological rep4"
         },
         {
          "Category": "Adult Testes",
          "Dim1": -0.032932693262321185,
          "Dim2": 8.11889027422915,
          "Sample": "Adult Testes biological rep1"
         },
         {
          "Category": "Adult Testes",
          "Dim1": -0.061297272425770995,
          "Dim2": 8.145879271644564,
          "Sample": "Adult Testes biological rep2"
         },
         {
          "Category": "Adult Testes",
          "Dim1": -0.08175889584273245,
          "Dim2": 8.164552553251289,
          "Sample": "Adult Testes biological rep3"
         },
         {
          "Category": "Adult Testes",
          "Dim1": -0.10650118815894631,
          "Dim2": 8.192300535524653,
          "Sample": "Adult Testes biological rep4"
         },
         {
          "Category": "Adult Whole Fly",
          "Dim1": 6.861598521447681,
          "Dim2": -5.1351907854081835,
          "Sample": "Adult Whole Fly biological rep1"
         },
         {
          "Category": "Adult Whole Fly",
          "Dim1": 7.00130397642215,
          "Dim2": -5.025772259324256,
          "Sample": "Adult Whole Fly biological rep2"
         },
         {
          "Category": "Adult Whole Fly",
          "Dim1": 7.014583733884673,
          "Dim2": -5.011256527795674,
          "Sample": "Adult Whole Fly biological rep3"
         },
         {
          "Category": "Adult Whole Fly",
          "Dim1": 7.0459751195506595,
          "Dim2": -5.035545827095731,
          "Sample": "Adult Whole Fly biological rep4"
         },
         {
          "Category": "Adult Salivary Gland",
          "Dim1": 1.7495471495570052,
          "Dim2": -5.949083748618909,
          "Sample": "Adult Salivary Gland rep1"
         },
         {
          "Category": "Adult Salivary Gland",
          "Dim1": 1.8724834962105723,
          "Dim2": -5.8701179560123435,
          "Sample": "Adult Salivary Gland rep2"
         },
         {
          "Category": "Adult Salivary Gland",
          "Dim1": 1.9265278771951966,
          "Dim2": -5.965781226622666,
          "Sample": "Adult Salivary Gland rep3"
         },
         {
          "Category": "Adult Salivary Gland",
          "Dim1": 1.9656650975798313,
          "Dim2": -5.719838853920485,
          "Sample": "Adult Salivary Gland rep4"
         },
         {
          "Category": "Adult Carcass",
          "Dim1": -1.4334321432178478,
          "Dim2": 12.416162956700981,
          "Sample": "Adult Carcass biological rep1"
         },
         {
          "Category": "Adult Carcass",
          "Dim1": -1.421302811663972,
          "Dim2": 12.52211864105491,
          "Sample": "Adult Carcass biological rep2"
         },
         {
          "Category": "Adult Carcass",
          "Dim1": -1.4711803439583655,
          "Dim2": 12.490398580212947,
          "Sample": "Adult Carcass biological rep3"
         },
         {
          "Category": "Adult Carcass",
          "Dim1": -1.320034789301147,
          "Dim2": 12.707911986950245,
          "Sample": "Adult Carcass biological rep4"
         },
         {
          "Category": "Adult Thoracoabdominal ganglion",
          "Dim1": 0.06864190419575901,
          "Dim2": -42.27437217217154,
          "Sample": "Adult Thoracoabdominal ganglion rep1"
         },
         {
          "Category": "Adult Thoracoabdominal ganglion",
          "Dim1": 0.030319817072299932,
          "Dim2": -42.241415916001955,
          "Sample": "Adult Thoracoabdominal ganglion rep2"
         },
         {
          "Category": "Adult Thoracoabdominal ganglion",
          "Dim1": -0.043901142499252914,
          "Dim2": -42.19854191208098,
          "Sample": "Adult Thoracoabdominal ganglion rep3"
         },
         {
          "Category": "Adult Thoracoabdominal ganglion",
          "Dim1": 0.045414073625872,
          "Dim2": -42.20543988819641,
          "Sample": "Adult Thoracoabdominal ganglion rep4"
         },
         {
          "Category": "Larval Feeding Hind Gut",
          "Dim1": 4.567886318222798,
          "Dim2": -5.7914601877924445,
          "Sample": "Larval Feeding Hind Gut rep1"
         },
         {
          "Category": "Larval Feeding Hind Gut",
          "Dim1": 4.662622689400132,
          "Dim2": -5.867193629732191,
          "Sample": "Larval Feeding Hind Gut rep2"
         },
         {
          "Category": "Larval Feeding Hind Gut",
          "Dim1": 4.531173520286692,
          "Dim2": -5.808679975798907,
          "Sample": "Larval Feeding Hind Gut rep3"
         },
         {
          "Category": "Larval Feeding Hind Gut",
          "Dim1": 4.501874212557468,
          "Dim2": -5.901826636415586,
          "Sample": "Larval Feeding Hind Gut rep4"
         },
         {
          "Category": "Larval Feeding Mid Gut",
          "Dim1": 12.217468752439858,
          "Dim2": -11.304426289817357,
          "Sample": "Larval Feeding Mid Gut rep1"
         },
         {
          "Category": "Larval Feeding Mid Gut",
          "Dim1": 12.295072230329566,
          "Dim2": -11.382056773718814,
          "Sample": "Larval Feeding Mid Gut rep2"
         },
         {
          "Category": "Larval Feeding Mid Gut",
          "Dim1": 12.229052541446693,
          "Dim2": -11.315984730764214,
          "Sample": "Larval Feeding Mid Gut rep3"
         },
         {
          "Category": "Larval Feeding Mid Gut",
          "Dim1": 12.267580260296183,
          "Dim2": -11.35453635420392,
          "Sample": "Larval Feeding Mid Gut rep4"
         },
         {
          "Category": "Larval Feeding Salivary Gland",
          "Dim1": 2.3584737892316094,
          "Dim2": -5.830701826711935,
          "Sample": "Larval Feeding Salivary Gland rep1"
         },
         {
          "Category": "Larval Feeding Salivary Gland",
          "Dim1": 2.309576318491412,
          "Dim2": -5.923318906922808,
          "Sample": "Larval Feeding Salivary Gland rep2"
         },
         {
          "Category": "Larval Feeding Salivary Gland",
          "Dim1": 2.329648225565785,
          "Dim2": -5.829318845614823,
          "Sample": "Larval Feeding Salivary Gland rep3"
         },
         {
          "Category": "Larval Feeding Salivary Gland",
          "Dim1": 2.2475320013141054,
          "Dim2": -5.953358015302218,
          "Sample": "Larval Feeding Salivary Gland rep4"
         },
         {
          "Category": "Adult Female Spermatheca Mated",
          "Dim1": -2.683685082448517,
          "Dim2": 8.600401915354315,
          "Sample": "Adult Female Spermatheca Mated rep1"
         },
         {
          "Category": "Adult Female Spermatheca Mated",
          "Dim1": -2.921414449892956,
          "Dim2": 8.272437979948908,
          "Sample": "Adult Female Spermatheca Mated rep2"
         },
         {
          "Category": "Adult Female Spermatheca Mated",
          "Dim1": -2.665500660966363,
          "Dim2": 8.545485069347968,
          "Sample": "Adult Female Spermatheca Mated rep3"
         },
         {
          "Category": "Adult Female Spermatheca Mated",
          "Dim1": -3.0049427470375343,
          "Dim2": 8.220872678806119,
          "Sample": "Adult Female Spermatheca Mated rep4"
         },
         {
          "Category": "Adult Female Spermatheca Virgin",
          "Dim1": -2.7280595304241286,
          "Dim2": 8.457476383370171,
          "Sample": "Adult Female Spermatheca Virgin rep1"
         },
         {
          "Category": "Adult Female Spermatheca Virgin",
          "Dim1": -2.8947976530936907,
          "Dim2": 8.418537358244272,
          "Sample": "Adult Female Spermatheca Virgin rep2"
         },
         {
          "Category": "Adult Female Spermatheca Virgin",
          "Dim1": -2.8400532743176914,
          "Dim2": 8.3666387710369,
          "Sample": "Adult Female Spermatheca Virgin rep3"
         },
         {
          "Category": "Adult Female Spermatheca Virgin",
          "Dim1": -2.7046893679581054,
          "Dim2": 8.492673318198218,
          "Sample": "Adult Female Spermatheca Virgin rep4"
         },
         {
          "Category": "Larval Feeding Malpighian Tubule",
          "Dim1": -56.43396020219696,
          "Dim2": 8.115090478622234,
          "Sample": "Larval Feeding Malpighian Tubule biological rep1"
         },
         {
          "Category": "Larval Feeding Malpighian Tubule",
          "Dim1": -56.55772240879545,
          "Dim2": 7.991327055516342,
          "Sample": "Larval Feeding Malpighian Tubule biological rep2"
         },
         {
          "Category": "Larval Feeding Malpighian Tubule",
          "Dim1": -56.63595809829413,
          "Dim2": 7.913091674880617,
          "Sample": "Larval Feeding Malpighian Tubule biological rep3"
         },
         {
          "Category": "Larval Feeding Malpighian Tubule",
          "Dim1": -56.55287611214365,
          "Dim2": 7.996173938518793,
          "Sample": "Larval Feeding Malpighian Tubule biological rep4"
         },
         {
          "Category": "Larval Feeding Fatbody",
          "Dim1": -1.2412712517300302,
          "Dim2": 9.292789269579211,
          "Sample": "Larval Feeding Fatbody biological rep1"
         },
         {
          "Category": "Larval Feeding Fatbody",
          "Dim1": -1.3476572464675287,
          "Dim2": 9.252950588571451,
          "Sample": "Larval Feeding Fatbody biological rep2"
         },
         {
          "Category": "Larval Feeding Fatbody",
          "Dim1": -1.2747613930507373,
          "Dim2": 9.301253841480925,
          "Sample": "Larval Feeding Fatbody biological rep3"
         },
         {
          "Category": "Larval Feeding Fatbody",
          "Dim1": -0.7245453514779755,
          "Dim2": 8.983529759851544,
          "Sample": "Larval Feeding Fatbody biological rep4"
         },
         {
          "Category": "Larval Feeding Carcass",
          "Dim1": 4.070166569418261,
          "Dim2": -6.72569890914449,
          "Sample": "Larval Feeding Carcass biological rep1"
         },
         {
          "Category": "Larval Feeding Carcass",
          "Dim1": 4.15476912619366,
          "Dim2": -6.664907237422208,
          "Sample": "Larval Feeding Carcass biological rep2"
         },
         {
          "Category": "Larval Feeding Carcass",
          "Dim1": 4.0447395347409,
          "Dim2": -6.696921814483516,
          "Sample": "Larval Feeding Carcass biological rep3"
         },
         {
          "Category": "Larval Feeding Carcass",
          "Dim1": 4.1133472153409905,
          "Dim2": -6.722333012292419,
          "Sample": "Larval Feeding Carcass biological rep4"
         },
         {
          "Category": "Larval Feeding Central Nevous System",
          "Dim1": 0.3330757338861675,
          "Dim2": -41.38512577081911,
          "Sample": "Larval Feeding Central Nevous System biological rep1"
         },
         {
          "Category": "Larval Feeding Central Nevous System",
          "Dim1": 0.32848574876705966,
          "Dim2": -41.36371040785556,
          "Sample": "Larval Feeding Central Nevous System biological rep2"
         },
         {
          "Category": "Larval Feeding Central Nevous System",
          "Dim1": 0.37652075258656575,
          "Dim2": -41.33357712327143,
          "Sample": "Larval Feeding Central Nevous System biological rep3"
         },
         {
          "Category": "Larval Feeding Central Nevous System",
          "Dim1": 0.35390654877057276,
          "Dim2": -41.34250516924233,
          "Sample": "Larval Feeding Central Nevous System biological rep4"
         },
         {
          "Category": "Larval Feeding Trachea",
          "Dim1": 3.858717637553234,
          "Dim2": -6.390648455037144,
          "Sample": "Larval Feeding Trachea biological rep1"
         },
         {
          "Category": "Larval Feeding Trachea",
          "Dim1": 3.798222750896961,
          "Dim2": -6.346534154518898,
          "Sample": "Larval Feeding Trachea biological rep2"
         },
         {
          "Category": "Larval Feeding Trachea",
          "Dim1": 3.8923064435795287,
          "Dim2": -6.40871506159266,
          "Sample": "Larval Feeding Trachea biological rep3"
         },
         {
          "Category": "Larval Feeding Trachea",
          "Dim1": 3.855673885143623,
          "Dim2": -6.431880040192943,
          "Sample": "Larval Feeding Trachea biological rep4"
         },
         {
          "Category": "5th Passage Drosophila S2 Cells",
          "Dim1": 5.717886604176904,
          "Dim2": -22.657484339041222,
          "Sample": "5th Passage Drosophila S2 Cells biological rep1"
         },
         {
          "Category": "5th Passage Drosophila S2 Cells",
          "Dim1": 5.598202765210459,
          "Dim2": -22.77547057636531,
          "Sample": "5th Passage Drosophila S2 Cells biological rep2"
         },
         {
          "Category": "5th Passage Drosophila S2 Cells",
          "Dim1": 5.751791437939947,
          "Dim2": -22.660357206185243,
          "Sample": "5th Passage Drosophila S2 Cells biological rep3"
         },
         {
          "Category": "5th Passage Drosophila S2 Cells",
          "Dim1": 5.670510418386496,
          "Dim2": -22.74965538802093,
          "Sample": "5th Passage Drosophila S2 Cells biological rep4"
         },
         {
          "Category": "Adult Fatbody",
          "Dim1": -2.1681915851176403,
          "Dim2": 9.716255898555273,
          "Sample": "Adult Fatbody biological rep1"
         },
         {
          "Category": "Adult Fatbody",
          "Dim1": -2.1536052419537293,
          "Dim2": 9.627401031039128,
          "Sample": "Adult Fatbody biological rep2"
         },
         {
          "Category": "Adult Fatbody",
          "Dim1": -2.0641787756433665,
          "Dim2": 9.609719314444853,
          "Sample": "Adult Fatbody biological rep3"
         },
         {
          "Category": "Adult Fatbody",
          "Dim1": -2.1128841113773924,
          "Dim2": 9.713372566755025,
          "Sample": "Adult Fatbody biological rep4"
         },
         {
          "Category": "Adult Eye",
          "Dim1": -0.813567313413337,
          "Dim2": 14.951999519557758,
          "Sample": "Adult Eye biological rep1"
         },
         {
          "Category": "Adult Eye",
          "Dim1": -0.7404716169227175,
          "Dim2": 14.866763931336939,
          "Sample": "Adult Eye biological rep2"
         },
         {
          "Category": "Adult Eye",
          "Dim1": -0.8457447976748516,
          "Dim2": 14.938346589463832,
          "Sample": "Adult Eye biological rep3"
         },
         {
          "Category": "Adult Eye",
          "Dim1": -0.8279334349651349,
          "Dim2": 14.97977404555658,
          "Sample": "Adult Eye biological rep4"
         },
         {
          "Category": "Adult Heart",
          "Dim1": -2.0786053679525587,
          "Dim2": 11.116062224474627,
          "Sample": "Adult Heart biological rep1"
         },
         {
          "Category": "Adult Heart",
          "Dim1": -2.1272472947546253,
          "Dim2": 11.140200844044402,
          "Sample": "Adult Heart biological rep2"
         },
         {
          "Category": "Adult Heart",
          "Dim1": -2.1569825085065726,
          "Dim2": 11.16493510173307,
          "Sample": "Adult Heart biological rep3"
         },
         {
          "Category": "Adult Heart",
          "Dim1": -2.105556023227845,
          "Dim2": 11.14415929914457,
          "Sample": "Adult Heart biological rep4"
         },
         {
          "Category": "Adult Male Ejaculatory Duct",
          "Dim1": 3.026881237589595,
          "Dim2": 0.12396250588886171,
          "Sample": "Adult Male Ejaculatory Duct biological rep1"
         },
         {
          "Category": "Adult Male Ejaculatory Duct",
          "Dim1": 3.020317002110021,
          "Dim2": 0.06960963751301179,
          "Sample": "Adult Male Ejaculatory Duct biological rep2"
         },
         {
          "Category": "Adult Male Ejaculatory Duct",
          "Dim1": 3.0527006283411726,
          "Dim2": 0.07344183715919592,
          "Sample": "Adult Male Ejaculatory Duct biological rep3"
         },
         {
          "Category": "Adult Male Ejaculatory Duct",
          "Dim1": 3.077884475869876,
          "Dim2": 0.0587426857732155,
          "Sample": "Adult Male Ejaculatory Duct biological rep4"
         },
         {
          "Category": "Whole Larvae Feeding",
          "Dim1": 6.400238900547801,
          "Dim2": -5.577662856529892,
          "Sample": "Whole Larvae Feeding biological rep1"
         },
         {
          "Category": "Whole Larvae Feeding",
          "Dim1": 6.461037616443668,
          "Dim2": -5.643441250689598,
          "Sample": "Whole Larvae Feeding biological rep2"
         },
         {
          "Category": "Whole Larvae Feeding",
          "Dim1": 6.302517226622771,
          "Dim2": -5.459046048310222,
          "Sample": "Whole Larvae Feeding biological rep3"
         },
         {
          "Category": "Whole Larvae Feeding",
          "Dim1": 6.3232826232610755,
          "Dim2": -5.49872191979181,
          "Sample": "Whole Larvae Feeding biological rep4"
         },
         {
          "Category": "Adult Trachea",
          "Dim1": -1.014622199113976,
          "Dim2": 13.346821124683274,
          "Sample": "Adult Trachea biological rep1"
         },
         {
          "Category": "Adult Trachea",
          "Dim1": -0.9246060687931169,
          "Dim2": 13.279896182888344,
          "Sample": "Adult Trachea biological rep2"
         },
         {
          "Category": "Adult Trachea",
          "Dim1": -1.0672651803314588,
          "Dim2": 13.317240148797902,
          "Sample": "Adult Trachea biological rep3"
         },
         {
          "Category": "Adult Trachea",
          "Dim1": -1.1329068587553495,
          "Dim2": 12.962002379266165,
          "Sample": "Adult Trachea biological rep4"
         },
         {
          "Category": "Adult Thoracic Muscle",
          "Dim1": -2.045847280079964,
          "Dim2": 12.816011248680406,
          "Sample": "Adult Thoracic Muscle biological rep1"
         },
         {
          "Category": "Adult Thoracic Muscle",
          "Dim1": -1.9603920317055623,
          "Dim2": 12.936337833629405,
          "Sample": "Adult Thoracic Muscle biological rep2"
         },
         {
          "Category": "Adult Thoracic Muscle",
          "Dim1": -1.8954238208594407,
          "Dim2": 12.967917266408508,
          "Sample": "Adult Thoracic Muscle biological rep3"
         },
         {
          "Category": "Adult Thoracic Muscle",
          "Dim1": -3.381644317246328,
          "Dim2": 8.08895231435689,
          "Sample": "Adult Thoracic Muscle biological rep4"
         },
         {
          "Category": "Adult Wings",
          "Dim1": -0.44866227736490905,
          "Dim2": 13.61894174014086,
          "Sample": "Adult Wings biological rep1"
         },
         {
          "Category": "Adult Wings",
          "Dim1": -0.44049206016139086,
          "Dim2": 13.560438483380663,
          "Sample": "Adult Wings biological rep2"
         },
         {
          "Category": "Adult Wings",
          "Dim1": -0.5059475077742175,
          "Dim2": 13.655001589664046,
          "Sample": "Adult Wings biological rep3"
         },
         {
          "Category": "Adult Wings",
          "Dim1": -0.41848567663089636,
          "Dim2": 13.601920539586727,
          "Sample": "Adult Wings biological rep4"
         },
         {
          "Category": "Adult Female Spermatheca Mated (REDONE)",
          "Dim1": -3.4184155237917744,
          "Dim2": 8.149390607434562,
          "Sample": "Adult Female Spermatheca Mated (REDONE) biological rep1"
         },
         {
          "Category": "Adult Female Spermatheca Mated (REDONE)",
          "Dim1": -1.9208821619883638,
          "Dim2": 12.946459517023909,
          "Sample": "Adult Female Spermatheca Mated (REDONE) biological rep2"
         },
         {
          "Category": "Adult Female Spermatheca Mated (REDONE)",
          "Dim1": -3.2730546676932595,
          "Dim2": 8.067150645274195,
          "Sample": "Adult Female Spermatheca Mated (REDONE) biological rep3"
         },
         {
          "Category": "Adult Female Spermatheca Mated (REDONE)",
          "Dim1": -3.308536973580685,
          "Dim2": 8.127840361807527,
          "Sample": "Adult Female Spermatheca Mated (REDONE) biological rep4\"\n"
         }
        ]
       },
       "encoding": {
        "color": {
         "field": "Category",
         "type": "nominal"
        },
        "tooltip": {
         "field": "Sample",
         "type": "nominal"
        },
        "x": {
         "field": "Dim1",
         "type": "quantitative"
        },
        "y": {
         "field": "Dim2",
         "type": "quantitative"
        }
       },
       "mark": "circle"
      },
      "image/png": "[encoded data removed]",
      "text/plain": [
       "<VegaLite 2 object>\n",
       "\n",
       "If you see this message, it means the renderer has not been properly enabled\n",
       "for the frontend that you are using. For more information, see\n",
       "https://altair-viz.github.io/user_guide/troubleshooting.html\n"
      ]
     },
     "execution_count": 24,
     "metadata": {},
     "output_type": "execute_result"
    }
   ],
   "source": [
    "expression_umap = UMAP(n_components=2, n_neighbors=10).fit_transform(log_expression.values.T)\n",
    "plot_two_dimensions(expression_umap, sample_categories)"
   ]
  },
  {
   "cell_type": "code",
   "execution_count": null,
   "metadata": {},
   "outputs": [],
   "source": []
  },
  {
   "cell_type": "code",
   "execution_count": null,
   "metadata": {},
   "outputs": [],
   "source": []
  }
 ],
 "metadata": {
  "kernelspec": {
   "display_name": "Python 3",
   "language": "python",
   "name": "python3"
  },
  "language_info": {
   "codemirror_mode": {
    "name": "ipython",
    "version": 3
   },
   "file_extension": ".py",
   "mimetype": "text/x-python",
   "name": "python",
   "nbconvert_exporter": "python",
   "pygments_lexer": "ipython3",
   "version": "3.6.3"
  }
 },
 "nbformat": 4,
 "nbformat_minor": 2
}
