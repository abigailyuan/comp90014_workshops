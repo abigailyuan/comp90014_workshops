{
 "cells": [
  {
   "cell_type": "markdown",
   "metadata": {},
   "source": [
    "# Week 9 - Dimensionality reduction\n",
    "\n",
    "In this lab, you'll get a chance to experiment with library implementations of the dimensionality reduction techniques discussed in lecture.\n",
    "\n",
    "You will not be implementing the algorithms yourself. Instead you will be expected to use the library methods by reading the online documentation. This is intended to be practical experience - finding solutions based on existing libraries is usually much more practical than implementing a solution from scratch!"
   ]
  },
  {
   "cell_type": "markdown",
   "metadata": {},
   "source": [
    "### Installation notes\n",
    "\n",
    "To run this notebook you will need to install several packages:\n",
    "\n",
    "    conda install pandas\n",
    "    conda install scikit-learn\n",
    "    conda install -c conda-forge umap-learn\n",
    "    conda install -c conda-forge altair vega"
   ]
  },
  {
   "cell_type": "code",
   "execution_count": null,
   "metadata": {},
   "outputs": [],
   "source": [
    "%matplotlib inline"
   ]
  },
  {
   "cell_type": "code",
   "execution_count": null,
   "metadata": {},
   "outputs": [],
   "source": [
    "import pandas as pd\n",
    "import gzip\n",
    "import re\n",
    "from urllib.request import urlretrieve\n",
    "from sklearn.decomposition import PCA\n",
    "from sklearn.manifold import TSNE, MDS\n",
    "from umap import UMAP"
   ]
  },
  {
   "cell_type": "code",
   "execution_count": null,
   "metadata": {},
   "outputs": [],
   "source": [
    "import altair"
   ]
  },
  {
   "cell_type": "code",
   "execution_count": null,
   "metadata": {},
   "outputs": [],
   "source": [
    "import matplotlib.pyplot as plt\n",
    "# Set default figure size to a larger size\n",
    "plt.rcParams['figure.figsize'] = [10, 10]"
   ]
  },
  {
   "cell_type": "markdown",
   "metadata": {},
   "source": [
    "The following code will download the raw [FlyAtlas](http://flyatlas.org/atlas.cgi) data from [NCBI's Gene Expression Omnibus](https://www.ncbi.nlm.nih.gov/geo/). It may take a few moments to download."
   ]
  },
  {
   "cell_type": "code",
   "execution_count": null,
   "metadata": {},
   "outputs": [],
   "source": [
    "urlretrieve(\"ftp://ftp.ncbi.nlm.nih.gov/geo/series/GSE7nnn/GSE7763/matrix/GSE7763_series_matrix.txt.gz\", filename=\"flydata.txt.gz\")"
   ]
  },
  {
   "cell_type": "markdown",
   "metadata": {},
   "source": [
    "The following two cells will open the compressed file you downloaded from GEO into a `pandas` data frame, then reopen the file and parse out the sample title line in order to use this as the column names for the data frame."
   ]
  },
  {
   "cell_type": "code",
   "execution_count": null,
   "metadata": {},
   "outputs": [],
   "source": [
    "with gzip.open(\"flydata.txt.gz\") as handle:\n",
    "    expression = pd.read_csv(handle, sep=\"\\t\", comment=\"!\", index_col=0)"
   ]
  },
  {
   "cell_type": "code",
   "execution_count": null,
   "metadata": {},
   "outputs": [],
   "source": [
    "with gzip.open(\"flydata.txt.gz\") as handle:\n",
    "    for line in handle:\n",
    "        line = line.decode(\"utf-8\")\n",
    "        if line.startswith(\"!Sample_title\"):\n",
    "            header = [x.strip('\"') for x in line.split(\"\\t\")[1:]]\n",
    "            expression.columns = header\n",
    "            break"
   ]
  },
  {
   "cell_type": "markdown",
   "metadata": {},
   "source": [
    "Output the data frame and see what we have. It should have microarray probe ID's as row names (these can be mapped to gene names but we will skip that for today) and sample names as column names.\n",
    "\n",
    "The data frame has 18952 rows (measurements) and 136 columns (samples) so it is certainly high dimensional."
   ]
  },
  {
   "cell_type": "code",
   "execution_count": null,
   "metadata": {},
   "outputs": [],
   "source": [
    "expression.head()"
   ]
  },
  {
   "cell_type": "markdown",
   "metadata": {},
   "source": [
    "These 136 columns represent 4 replicates each from 34 different tissue types."
   ]
  },
  {
   "cell_type": "markdown",
   "metadata": {},
   "source": [
    "The following code snippet removes the replicate name from each sample, so we can use these labels as categories for plotting later."
   ]
  },
  {
   "cell_type": "code",
   "execution_count": null,
   "metadata": {},
   "outputs": [],
   "source": [
    "sample_categories = [re.match('(.+?)(( biological)? rep\\d+)', c).group(1)\n",
    "                     for c in expression.columns]"
   ]
  },
  {
   "cell_type": "code",
   "execution_count": null,
   "metadata": {},
   "outputs": [],
   "source": [
    "sample_categories"
   ]
  },
  {
   "cell_type": "markdown",
   "metadata": {},
   "source": [
    "The following function will render a two-dimensional scatterplot which is coloured by the list of categories. We will use it for PCA, MDS, tSNE, and UMAP visualizations.\n",
    "\n",
    "The first function provided uses the Altair plotting library, which is interactive, allowing us to mouseover the points. To use this, you must install Altair as described in the first cell.\n",
    "\n",
    "If you have trouble with Altair, you can use the second function below instead, which only requires matplotlib."
   ]
  },
  {
   "cell_type": "code",
   "execution_count": null,
   "metadata": {},
   "outputs": [],
   "source": [
    "# Here is a plotting function that uses Altair\n",
    "# You can interact with the plot by mousing over\n",
    "# the data points\n",
    "def plot_two_dimensions(data, categories):\n",
    "    df = pd.DataFrame(data)\n",
    "    df.columns = ['Dim{}'.format(n) for n in range(1,data.shape[1]+1)]\n",
    "    df['Category'] = sample_categories\n",
    "    df['Sample'] = expression.columns\n",
    "    chart = altair.Chart(df).mark_circle().\\\n",
    "                encode(x='Dim1',y='Dim2',color='Category',tooltip='Sample')\n",
    "    return chart"
   ]
  },
  {
   "cell_type": "code",
   "execution_count": null,
   "metadata": {},
   "outputs": [],
   "source": [
    "# Here is a plotting function that uses just matplotlib\n",
    "# Use this if you have trouble with Altair\n",
    "def plot_two_dimensions_mpl(data, categories):\n",
    "    categories = pd.Series(categories)\n",
    "    fig,ax = plt.subplots()\n",
    "    for category in categories.unique():\n",
    "        ax.scatter(data[categories==category, 0], \n",
    "                    data[categories==category, 1],\n",
    "                    label=category)\n",
    "    # Place the legend outside the plot, at x=1.05\n",
    "    # (where the plot runs from 0 to 1)\n",
    "    plt.legend(loc=(1.05,0))"
   ]
  },
  {
   "cell_type": "markdown",
   "metadata": {},
   "source": [
    "The following code performs PCA on the dataset. The `expression.values` extracts the values in the data frame as a matrix. The `.T` takes the transpose of the matrix (swaps rows and columns)."
   ]
  },
  {
   "cell_type": "code",
   "execution_count": null,
   "metadata": {},
   "outputs": [],
   "source": [
    "pca = PCA(n_components=2)\n",
    "expression_pca = pca.fit(expression.values.T).transform(expression.values.T)\n",
    "plot_two_dimensions(expression_pca, sample_categories)"
   ]
  },
  {
   "cell_type": "markdown",
   "metadata": {},
   "source": [
    "This code prints out the variance explained by component."
   ]
  },
  {
   "cell_type": "code",
   "execution_count": null,
   "metadata": {},
   "outputs": [],
   "source": [
    "print(pca.explained_variance_ratio_)"
   ]
  },
  {
   "cell_type": "markdown",
   "metadata": {},
   "source": [
    "This code makes a plot of the explained variance by component, like we saw on one of the lecture slides."
   ]
  },
  {
   "cell_type": "code",
   "execution_count": null,
   "metadata": {},
   "outputs": [],
   "source": [
    "plt.plot([x + 1 for x in range(len(pca.explained_variance_ratio_))], pca.explained_variance_ratio_, 'o-')\n",
    "plt.xlabel(\"principal component\")\n",
    "plt.ylabel(\"variance explained\")"
   ]
  },
  {
   "cell_type": "markdown",
   "metadata": {},
   "source": [
    "**Exercise:**\n",
    "\n",
    "Re-run the PCA with a higher number of dimensions and see how the plot of variance explained changes. How many components do you think are worth keeping if you were going to do this analysis?"
   ]
  },
  {
   "cell_type": "markdown",
   "metadata": {},
   "source": [
    "**Exercise:**\n",
    "\n",
    "Try creating an MDS plot using `MDS()`, which we imported from `sklearn.manifold`. All scikit-learn models use a consistent syntax, so the syntax is extremely similar to that for `PCA()`.\n",
    "\n",
    "Examine the documentation either online or just using `help(MDS)` in the notebook."
   ]
  },
  {
   "cell_type": "code",
   "execution_count": null,
   "metadata": {},
   "outputs": [],
   "source": [
    "### YOUR CODE HERE"
   ]
  },
  {
   "cell_type": "markdown",
   "metadata": {},
   "source": [
    "**Exercise:**\n",
    "\n",
    "Try creating a tSNE plot using `TSNE()`, which we imported from `sklearn.manifold`. All scikit-learn models use a consistent syntax, so the syntax is extremely similar to that for `PCA()`.\n",
    "\n",
    "Examine the documentation either online or just using `help(TSNE)` in the notebook.\n",
    "\n",
    "`TSNE()` takes several parameters: the most important is `perplexity`. Lower values of perplexity try hard to preserve local structure at the cost of global structure, and vice versa. From the documentation, what is the default value of `perplexity`? What happens if you redo your plot with it set to a much lower or much higher value?"
   ]
  },
  {
   "cell_type": "code",
   "execution_count": null,
   "metadata": {},
   "outputs": [],
   "source": [
    "### YOUR CODE HERE"
   ]
  },
  {
   "cell_type": "markdown",
   "metadata": {},
   "source": [
    "**Exercise:**\n",
    "\n",
    "Try creating a UMAP plot using `UMAP()`, which we imported from the `umap` library. `umap` is not part of scikit-learn, but it deliberately uses a similar syntax.\n",
    "\n",
    "Examine the documentation either online or just using `help(UMAP)` in the notebook.\n",
    "\n",
    "Look at the available parameters in the documentation. Try varying `n_neighbours` (which has a conceptual similarity to tSNE's `perplexity`) and `min_dist`."
   ]
  },
  {
   "cell_type": "code",
   "execution_count": null,
   "metadata": {},
   "outputs": [],
   "source": [
    "### YOUR CODE HERE"
   ]
  },
  {
   "cell_type": "code",
   "execution_count": null,
   "metadata": {},
   "outputs": [],
   "source": []
  }
 ],
 "metadata": {
  "kernelspec": {
   "display_name": "Python 3",
   "language": "python",
   "name": "python3"
  },
  "language_info": {
   "codemirror_mode": {
    "name": "ipython",
    "version": 3
   },
   "file_extension": ".py",
   "mimetype": "text/x-python",
   "name": "python",
   "nbconvert_exporter": "python",
   "pygments_lexer": "ipython3",
   "version": "3.6.5"
  }
 },
 "nbformat": 4,
 "nbformat_minor": 2
}
