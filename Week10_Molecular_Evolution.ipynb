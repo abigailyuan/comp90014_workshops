{
 "cells": [
  {
   "cell_type": "markdown",
   "metadata": {},
   "source": [
    "# Molecular evolution modeling\n",
    "*Matthew Wakefield*\n",
    "\n",
    "In this tutorial we are going to construct and assess a model of molecular evolution on a tree. To simplify the analysis we will use a specific simple tree shown below. \n",
    "\n",
    "\n",
    "```\n",
    "         Sequence1            Sequence2\n",
    "             \\                   /\n",
    "              \\                 /\n",
    "               \\               /\n",
    " length = t1    \\             / length = t2\n",
    "                 \\           /\n",
    "                  \\         /\n",
    "                   \\       /\n",
    "                   Ancestral\n",
    "```\n",
    "\n",
    "This tree is used as it has the fundamental features that would be iterated over when implementing a pruning algorithm."
   ]
  },
  {
   "cell_type": "code",
   "execution_count": 1,
   "metadata": {},
   "outputs": [],
   "source": [
    "sequence1 = 'GATCGATCGATCGATCGATCGATCGATCGATCGATCGATC'\n",
    "sequence2 = 'GATCGATCGATCGATCGATCGATCGATCGATCGATCGATC'"
   ]
  },
  {
   "cell_type": "markdown",
   "metadata": {},
   "source": [
    "We are going to construct a Q matrix for the modeling. We do this using numpy, the numerical library for python, and use the array data structure.  This is by default floats.\n",
    "As we will not be varying the mutation rate we dont need to keep remaking this matrix and it will be a constant in our calculations. Similarly because the JC69 assumes motif probabilities (base probabilities) are constant and equal we dont need to worry about varying them either. "
   ]
  },
  {
   "cell_type": "code",
   "execution_count": 2,
   "metadata": {
    "ExecuteTime": {
     "end_time": "2018-10-09T21:13:48.324895Z",
     "start_time": "2018-10-09T21:13:47.633201Z"
    }
   },
   "outputs": [],
   "source": [
    "%matplotlib inline"
   ]
  },
  {
   "cell_type": "code",
   "execution_count": 4,
   "metadata": {
    "ExecuteTime": {
     "end_time": "2018-10-09T21:14:21.407395Z",
     "start_time": "2018-10-09T21:14:21.403385Z"
    }
   },
   "outputs": [],
   "source": [
    "import matplotlib\n",
    "import matplotlib.pyplot as plt"
   ]
  },
  {
   "cell_type": "code",
   "execution_count": 2,
   "metadata": {},
   "outputs": [],
   "source": [
    "import numpy"
   ]
  },
  {
   "cell_type": "code",
   "execution_count": 3,
   "metadata": {},
   "outputs": [],
   "source": [
    "mu=1\n",
    "jc69Q = numpy.array([[-3.0*mu/4.0,     mu/4.0,     mu/4.0,     mu/4.0],\n",
    "                     [     mu/4.0,-3.0*mu/4.0,     mu/4.0,     mu/4.0],\n",
    "                     [     mu/4.0,     mu/4.0,-3.0*mu/4.0,     mu/4.0],\n",
    "                     [     mu/4.0,     mu/4.0,     mu/4.0,-3.0*mu/4.0],\n",
    "                    ])"
   ]
  },
  {
   "cell_type": "code",
   "execution_count": 4,
   "metadata": {},
   "outputs": [
    {
     "data": {
      "text/plain": [
       "array([[-0.75,  0.25,  0.25,  0.25],\n",
       "       [ 0.25, -0.75,  0.25,  0.25],\n",
       "       [ 0.25,  0.25, -0.75,  0.25],\n",
       "       [ 0.25,  0.25,  0.25, -0.75]])"
      ]
     },
     "execution_count": 4,
     "metadata": {},
     "output_type": "execute_result"
    }
   ],
   "source": [
    "jc69Q"
   ]
  },
  {
   "cell_type": "markdown",
   "metadata": {},
   "source": [
    "We will be multiplying the Q matrix by time (t) which is a scalar."
   ]
  },
  {
   "cell_type": "code",
   "execution_count": 6,
   "metadata": {},
   "outputs": [
    {
     "data": {
      "text/plain": [
       "array([[-2.25,  0.75,  0.75,  0.75],\n",
       "       [ 0.75, -2.25,  0.75,  0.75],\n",
       "       [ 0.75,  0.75, -2.25,  0.75],\n",
       "       [ 0.75,  0.75,  0.75, -2.25]])"
      ]
     },
     "execution_count": 6,
     "metadata": {},
     "output_type": "execute_result"
    }
   ],
   "source": [
    "jc69Q*3"
   ]
  },
  {
   "cell_type": "markdown",
   "metadata": {},
   "source": [
    "When calculating the probability we will need to get a single column of the matrix as this will be the ancestral node probabilities. To make this easy we can create a dictionary corresponding to the matrix index."
   ]
  },
  {
   "cell_type": "code",
   "execution_count": 5,
   "metadata": {},
   "outputs": [
    {
     "data": {
      "text/plain": [
       "array([-0.75,  0.25,  0.25,  0.25])"
      ]
     },
     "execution_count": 5,
     "metadata": {},
     "output_type": "execute_result"
    }
   ],
   "source": [
    "jc69Q[0]"
   ]
  },
  {
   "cell_type": "code",
   "execution_count": 6,
   "metadata": {},
   "outputs": [],
   "source": [
    "base_index = {'A':0,'G':1,'C':2,'T':3,}"
   ]
  },
  {
   "cell_type": "code",
   "execution_count": 7,
   "metadata": {},
   "outputs": [
    {
     "data": {
      "text/plain": [
       "array([-0.75,  0.25,  0.25,  0.25])"
      ]
     },
     "execution_count": 7,
     "metadata": {},
     "output_type": "execute_result"
    }
   ],
   "source": [
    "jc69Q[base_index['A']]"
   ]
  },
  {
   "cell_type": "code",
   "execution_count": 9,
   "metadata": {},
   "outputs": [
    {
     "data": {
      "text/plain": [
       "-0.75"
      ]
     },
     "execution_count": 9,
     "metadata": {},
     "output_type": "execute_result"
    }
   ],
   "source": [
    "# you can do multi dimensional lookups as well\n",
    "jc69Q[base_index['A']][base_index['A']]"
   ]
  },
  {
   "cell_type": "markdown",
   "metadata": {},
   "source": [
    "To calculate the probability across our tree we need to calculate five probabilities, the probability at each of the three nodes and the transition probability at each of the two branches.\n",
    "First we will calculate the probabilities of the tip nodes."
   ]
  },
  {
   "cell_type": "markdown",
   "metadata": {},
   "source": [
    "** Exercise 1:**\n",
    "\n",
    "Calculate the log-probability of each of the two tip nodes.\n",
    "\n",
    "The tip node probability is the product of the motif frequencies or $\\pi$ for\n",
    "each motif (i.e. each base in our sequence).  Under the Jukes-Cantor model this is the same for all\n",
    "motifs A, C, G, and T, with pi = 1/4 for each.  When accumulating probabilities across sites we want to multiply probabilities. However it is better to \n",
    "log the probabilities to avoid underflow, and sum the\n",
    "logs. We can then just keep the log of the probability.\n",
    "\n",
    "*Hints: under this model the probabilities of seq1 and seq2 will be the same*\n",
    "\n",
    "You will need numpy.log()."
   ]
  },
  {
   "cell_type": "code",
   "execution_count": null,
   "metadata": {
    "ExecuteTime": {
     "end_time": "2018-10-09T21:13:00.054666Z",
     "start_time": "2018-10-09T21:13:00.035087Z"
    }
   },
   "outputs": [],
   "source": [
    "def log_pr_seq(seq):\n",
    "    # Complete this function"
   ]
  },
  {
   "cell_type": "code",
   "execution_count": 23,
   "metadata": {},
   "outputs": [
    {
     "name": "stdout",
     "output_type": "stream",
     "text": [
      "-55.4517744448\n",
      "-55.4517744448\n",
      "8.27180612553e-25\n",
      "8.27180612553e-25\n"
     ]
    }
   ],
   "source": [
    "print(log_pr_seq(sequence1))\n",
    "print(log_pr_seq(sequence2))\n",
    "print(numpy.exp(log_pr_seq(sequence1)))\n",
    "print(numpy.exp(log_pr_seq(sequence2)))"
   ]
  },
  {
   "cell_type": "markdown",
   "metadata": {},
   "source": [
    "We now need to calculate the transition probability from each of the nodes, i.e. the matrix $P$. This is given by \n",
    "\n",
    "$$P = e^{tQ}$$\n",
    "\n",
    "We need to calculate the product of tQ and the exponential of the resulting matrix. To calculate the exponential we will use the scipy.linalg.expm() function that uses the Padé approximation."
   ]
  },
  {
   "cell_type": "code",
   "execution_count": 12,
   "metadata": {},
   "outputs": [],
   "source": [
    "from scipy.linalg import expm"
   ]
  },
  {
   "cell_type": "code",
   "execution_count": 13,
   "metadata": {},
   "outputs": [],
   "source": [
    "def make_transition_matrix(t, Q):\n",
    "    return expm(t*Q)"
   ]
  },
  {
   "cell_type": "markdown",
   "metadata": {},
   "source": [
    "You can see that after a very small time has passed, the chance of a base substitution is small (what do you expect to get if $t=0$?):"
   ]
  },
  {
   "cell_type": "code",
   "execution_count": 14,
   "metadata": {},
   "outputs": [
    {
     "data": {
      "text/plain": [
       "array([[ 0.99253738,  0.00248754,  0.00248754,  0.00248754],\n",
       "       [ 0.00248754,  0.99253738,  0.00248754,  0.00248754],\n",
       "       [ 0.00248754,  0.00248754,  0.99253738,  0.00248754],\n",
       "       [ 0.00248754,  0.00248754,  0.00248754,  0.99253738]])"
      ]
     },
     "execution_count": 14,
     "metadata": {},
     "output_type": "execute_result"
    }
   ],
   "source": [
    "make_transition_matrix(0.01, jc69Q)"
   ]
  },
  {
   "cell_type": "markdown",
   "metadata": {},
   "source": [
    "After a larger time has passed, the chance of a base substitution increases:"
   ]
  },
  {
   "cell_type": "code",
   "execution_count": 15,
   "metadata": {},
   "outputs": [
    {
     "data": {
      "text/plain": [
       "array([[ 0.35150146,  0.21616618,  0.21616618,  0.21616618],\n",
       "       [ 0.21616618,  0.35150146,  0.21616618,  0.21616618],\n",
       "       [ 0.21616618,  0.21616618,  0.35150146,  0.21616618],\n",
       "       [ 0.21616618,  0.21616618,  0.21616618,  0.35150146]])"
      ]
     },
     "execution_count": 15,
     "metadata": {},
     "output_type": "execute_result"
    }
   ],
   "source": [
    "make_transition_matrix(2, jc69Q)"
   ]
  },
  {
   "cell_type": "markdown",
   "metadata": {},
   "source": [
    "**Question:** What happens as you increase time `t` to larger and larger numbers? What does this mean?"
   ]
  },
  {
   "cell_type": "markdown",
   "metadata": {},
   "source": [
    "Next we need to apply the probability matrix across the sequence. To do this we will need a function that calculates the transition probability matrix, and then processes the probabilities for each site in the sequence.\n",
    "\n",
    "We will have two probabilites at the ancestral site, the probability of the transition to sequence1 and the probability of the transition to sequence2.\n",
    "As we are interested in the probability for both data points we will multiply these probabilities to get the combined probability of sequence1 and sequence2 at that site.\n",
    "\n",
    "If we know the motif at this site in the ancestral sequence, we can just multiply the probabilities:"
   ]
  },
  {
   "cell_type": "code",
   "execution_count": 15,
   "metadata": {},
   "outputs": [
    {
     "name": "stdout",
     "output_type": "stream",
     "text": [
      "0.0249735250559\n"
     ]
    }
   ],
   "source": [
    "# Leaf motifs (nucleotides)\n",
    "motif1 = 'A'\n",
    "motif2 = 'T'\n",
    "\n",
    "# Ancestral motif\n",
    "motif_ancestral = 'G'\n",
    "\n",
    "# Branch lengths\n",
    "t1 = 1\n",
    "t2 = 1\n",
    "\n",
    "# substitution rate matrix\n",
    "Q=jc69Q\n",
    "\n",
    "# Then we can calculate the probability of this data:\n",
    "\n",
    "P1 = make_transition_matrix(t1,Q)\n",
    "P2 = make_transition_matrix(t2,Q)\n",
    "\n",
    "prob_substitution1 = P1[base_index[motif1], base_index[motif_ancestral]]\n",
    "prob_substitution2 = P1[base_index[motif2], base_index[motif_ancestral]]\n",
    "probability = prob_substitution1 * prob_substitution2\n",
    "\n",
    "print(probability)"
   ]
  },
  {
   "cell_type": "markdown",
   "metadata": {},
   "source": [
    "We don't actually know the ancestral sequence. We need to generate the probability for each possible alternative ancestral motif (A, C, G or T), and sum these probabilities to get the total probability of this model.\n",
    "\n",
    "We can vectorise this efficiently with numpy's element-wise multiplication, by pulling the relevant rows out of `P1` and `P2` and multiplying them together:"
   ]
  },
  {
   "cell_type": "code",
   "execution_count": 18,
   "metadata": {},
   "outputs": [
    {
     "data": {
      "text/plain": [
       "array([ 0.52590958,  0.15803014,  0.15803014,  0.15803014])"
      ]
     },
     "execution_count": 18,
     "metadata": {},
     "output_type": "execute_result"
    }
   ],
   "source": [
    "P1[base_index[motif1]]"
   ]
  },
  {
   "cell_type": "code",
   "execution_count": 21,
   "metadata": {},
   "outputs": [
    {
     "data": {
      "text/plain": [
       "array([ 0.15803014,  0.15803014,  0.15803014,  0.52590958])"
      ]
     },
     "execution_count": 21,
     "metadata": {},
     "output_type": "execute_result"
    }
   ],
   "source": [
    "P2[base_index[motif2]]"
   ]
  },
  {
   "cell_type": "code",
   "execution_count": 20,
   "metadata": {},
   "outputs": [
    {
     "data": {
      "text/plain": [
       "array([ 0.08310956,  0.02497353,  0.02497353,  0.08310956])"
      ]
     },
     "execution_count": 20,
     "metadata": {},
     "output_type": "execute_result"
    }
   ],
   "source": [
    "P1[base_index[motif1]] * P2[base_index[motif2]]"
   ]
  },
  {
   "cell_type": "code",
   "execution_count": 22,
   "metadata": {},
   "outputs": [
    {
     "data": {
      "text/plain": [
       "0.21616617919084685"
      ]
     },
     "execution_count": 22,
     "metadata": {},
     "output_type": "execute_result"
    }
   ],
   "source": [
    "# This is the sum over all possible ancestral motifs\n",
    "sum(P1[base_index[motif1]] * P2[base_index[motif2]])"
   ]
  },
  {
   "cell_type": "markdown",
   "metadata": {},
   "source": [
    "Here's a function that puts that all together:"
   ]
  },
  {
   "cell_type": "code",
   "execution_count": 27,
   "metadata": {},
   "outputs": [],
   "source": [
    "def get_site_probability(motif1, motif2, t1, t2, Q=jc69Q):\n",
    "    base_index = {'A':0,'G':1,'C':2,'T':3,}\n",
    "    P1 = make_transition_matrix(t1,Q)\n",
    "    P2 = make_transition_matrix(t2,Q)\n",
    "    return sum(P1[base_index[motif1]]*P2[base_index[motif2]])"
   ]
  },
  {
   "cell_type": "code",
   "execution_count": 25,
   "metadata": {},
   "outputs": [
    {
     "data": {
      "text/plain": [
       "0.35150146242745961"
      ]
     },
     "execution_count": 25,
     "metadata": {},
     "output_type": "execute_result"
    }
   ],
   "source": [
    "get_site_probability('A','A',1,1)"
   ]
  },
  {
   "cell_type": "code",
   "execution_count": 26,
   "metadata": {},
   "outputs": [
    {
     "data": {
      "text/plain": [
       "0.21616617919084685"
      ]
     },
     "execution_count": 26,
     "metadata": {},
     "output_type": "execute_result"
    }
   ],
   "source": [
    "get_site_probability('A','T',1,1)"
   ]
  },
  {
   "cell_type": "markdown",
   "metadata": {},
   "source": [
    "The above gives the probability of the model for one motif (base) in the sequence.\n",
    "\n",
    "To get the likelihood of the entire sequence we need to iterate over each site in the sequence, take the log and accumulate the sum of the logs. This is equivalent to just multiplying the probabilities, but more numerically stable."
   ]
  },
  {
   "cell_type": "code",
   "execution_count": 30,
   "metadata": {},
   "outputs": [],
   "source": [
    "def get_sequence_loglikelihood(seq1, seq2,\n",
    "                               t1, t2,\n",
    "                               Q=jc69Q):\n",
    "    likelihood = 0\n",
    "    assert len(seq1)==len(seq2)\n",
    "    for i in range(len(seq1)):\n",
    "        likelihood += numpy.log(\n",
    "            get_site_probability(seq1[i],seq2[i],\n",
    "                                 t1,t2,Q))\n",
    "    # Technically we should multiply by tip probabilities too:\n",
    "    #likelihood += log_pr_seq(seq1) + log_pr_seq(seq2)\n",
    "    return likelihood"
   ]
  },
  {
   "cell_type": "code",
   "execution_count": 31,
   "metadata": {},
   "outputs": [
    {
     "data": {
      "text/plain": [
       "0.0"
      ]
     },
     "execution_count": 31,
     "metadata": {},
     "output_type": "execute_result"
    }
   ],
   "source": [
    "#This is a special case, identical sequences and zero branch length\n",
    "get_sequence_loglikelihood('AAAA','AAAA',0,0)"
   ]
  },
  {
   "cell_type": "code",
   "execution_count": 88,
   "metadata": {},
   "outputs": [
    {
     "data": {
      "text/plain": [
       "-3.5324468055704896"
      ]
     },
     "execution_count": 88,
     "metadata": {},
     "output_type": "execute_result"
    }
   ],
   "source": [
    "get_sequence_loglikelihood('AAAA','AATA',0.1,0.1)"
   ]
  },
  {
   "cell_type": "code",
   "execution_count": 89,
   "metadata": {},
   "outputs": [
    {
     "data": {
      "text/plain": [
       "-6.480386086500874"
      ]
     },
     "execution_count": 89,
     "metadata": {},
     "output_type": "execute_result"
    }
   ],
   "source": [
    "get_sequence_loglikelihood('AAAA','ACTA',0.1,0.1)"
   ]
  },
  {
   "cell_type": "markdown",
   "metadata": {},
   "source": [
    "The above code works as expected, however we end up doing lots of calls to the expensive expm function."
   ]
  },
  {
   "cell_type": "markdown",
   "metadata": {},
   "source": [
    "**Optional exercise:** Refactor the functions to reduce the number of calls to expm"
   ]
  },
  {
   "cell_type": "markdown",
   "metadata": {},
   "source": [
    "**Exercise 2:**\n",
    "\n",
    "Try some different sequences. Does it matter what the base changes are? If you have the same proportion of changes do you get the same results? Same proportion of conserved sites? What happens as the sequence gets longer? Does swapping t1 and t2 give the same likelihood result?\n"
   ]
  },
  {
   "cell_type": "markdown",
   "metadata": {},
   "source": [
    "**Exercise 3:**\n",
    "\n",
    "Plot the likelihood against t using a single value of t for both branch lengths. Do this for identical sequences and sequences with 25% difference."
   ]
  },
  {
   "cell_type": "code",
   "execution_count": 5,
   "metadata": {
    "ExecuteTime": {
     "end_time": "2018-10-09T21:14:43.103871Z",
     "start_time": "2018-10-09T21:14:43.098359Z"
    }
   },
   "outputs": [],
   "source": [
    "# Plot using e.g. plt.scatter"
   ]
  },
  {
   "cell_type": "code",
   "execution_count": 6,
   "metadata": {
    "ExecuteTime": {
     "end_time": "2018-10-09T21:15:10.721457Z",
     "start_time": "2018-10-09T21:15:10.717350Z"
    }
   },
   "outputs": [],
   "source": [
    "# Repeat your plot with tip sequences that are not identical \n",
    "# but roughly 25% different\n"
   ]
  }
 ],
 "metadata": {
  "kernelspec": {
   "display_name": "Python 3",
   "language": "python",
   "name": "python3"
  },
  "language_info": {
   "codemirror_mode": {
    "name": "ipython",
    "version": 3
   },
   "file_extension": ".py",
   "mimetype": "text/x-python",
   "name": "python",
   "nbconvert_exporter": "python",
   "pygments_lexer": "ipython3",
   "version": "3.6.3"
  },
  "toc": {
   "colors": {
    "hover_highlight": "#DAA520",
    "running_highlight": "#FF0000",
    "selected_highlight": "#FFD700"
   },
   "moveMenuLeft": true,
   "nav_menu": {
    "height": "30px",
    "width": "251.7391357421875px"
   },
   "navigate_menu": true,
   "number_sections": true,
   "sideBar": true,
   "threshold": 4,
   "toc_cell": false,
   "toc_section_display": "block",
   "toc_window_display": true
  },
  "varInspector": {
   "cols": {
    "lenName": 16,
    "lenType": 16,
    "lenVar": 40
   },
   "kernels_config": {
    "python": {
     "delete_cmd_postfix": "",
     "delete_cmd_prefix": "del ",
     "library": "var_list.py",
     "varRefreshCmd": "print(var_dic_list())"
    },
    "r": {
     "delete_cmd_postfix": ") ",
     "delete_cmd_prefix": "rm(",
     "library": "var_list.r",
     "varRefreshCmd": "cat(var_dic_list()) "
    }
   },
   "types_to_exclude": [
    "module",
    "function",
    "builtin_function_or_method",
    "instance",
    "_Feature"
   ],
   "window_display": false
  }
 },
 "nbformat": 4,
 "nbformat_minor": 2
}
